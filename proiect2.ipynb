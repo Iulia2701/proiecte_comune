{
  "nbformat": 4,
  "nbformat_minor": 0,
  "metadata": {
    "colab": {
      "name": "proiect2.ipynb",
      "provenance": [],
      "collapsed_sections": [],
      "toc_visible": true,
      "include_colab_link": true
    },
    "kernelspec": {
      "name": "python3",
      "display_name": "Python 3"
    }
  },
  "cells": [
    {
      "cell_type": "markdown",
      "metadata": {
        "id": "view-in-github",
        "colab_type": "text"
      },
      "source": [
        "<a href=\"https://colab.research.google.com/github/Iulia2701/proiecte_comune/blob/main/proiect2.ipynb\" target=\"_parent\"><img src=\"https://colab.research.google.com/assets/colab-badge.svg\" alt=\"Open In Colab\"/></a>"
      ]
    },
    {
      "cell_type": "markdown",
      "metadata": {
        "id": "duiRc3WQuKPs"
      },
      "source": [
        "# **💬Introducere**"
      ]
    },
    {
      "cell_type": "markdown",
      "metadata": {
        "id": "Z3JRSY4LuWkE"
      },
      "source": [
        "*Spotify a lansat un concurs de modele de Machine Learning care trebuie să predicteze popularitatea cântecelor noi apărute pe piață. Acest model va ajuta compania să-și îmbunătățească sistemul de recomandare a cântecelor pentru clienții săi.*\n",
        "\n",
        "Noi, echipa ***SpotyPy*** vom analiza în continuare setul de date și vom crea cele mai veridice modele. welcome to our project!"
      ]
    },
    {
      "cell_type": "markdown",
      "metadata": {
        "id": "SSbXALYWTtQW"
      },
      "source": [
        "Vor fi studiate următoarele calități ale cântecelor:\n",
        "\n",
        "*   acousticness - probabilitatea ca track-ul a acustic (de la 0 la 1)\n",
        "*   danceability - cat de potrivit e cantecul pentru dans (de la 0 la 1)\n",
        "*   duration_ms - durata cantecului in milisecunde\n",
        "*   energy - energia track-ului, reprezentata de viteza, volum, dinamica (de la 0 la 1)\n",
        "*   explicit - prezenta continutului explicit (necenzurat), (0 - absenta, 1 - prezenta)\n",
        "*   instrumentalness - tendinta track-ului de a fi pur instrumental (dde la 0 la 1)\n",
        "*   key - tonalitatea melodiei\n",
        "*   "
      ]
    },
    {
      "cell_type": "markdown",
      "metadata": {
        "id": "44IMqIrBupnN"
      },
      "source": [
        "# **📊Lucram cu baza de date**"
      ]
    },
    {
      "cell_type": "markdown",
      "metadata": {
        "id": "l5WgKQ188Vme"
      },
      "source": [
        "Importăm librăriile necesare:"
      ]
    },
    {
      "cell_type": "code",
      "metadata": {
        "id": "PtoqdesdnJGI",
        "colab": {
          "base_uri": "https://localhost:8080/",
          "height": 51
        },
        "outputId": "bd0cf0f4-52a5-458f-e3d8-7c4d4a169c38"
      },
      "source": [
        "import matplotlib.pyplot as plt\n",
        "import numpy as np\n",
        "import pandas as pd\n",
        "import seaborn as sns"
      ],
      "execution_count": null,
      "outputs": [
        {
          "output_type": "stream",
          "text": [
            "/usr/local/lib/python3.6/dist-packages/statsmodels/tools/_testing.py:19: FutureWarning: pandas.util.testing is deprecated. Use the functions in the public API at pandas.testing instead.\n",
            "  import pandas.util.testing as tm\n"
          ],
          "name": "stderr"
        }
      ]
    },
    {
      "cell_type": "markdown",
      "metadata": {
        "id": "x2CbniUc8sTb"
      },
      "source": [
        "## **Citirea documentului CSV**"
      ]
    },
    {
      "cell_type": "markdown",
      "metadata": {
        "id": "sDKI7paCR5LE"
      },
      "source": [
        "Am salvat CSV-ul pe drive, apo îl citim de acolo:"
      ]
    },
    {
      "cell_type": "code",
      "metadata": {
        "id": "OQCjVR2isJLx"
      },
      "source": [
        "train =  pd.read_csv('https://drive.google.com/uc?export=download&id=1WPJ5atvroRikmTyS512dg_c3PPKuriFH')\n",
        "train.head()"
      ],
      "execution_count": null,
      "outputs": []
    },
    {
      "cell_type": "markdown",
      "metadata": {
        "id": "eo6hk_3XR5HU"
      },
      "source": [
        "## **Curatirea datelor**"
      ]
    },
    {
      "cell_type": "markdown",
      "metadata": {
        "id": "UbKAX6i4TDHy"
      },
      "source": [
        "### **Datele lipsa**"
      ]
    },
    {
      "cell_type": "markdown",
      "metadata": {
        "id": "p3PIKl6zSXAg"
      },
      "source": [
        "Cautam cate date lipsa sunt in fiecare coloana:"
      ]
    },
    {
      "cell_type": "code",
      "metadata": {
        "id": "ObZF6z7tR9D2",
        "colab": {
          "base_uri": "https://localhost:8080/",
          "height": 358
        },
        "outputId": "25489db2-4c48-42db-d36e-531f684b2033"
      },
      "source": [
        "train.isnull().sum()"
      ],
      "execution_count": null,
      "outputs": [
        {
          "output_type": "execute_result",
          "data": {
            "text/plain": [
              "ID                  0\n",
              "acousticness        0\n",
              "artists             0\n",
              "danceability        0\n",
              "duration_ms         0\n",
              "energy              0\n",
              "explicit            0\n",
              "instrumentalness    0\n",
              "key                 0\n",
              "liveness            0\n",
              "loudness            0\n",
              "mode                0\n",
              "name                0\n",
              "release_date        0\n",
              "speechiness         0\n",
              "tempo               0\n",
              "valence             0\n",
              "year                0\n",
              "popularity          0\n",
              "dtype: int64"
            ]
          },
          "metadata": {
            "tags": []
          },
          "execution_count": 4
        }
      ]
    },
    {
      "cell_type": "markdown",
      "metadata": {
        "id": "Dp6NfEyWEZXD"
      },
      "source": [
        "Am observat analizand dataFrame-ul ca unele cantece au tempoul 0. Am decis sa analizam cauzele si sa inlaturam cantecele in care aceasta informatie e eronata. "
      ]
    },
    {
      "cell_type": "code",
      "metadata": {
        "id": "WQuOfXh-uVE2",
        "colab": {
          "base_uri": "https://localhost:8080/",
          "height": 814
        },
        "outputId": "4242e226-57a1-4b86-9b72-40a87cbb0f44"
      },
      "source": [
        "train_w = train['tempo'] ==0\n",
        "train_top_r=train[train_w]\n",
        "train_top_r"
      ],
      "execution_count": null,
      "outputs": [
        {
          "output_type": "execute_result",
          "data": {
            "text/html": [
              "<div>\n",
              "<style scoped>\n",
              "    .dataframe tbody tr th:only-of-type {\n",
              "        vertical-align: middle;\n",
              "    }\n",
              "\n",
              "    .dataframe tbody tr th {\n",
              "        vertical-align: top;\n",
              "    }\n",
              "\n",
              "    .dataframe thead th {\n",
              "        text-align: right;\n",
              "    }\n",
              "</style>\n",
              "<table border=\"1\" class=\"dataframe\">\n",
              "  <thead>\n",
              "    <tr style=\"text-align: right;\">\n",
              "      <th></th>\n",
              "      <th>ID</th>\n",
              "      <th>acousticness</th>\n",
              "      <th>artists</th>\n",
              "      <th>danceability</th>\n",
              "      <th>duration_ms</th>\n",
              "      <th>energy</th>\n",
              "      <th>explicit</th>\n",
              "      <th>instrumentalness</th>\n",
              "      <th>key</th>\n",
              "      <th>liveness</th>\n",
              "      <th>loudness</th>\n",
              "      <th>mode</th>\n",
              "      <th>name</th>\n",
              "      <th>release_date</th>\n",
              "      <th>speechiness</th>\n",
              "      <th>tempo</th>\n",
              "      <th>valence</th>\n",
              "      <th>year</th>\n",
              "      <th>popularity</th>\n",
              "    </tr>\n",
              "  </thead>\n",
              "  <tbody>\n",
              "    <tr>\n",
              "      <th>99</th>\n",
              "      <td>56768</td>\n",
              "      <td>0.297</td>\n",
              "      <td>['Patricia St. John']</td>\n",
              "      <td>0.0</td>\n",
              "      <td>120900</td>\n",
              "      <td>0.370000</td>\n",
              "      <td>0</td>\n",
              "      <td>0.000004</td>\n",
              "      <td>9</td>\n",
              "      <td>0.4010</td>\n",
              "      <td>-13.133</td>\n",
              "      <td>1</td>\n",
              "      <td>Kapitel 88 - Hamid und Kinza</td>\n",
              "      <td>1955</td>\n",
              "      <td>0.0</td>\n",
              "      <td>0.0</td>\n",
              "      <td>0.0</td>\n",
              "      <td>1955</td>\n",
              "      <td>0</td>\n",
              "    </tr>\n",
              "    <tr>\n",
              "      <th>164</th>\n",
              "      <td>23862</td>\n",
              "      <td>0.872</td>\n",
              "      <td>['Granular']</td>\n",
              "      <td>0.0</td>\n",
              "      <td>104516</td>\n",
              "      <td>0.000020</td>\n",
              "      <td>0</td>\n",
              "      <td>1.000000</td>\n",
              "      <td>1</td>\n",
              "      <td>0.0954</td>\n",
              "      <td>-27.194</td>\n",
              "      <td>1</td>\n",
              "      <td>White Noise - BP 228 hz</td>\n",
              "      <td>2017-10-14</td>\n",
              "      <td>0.0</td>\n",
              "      <td>0.0</td>\n",
              "      <td>0.0</td>\n",
              "      <td>2017</td>\n",
              "      <td>6</td>\n",
              "    </tr>\n",
              "    <tr>\n",
              "      <th>195</th>\n",
              "      <td>69985</td>\n",
              "      <td>0.112</td>\n",
              "      <td>['Spa', 'Spa, Relaxation and Dreams', 'Relax M...</td>\n",
              "      <td>0.0</td>\n",
              "      <td>72652</td>\n",
              "      <td>0.000020</td>\n",
              "      <td>0</td>\n",
              "      <td>0.331000</td>\n",
              "      <td>9</td>\n",
              "      <td>0.6630</td>\n",
              "      <td>-8.327</td>\n",
              "      <td>1</td>\n",
              "      <td>Clean White Noise</td>\n",
              "      <td>2014-10-08</td>\n",
              "      <td>0.0</td>\n",
              "      <td>0.0</td>\n",
              "      <td>0.0</td>\n",
              "      <td>2014</td>\n",
              "      <td>5</td>\n",
              "    </tr>\n",
              "    <tr>\n",
              "      <th>777</th>\n",
              "      <td>31894</td>\n",
              "      <td>0.420</td>\n",
              "      <td>['Granular']</td>\n",
              "      <td>0.0</td>\n",
              "      <td>180656</td>\n",
              "      <td>0.001720</td>\n",
              "      <td>0</td>\n",
              "      <td>0.399000</td>\n",
              "      <td>4</td>\n",
              "      <td>0.1100</td>\n",
              "      <td>-27.848</td>\n",
              "      <td>0</td>\n",
              "      <td>Pink Noise - BP 240 hz</td>\n",
              "      <td>2017-11-24</td>\n",
              "      <td>0.0</td>\n",
              "      <td>0.0</td>\n",
              "      <td>0.0</td>\n",
              "      <td>2017</td>\n",
              "      <td>6</td>\n",
              "    </tr>\n",
              "    <tr>\n",
              "      <th>979</th>\n",
              "      <td>39706</td>\n",
              "      <td>0.745</td>\n",
              "      <td>['Natural White Noise Relaxation']</td>\n",
              "      <td>0.0</td>\n",
              "      <td>178013</td>\n",
              "      <td>0.000599</td>\n",
              "      <td>0</td>\n",
              "      <td>0.998000</td>\n",
              "      <td>8</td>\n",
              "      <td>0.1390</td>\n",
              "      <td>-18.318</td>\n",
              "      <td>0</td>\n",
              "      <td>Soothing White and Brown Noise: Sounds for Get...</td>\n",
              "      <td>2015-02-19</td>\n",
              "      <td>0.0</td>\n",
              "      <td>0.0</td>\n",
              "      <td>0.0</td>\n",
              "      <td>2015</td>\n",
              "      <td>6</td>\n",
              "    </tr>\n",
              "    <tr>\n",
              "      <th>...</th>\n",
              "      <td>...</td>\n",
              "      <td>...</td>\n",
              "      <td>...</td>\n",
              "      <td>...</td>\n",
              "      <td>...</td>\n",
              "      <td>...</td>\n",
              "      <td>...</td>\n",
              "      <td>...</td>\n",
              "      <td>...</td>\n",
              "      <td>...</td>\n",
              "      <td>...</td>\n",
              "      <td>...</td>\n",
              "      <td>...</td>\n",
              "      <td>...</td>\n",
              "      <td>...</td>\n",
              "      <td>...</td>\n",
              "      <td>...</td>\n",
              "      <td>...</td>\n",
              "      <td>...</td>\n",
              "    </tr>\n",
              "    <tr>\n",
              "      <th>113220</th>\n",
              "      <td>162730</td>\n",
              "      <td>0.951</td>\n",
              "      <td>['Igor Stravinsky', 'Columbia Symphony Orchest...</td>\n",
              "      <td>0.0</td>\n",
              "      <td>63373</td>\n",
              "      <td>0.126000</td>\n",
              "      <td>0</td>\n",
              "      <td>0.689000</td>\n",
              "      <td>8</td>\n",
              "      <td>0.6080</td>\n",
              "      <td>-16.260</td>\n",
              "      <td>1</td>\n",
              "      <td>L'Oiseau de feu: Dialogue de Kachtchei avec Iv...</td>\n",
              "      <td>1948</td>\n",
              "      <td>0.0</td>\n",
              "      <td>0.0</td>\n",
              "      <td>0.0</td>\n",
              "      <td>1948</td>\n",
              "      <td>0</td>\n",
              "    </tr>\n",
              "    <tr>\n",
              "      <th>114903</th>\n",
              "      <td>82409</td>\n",
              "      <td>0.842</td>\n",
              "      <td>['Louis Armstrong']</td>\n",
              "      <td>0.0</td>\n",
              "      <td>147000</td>\n",
              "      <td>0.405000</td>\n",
              "      <td>0</td>\n",
              "      <td>0.001140</td>\n",
              "      <td>0</td>\n",
              "      <td>0.1980</td>\n",
              "      <td>-9.935</td>\n",
              "      <td>1</td>\n",
              "      <td>Hello, Dolly!</td>\n",
              "      <td>1964-10-25</td>\n",
              "      <td>0.0</td>\n",
              "      <td>0.0</td>\n",
              "      <td>0.0</td>\n",
              "      <td>1964</td>\n",
              "      <td>6</td>\n",
              "    </tr>\n",
              "    <tr>\n",
              "      <th>116478</th>\n",
              "      <td>100483</td>\n",
              "      <td>0.943</td>\n",
              "      <td>['Jean Ritchie']</td>\n",
              "      <td>0.0</td>\n",
              "      <td>95253</td>\n",
              "      <td>0.030800</td>\n",
              "      <td>0</td>\n",
              "      <td>0.000000</td>\n",
              "      <td>9</td>\n",
              "      <td>0.1430</td>\n",
              "      <td>-22.440</td>\n",
              "      <td>1</td>\n",
              "      <td>One Morning in May - Another Version</td>\n",
              "      <td>1952</td>\n",
              "      <td>0.0</td>\n",
              "      <td>0.0</td>\n",
              "      <td>0.0</td>\n",
              "      <td>1952</td>\n",
              "      <td>1</td>\n",
              "    </tr>\n",
              "    <tr>\n",
              "      <th>117163</th>\n",
              "      <td>169770</td>\n",
              "      <td>0.957</td>\n",
              "      <td>['Granular']</td>\n",
              "      <td>0.0</td>\n",
              "      <td>146061</td>\n",
              "      <td>0.148000</td>\n",
              "      <td>0</td>\n",
              "      <td>0.168000</td>\n",
              "      <td>5</td>\n",
              "      <td>0.1120</td>\n",
              "      <td>-22.012</td>\n",
              "      <td>1</td>\n",
              "      <td>Brown Noise 750 LPF</td>\n",
              "      <td>2019-01-11</td>\n",
              "      <td>0.0</td>\n",
              "      <td>0.0</td>\n",
              "      <td>0.0</td>\n",
              "      <td>2019</td>\n",
              "      <td>7</td>\n",
              "    </tr>\n",
              "    <tr>\n",
              "      <th>118031</th>\n",
              "      <td>161177</td>\n",
              "      <td>0.993</td>\n",
              "      <td>['Lila Om']</td>\n",
              "      <td>0.0</td>\n",
              "      <td>156506</td>\n",
              "      <td>0.512000</td>\n",
              "      <td>0</td>\n",
              "      <td>0.457000</td>\n",
              "      <td>10</td>\n",
              "      <td>0.1820</td>\n",
              "      <td>-50.174</td>\n",
              "      <td>1</td>\n",
              "      <td>Dulled White Noise</td>\n",
              "      <td>2017-05-07</td>\n",
              "      <td>0.0</td>\n",
              "      <td>0.0</td>\n",
              "      <td>0.0</td>\n",
              "      <td>2017</td>\n",
              "      <td>6</td>\n",
              "    </tr>\n",
              "  </tbody>\n",
              "</table>\n",
              "<p>103 rows × 19 columns</p>\n",
              "</div>"
            ],
            "text/plain": [
              "            ID  acousticness  ...  year  popularity\n",
              "99       56768         0.297  ...  1955           0\n",
              "164      23862         0.872  ...  2017           6\n",
              "195      69985         0.112  ...  2014           5\n",
              "777      31894         0.420  ...  2017           6\n",
              "979      39706         0.745  ...  2015           6\n",
              "...        ...           ...  ...   ...         ...\n",
              "113220  162730         0.951  ...  1948           0\n",
              "114903   82409         0.842  ...  1964           6\n",
              "116478  100483         0.943  ...  1952           1\n",
              "117163  169770         0.957  ...  2019           7\n",
              "118031  161177         0.993  ...  2017           6\n",
              "\n",
              "[103 rows x 19 columns]"
            ]
          },
          "metadata": {
            "tags": []
          },
          "execution_count": 5
        }
      ]
    },
    {
      "cell_type": "markdown",
      "metadata": {
        "id": "pR970GrhvTz4"
      },
      "source": [
        "Avem 103 cantece cu tempoul 0, dar unele sunt cantece speciale, asa numitele 'white noises'. Vom fac diferenta dintre ele."
      ]
    },
    {
      "cell_type": "code",
      "metadata": {
        "id": "1vs88RE-xBSA",
        "colab": {
          "base_uri": "https://localhost:8080/",
          "height": 34
        },
        "outputId": "5f832b43-3cea-42bf-8c78-417ec33b241b"
      },
      "source": [
        "white_noises=train_top_r[train_top_r['name'].str.contains(\"Noise\")]\n",
        "white_noises.shape[0]"
      ],
      "execution_count": null,
      "outputs": [
        {
          "output_type": "execute_result",
          "data": {
            "text/plain": [
              "31"
            ]
          },
          "metadata": {
            "tags": []
          },
          "execution_count": 6
        }
      ]
    },
    {
      "cell_type": "markdown",
      "metadata": {
        "id": "b-dszZpYFEbo"
      },
      "source": [
        "Avem 31 de cantece care au tempoul 0 special. Celelate le consideram date eronate. "
      ]
    },
    {
      "cell_type": "code",
      "metadata": {
        "id": "DnjhCxxV9wFi",
        "colab": {
          "base_uri": "https://localhost:8080/",
          "height": 34
        },
        "outputId": "27348338-1cc6-48a3-a80e-8c1a450be81f"
      },
      "source": [
        "bad_stuff=pd.concat([train_top_r, white_noises]).drop_duplicates(keep=False)\n",
        "bad_stuff.shape[0]\n"
      ],
      "execution_count": null,
      "outputs": [
        {
          "output_type": "execute_result",
          "data": {
            "text/plain": [
              "72"
            ]
          },
          "metadata": {
            "tags": []
          },
          "execution_count": 7
        }
      ]
    },
    {
      "cell_type": "markdown",
      "metadata": {
        "id": "z7ELto0IFObd"
      },
      "source": [
        "Avem doar 72 de cantece cu date eronate, le putem sterge fara a pierde date statistice importante."
      ]
    },
    {
      "cell_type": "code",
      "metadata": {
        "id": "lU8PPE0YANGf",
        "colab": {
          "base_uri": "https://localhost:8080/",
          "height": 34
        },
        "outputId": "20666ddc-53df-4a52-9e63-83fd0673ef0f"
      },
      "source": [
        "train.shape[0]"
      ],
      "execution_count": null,
      "outputs": [
        {
          "output_type": "execute_result",
          "data": {
            "text/plain": [
              "118936"
            ]
          },
          "metadata": {
            "tags": []
          },
          "execution_count": 8
        }
      ]
    },
    {
      "cell_type": "code",
      "metadata": {
        "id": "LC4B5B-ZAP0u",
        "colab": {
          "base_uri": "https://localhost:8080/",
          "height": 34
        },
        "outputId": "7609e527-cdb9-4602-9066-17f23e9fc860"
      },
      "source": [
        "train=pd.concat([train, bad_stuff]).drop_duplicates(keep=False)\n",
        "train.shape[0]"
      ],
      "execution_count": null,
      "outputs": [
        {
          "output_type": "execute_result",
          "data": {
            "text/plain": [
              "118864"
            ]
          },
          "metadata": {
            "tags": []
          },
          "execution_count": 9
        }
      ]
    },
    {
      "cell_type": "markdown",
      "metadata": {
        "id": "wONTirloAl2-"
      },
      "source": [
        "Astfel, am extras 72 de cantece cu erori la indicarea tempoului, si am ramas cu 118864 de cantece. "
      ]
    },
    {
      "cell_type": "markdown",
      "metadata": {
        "id": "7j7JZPjpczga"
      },
      "source": [
        "### **Duplicate**"
      ]
    },
    {
      "cell_type": "markdown",
      "metadata": {
        "id": "VP3-R0_SRKLj"
      },
      "source": [
        "Aflăm întâi câte coloane și rânduri sunt în DataFrame-ul nostru:"
      ]
    },
    {
      "cell_type": "code",
      "metadata": {
        "id": "1dmuLE06RHB_",
        "colab": {
          "base_uri": "https://localhost:8080/",
          "height": 34
        },
        "outputId": "d81806e0-6988-43ce-baba-fb13533cfc27"
      },
      "source": [
        "train.shape"
      ],
      "execution_count": null,
      "outputs": [
        {
          "output_type": "execute_result",
          "data": {
            "text/plain": [
              "(118864, 19)"
            ]
          },
          "metadata": {
            "tags": []
          },
          "execution_count": 10
        }
      ]
    },
    {
      "cell_type": "markdown",
      "metadata": {
        "id": "DegjtbasShiU"
      },
      "source": [
        "Cercetam coloanele pe care le avem:"
      ]
    },
    {
      "cell_type": "code",
      "metadata": {
        "id": "BGIFgp-kSlT5",
        "colab": {
          "base_uri": "https://localhost:8080/",
          "height": 102
        },
        "outputId": "50a7f5df-e68b-45a4-e2d2-fd4fb3631352"
      },
      "source": [
        "train.columns"
      ],
      "execution_count": null,
      "outputs": [
        {
          "output_type": "execute_result",
          "data": {
            "text/plain": [
              "Index(['ID', 'acousticness', 'artists', 'danceability', 'duration_ms',\n",
              "       'energy', 'explicit', 'instrumentalness', 'key', 'liveness', 'loudness',\n",
              "       'mode', 'name', 'release_date', 'speechiness', 'tempo', 'valence',\n",
              "       'year', 'popularity'],\n",
              "      dtype='object')"
            ]
          },
          "metadata": {
            "tags": []
          },
          "execution_count": 11
        }
      ]
    },
    {
      "cell_type": "code",
      "metadata": {
        "id": "c14HBfarUCe_",
        "colab": {
          "base_uri": "https://localhost:8080/",
          "height": 48
        },
        "outputId": "f688f0a6-48fc-42bc-c8ef-2798ceabdf50"
      },
      "source": [
        "train[train.duplicated(keep=False)]"
      ],
      "execution_count": null,
      "outputs": [
        {
          "output_type": "execute_result",
          "data": {
            "text/html": [
              "<div>\n",
              "<style scoped>\n",
              "    .dataframe tbody tr th:only-of-type {\n",
              "        vertical-align: middle;\n",
              "    }\n",
              "\n",
              "    .dataframe tbody tr th {\n",
              "        vertical-align: top;\n",
              "    }\n",
              "\n",
              "    .dataframe thead th {\n",
              "        text-align: right;\n",
              "    }\n",
              "</style>\n",
              "<table border=\"1\" class=\"dataframe\">\n",
              "  <thead>\n",
              "    <tr style=\"text-align: right;\">\n",
              "      <th></th>\n",
              "      <th>ID</th>\n",
              "      <th>acousticness</th>\n",
              "      <th>artists</th>\n",
              "      <th>danceability</th>\n",
              "      <th>duration_ms</th>\n",
              "      <th>energy</th>\n",
              "      <th>explicit</th>\n",
              "      <th>instrumentalness</th>\n",
              "      <th>key</th>\n",
              "      <th>liveness</th>\n",
              "      <th>loudness</th>\n",
              "      <th>mode</th>\n",
              "      <th>name</th>\n",
              "      <th>release_date</th>\n",
              "      <th>speechiness</th>\n",
              "      <th>tempo</th>\n",
              "      <th>valence</th>\n",
              "      <th>year</th>\n",
              "      <th>popularity</th>\n",
              "    </tr>\n",
              "  </thead>\n",
              "  <tbody>\n",
              "  </tbody>\n",
              "</table>\n",
              "</div>"
            ],
            "text/plain": [
              "Empty DataFrame\n",
              "Columns: [ID, acousticness, artists, danceability, duration_ms, energy, explicit, instrumentalness, key, liveness, loudness, mode, name, release_date, speechiness, tempo, valence, year, popularity]\n",
              "Index: []"
            ]
          },
          "metadata": {
            "tags": []
          },
          "execution_count": 12
        }
      ]
    },
    {
      "cell_type": "markdown",
      "metadata": {
        "id": "injsGMJ42zB0"
      },
      "source": [
        "💡Nu avem duplicate la momentul dat."
      ]
    },
    {
      "cell_type": "markdown",
      "metadata": {
        "id": "DpTmMv1iV3Br"
      },
      "source": [
        "**Cautam duplicate, dar cu id diferit:**"
      ]
    },
    {
      "cell_type": "code",
      "metadata": {
        "id": "36TSfr-wVGBk"
      },
      "source": [
        "train_x=train.loc[:, \"acousticness\":\"popularity\"]"
      ],
      "execution_count": null,
      "outputs": []
    },
    {
      "cell_type": "code",
      "metadata": {
        "id": "OlQE60nsVn6g",
        "colab": {
          "base_uri": "https://localhost:8080/",
          "height": 797
        },
        "outputId": "0fca1129-a841-43b7-e210-e1dc061d3d8d"
      },
      "source": [
        "train_x_duplicat=train_x[train_x.duplicated(keep='first')]\n",
        "train_x_duplicat"
      ],
      "execution_count": null,
      "outputs": [
        {
          "output_type": "execute_result",
          "data": {
            "text/html": [
              "<div>\n",
              "<style scoped>\n",
              "    .dataframe tbody tr th:only-of-type {\n",
              "        vertical-align: middle;\n",
              "    }\n",
              "\n",
              "    .dataframe tbody tr th {\n",
              "        vertical-align: top;\n",
              "    }\n",
              "\n",
              "    .dataframe thead th {\n",
              "        text-align: right;\n",
              "    }\n",
              "</style>\n",
              "<table border=\"1\" class=\"dataframe\">\n",
              "  <thead>\n",
              "    <tr style=\"text-align: right;\">\n",
              "      <th></th>\n",
              "      <th>acousticness</th>\n",
              "      <th>artists</th>\n",
              "      <th>danceability</th>\n",
              "      <th>duration_ms</th>\n",
              "      <th>energy</th>\n",
              "      <th>explicit</th>\n",
              "      <th>instrumentalness</th>\n",
              "      <th>key</th>\n",
              "      <th>liveness</th>\n",
              "      <th>loudness</th>\n",
              "      <th>mode</th>\n",
              "      <th>name</th>\n",
              "      <th>release_date</th>\n",
              "      <th>speechiness</th>\n",
              "      <th>tempo</th>\n",
              "      <th>valence</th>\n",
              "      <th>year</th>\n",
              "      <th>popularity</th>\n",
              "    </tr>\n",
              "  </thead>\n",
              "  <tbody>\n",
              "    <tr>\n",
              "      <th>6184</th>\n",
              "      <td>0.995</td>\n",
              "      <td>['Sergei Rachmaninoff', 'William Kapell', 'Fri...</td>\n",
              "      <td>0.217</td>\n",
              "      <td>95773</td>\n",
              "      <td>0.0887</td>\n",
              "      <td>0</td>\n",
              "      <td>0.909000</td>\n",
              "      <td>6</td>\n",
              "      <td>0.1000</td>\n",
              "      <td>-25.614</td>\n",
              "      <td>1</td>\n",
              "      <td>Rhapsody on a Theme of Paganini, Op.43: Variat...</td>\n",
              "      <td>1945</td>\n",
              "      <td>0.0362</td>\n",
              "      <td>131.292</td>\n",
              "      <td>0.0467</td>\n",
              "      <td>1945</td>\n",
              "      <td>0</td>\n",
              "    </tr>\n",
              "    <tr>\n",
              "      <th>6793</th>\n",
              "      <td>0.562</td>\n",
              "      <td>['Charlie Chaplin']</td>\n",
              "      <td>0.203</td>\n",
              "      <td>570203</td>\n",
              "      <td>0.4180</td>\n",
              "      <td>0</td>\n",
              "      <td>0.837000</td>\n",
              "      <td>11</td>\n",
              "      <td>0.1030</td>\n",
              "      <td>-6.824</td>\n",
              "      <td>1</td>\n",
              "      <td>Money for the Girl / The Flower Shop</td>\n",
              "      <td>1931</td>\n",
              "      <td>0.0392</td>\n",
              "      <td>89.150</td>\n",
              "      <td>0.1820</td>\n",
              "      <td>1931</td>\n",
              "      <td>0</td>\n",
              "    </tr>\n",
              "    <tr>\n",
              "      <th>10290</th>\n",
              "      <td>0.977</td>\n",
              "      <td>['Giuseppe Verdi', 'Mario Rossi', 'Orchestra S...</td>\n",
              "      <td>0.398</td>\n",
              "      <td>304133</td>\n",
              "      <td>0.1190</td>\n",
              "      <td>0</td>\n",
              "      <td>0.000009</td>\n",
              "      <td>1</td>\n",
              "      <td>0.3560</td>\n",
              "      <td>-19.864</td>\n",
              "      <td>1</td>\n",
              "      <td>Verdi : Luisa Miller : Act 3 \"La tomba è un le...</td>\n",
              "      <td>1951</td>\n",
              "      <td>0.0967</td>\n",
              "      <td>97.116</td>\n",
              "      <td>0.1020</td>\n",
              "      <td>1951</td>\n",
              "      <td>0</td>\n",
              "    </tr>\n",
              "    <tr>\n",
              "      <th>12402</th>\n",
              "      <td>0.994</td>\n",
              "      <td>['Frédéric Chopin', 'William Kapell']</td>\n",
              "      <td>0.401</td>\n",
              "      <td>170160</td>\n",
              "      <td>0.2090</td>\n",
              "      <td>0</td>\n",
              "      <td>0.889000</td>\n",
              "      <td>8</td>\n",
              "      <td>0.0907</td>\n",
              "      <td>-19.496</td>\n",
              "      <td>1</td>\n",
              "      <td>Mazurka, Op.50, No. 2 in A-Flat</td>\n",
              "      <td>1945</td>\n",
              "      <td>0.0312</td>\n",
              "      <td>130.725</td>\n",
              "      <td>0.1190</td>\n",
              "      <td>1945</td>\n",
              "      <td>0</td>\n",
              "    </tr>\n",
              "    <tr>\n",
              "      <th>12575</th>\n",
              "      <td>0.882</td>\n",
              "      <td>['Giuseppe Verdi', 'Mario Rossi', 'Orchestra S...</td>\n",
              "      <td>0.560</td>\n",
              "      <td>68507</td>\n",
              "      <td>0.0734</td>\n",
              "      <td>0</td>\n",
              "      <td>0.008330</td>\n",
              "      <td>2</td>\n",
              "      <td>0.1370</td>\n",
              "      <td>-25.874</td>\n",
              "      <td>1</td>\n",
              "      <td>Verdi : Luisa Miller : Act 1 Introduzione [Orc...</td>\n",
              "      <td>1951</td>\n",
              "      <td>0.1820</td>\n",
              "      <td>133.706</td>\n",
              "      <td>0.1520</td>\n",
              "      <td>1951</td>\n",
              "      <td>0</td>\n",
              "    </tr>\n",
              "    <tr>\n",
              "      <th>...</th>\n",
              "      <td>...</td>\n",
              "      <td>...</td>\n",
              "      <td>...</td>\n",
              "      <td>...</td>\n",
              "      <td>...</td>\n",
              "      <td>...</td>\n",
              "      <td>...</td>\n",
              "      <td>...</td>\n",
              "      <td>...</td>\n",
              "      <td>...</td>\n",
              "      <td>...</td>\n",
              "      <td>...</td>\n",
              "      <td>...</td>\n",
              "      <td>...</td>\n",
              "      <td>...</td>\n",
              "      <td>...</td>\n",
              "      <td>...</td>\n",
              "      <td>...</td>\n",
              "    </tr>\n",
              "    <tr>\n",
              "      <th>118375</th>\n",
              "      <td>0.176</td>\n",
              "      <td>['The Who']</td>\n",
              "      <td>0.743</td>\n",
              "      <td>135122</td>\n",
              "      <td>0.4550</td>\n",
              "      <td>0</td>\n",
              "      <td>0.000296</td>\n",
              "      <td>7</td>\n",
              "      <td>0.1020</td>\n",
              "      <td>-9.633</td>\n",
              "      <td>0</td>\n",
              "      <td>Eyesight To The Blind (The Hawker)</td>\n",
              "      <td>1969-05-23</td>\n",
              "      <td>0.0389</td>\n",
              "      <td>112.524</td>\n",
              "      <td>0.4510</td>\n",
              "      <td>1969</td>\n",
              "      <td>3</td>\n",
              "    </tr>\n",
              "    <tr>\n",
              "      <th>118511</th>\n",
              "      <td>0.964</td>\n",
              "      <td>['Franz Lehár', 'Elisabeth Schwarzkopf', 'Otto...</td>\n",
              "      <td>0.343</td>\n",
              "      <td>208120</td>\n",
              "      <td>0.1910</td>\n",
              "      <td>0</td>\n",
              "      <td>0.000003</td>\n",
              "      <td>7</td>\n",
              "      <td>0.1700</td>\n",
              "      <td>-16.130</td>\n",
              "      <td>1</td>\n",
              "      <td>Die Lustige Witwe (2001 - Remaster), Act II: E...</td>\n",
              "      <td>1953</td>\n",
              "      <td>0.0702</td>\n",
              "      <td>172.087</td>\n",
              "      <td>0.3470</td>\n",
              "      <td>1953</td>\n",
              "      <td>0</td>\n",
              "    </tr>\n",
              "    <tr>\n",
              "      <th>118526</th>\n",
              "      <td>0.828</td>\n",
              "      <td>['Igor Stravinsky']</td>\n",
              "      <td>0.712</td>\n",
              "      <td>148040</td>\n",
              "      <td>0.0768</td>\n",
              "      <td>0</td>\n",
              "      <td>0.682000</td>\n",
              "      <td>7</td>\n",
              "      <td>0.0997</td>\n",
              "      <td>-27.356</td>\n",
              "      <td>1</td>\n",
              "      <td>The Soldier's Tale Suite: II. Airs by a Stream</td>\n",
              "      <td>1948</td>\n",
              "      <td>0.0522</td>\n",
              "      <td>101.321</td>\n",
              "      <td>0.5600</td>\n",
              "      <td>1948</td>\n",
              "      <td>0</td>\n",
              "    </tr>\n",
              "    <tr>\n",
              "      <th>118797</th>\n",
              "      <td>0.889</td>\n",
              "      <td>['Pyotr Ilyich Tchaikovsky', 'André Previn', '...</td>\n",
              "      <td>0.189</td>\n",
              "      <td>400493</td>\n",
              "      <td>0.3490</td>\n",
              "      <td>0</td>\n",
              "      <td>0.806000</td>\n",
              "      <td>11</td>\n",
              "      <td>0.3500</td>\n",
              "      <td>-16.035</td>\n",
              "      <td>1</td>\n",
              "      <td>Swan Lake, Op.20, Act IV: 29. Finale (Andante ...</td>\n",
              "      <td>1976</td>\n",
              "      <td>0.0435</td>\n",
              "      <td>135.340</td>\n",
              "      <td>0.0722</td>\n",
              "      <td>1976</td>\n",
              "      <td>3</td>\n",
              "    </tr>\n",
              "    <tr>\n",
              "      <th>118883</th>\n",
              "      <td>0.993</td>\n",
              "      <td>['Giuseppe Verdi', 'Fernando Previtali', 'Cate...</td>\n",
              "      <td>0.343</td>\n",
              "      <td>331826</td>\n",
              "      <td>0.2020</td>\n",
              "      <td>0</td>\n",
              "      <td>0.040100</td>\n",
              "      <td>9</td>\n",
              "      <td>0.3800</td>\n",
              "      <td>-13.863</td>\n",
              "      <td>1</td>\n",
              "      <td>Verdi : Ernani : Part 2: L'ospite \"Lo vedremo,...</td>\n",
              "      <td>1951</td>\n",
              "      <td>0.0550</td>\n",
              "      <td>87.759</td>\n",
              "      <td>0.2590</td>\n",
              "      <td>1951</td>\n",
              "      <td>0</td>\n",
              "    </tr>\n",
              "  </tbody>\n",
              "</table>\n",
              "<p>453 rows × 18 columns</p>\n",
              "</div>"
            ],
            "text/plain": [
              "        acousticness  ... popularity\n",
              "6184           0.995  ...          0\n",
              "6793           0.562  ...          0\n",
              "10290          0.977  ...          0\n",
              "12402          0.994  ...          0\n",
              "12575          0.882  ...          0\n",
              "...              ...  ...        ...\n",
              "118375         0.176  ...          3\n",
              "118511         0.964  ...          0\n",
              "118526         0.828  ...          0\n",
              "118797         0.889  ...          3\n",
              "118883         0.993  ...          0\n",
              "\n",
              "[453 rows x 18 columns]"
            ]
          },
          "metadata": {
            "tags": []
          },
          "execution_count": 14
        }
      ]
    },
    {
      "cell_type": "markdown",
      "metadata": {
        "id": "LWeryMrMFxpH"
      },
      "source": [
        "Avem 453 de duplicate."
      ]
    },
    {
      "cell_type": "code",
      "metadata": {
        "id": "NwstXtjzTp1W",
        "colab": {
          "base_uri": "https://localhost:8080/",
          "height": 34
        },
        "outputId": "e303e84f-a2c6-415c-8507-ff2bd001a27f"
      },
      "source": [
        "train.shape"
      ],
      "execution_count": null,
      "outputs": [
        {
          "output_type": "execute_result",
          "data": {
            "text/plain": [
              "(118864, 19)"
            ]
          },
          "metadata": {
            "tags": []
          },
          "execution_count": 15
        }
      ]
    },
    {
      "cell_type": "markdown",
      "metadata": {
        "id": "AjgpWMeSjFRD"
      },
      "source": [
        "\n",
        "Deci, am avut 118864 elemente in total."
      ]
    },
    {
      "cell_type": "code",
      "metadata": {
        "id": "dfWjWy6uS-2h",
        "colab": {
          "base_uri": "https://localhost:8080/",
          "height": 34
        },
        "outputId": "d6630ab1-bd62-4c09-d4a7-24431aef44a3"
      },
      "source": [
        "train_x_duplicat.shape"
      ],
      "execution_count": null,
      "outputs": [
        {
          "output_type": "execute_result",
          "data": {
            "text/plain": [
              "(453, 18)"
            ]
          },
          "metadata": {
            "tags": []
          },
          "execution_count": 16
        }
      ]
    },
    {
      "cell_type": "markdown",
      "metadata": {
        "id": "C6NEn_DXjMH1"
      },
      "source": [
        "453 de elemente s-au dovedit a fi duplicate. Ele vor fi scoase din DataFrame."
      ]
    },
    {
      "cell_type": "code",
      "metadata": {
        "id": "89hTyqZCbTum",
        "colab": {
          "base_uri": "https://localhost:8080/",
          "height": 34
        },
        "outputId": "ec192d22-8f2c-4f2a-f555-d547c307ceb1"
      },
      "source": [
        "train.drop_duplicates(subset=['acousticness', 'artists', 'danceability', 'duration_ms',\n",
        "       'energy', 'explicit', 'instrumentalness', 'key', 'liveness', 'loudness',\n",
        "       'mode', 'name', 'release_date', 'speechiness', 'tempo', 'valence',\n",
        "       'year', 'popularity'], inplace=True)\n",
        "train.shape"
      ],
      "execution_count": null,
      "outputs": [
        {
          "output_type": "execute_result",
          "data": {
            "text/plain": [
              "(118411, 19)"
            ]
          },
          "metadata": {
            "tags": []
          },
          "execution_count": 17
        }
      ]
    },
    {
      "cell_type": "markdown",
      "metadata": {
        "id": "wRpnusMYjaNq"
      },
      "source": [
        "Au ramas 118411 elemente unice."
      ]
    },
    {
      "cell_type": "markdown",
      "metadata": {
        "id": "xKBr8uTkUJnO"
      },
      "source": [
        "În continuare lucrăm cu dataframe-ul train."
      ]
    },
    {
      "cell_type": "markdown",
      "metadata": {
        "id": "bFtkNvOQ3CuT"
      },
      "source": [
        "### **Corectitudinea datelor:**"
      ]
    },
    {
      "cell_type": "markdown",
      "metadata": {
        "id": "tM66DNy3d6rS"
      },
      "source": [
        "Scoatem caracterele speciale de la coloana 'artists':"
      ]
    },
    {
      "cell_type": "code",
      "metadata": {
        "id": "d7Dyo_TdU_KB"
      },
      "source": [
        "train[\"artists\"]=train[\"artists\"].str.replace(\"\\['\",\"\")\n",
        "train[\"artists\"]=train[\"artists\"].str.replace(\"\\']\",\"\")\n",
        "train[\"artists\"]=train[\"artists\"].str.replace(\"\\'\",\"\")\n",
        "train[\"artists\"]=train[\"artists\"].str.replace(\"$\",\"S\")\n"
      ],
      "execution_count": null,
      "outputs": []
    },
    {
      "cell_type": "code",
      "metadata": {
        "id": "H_DUrHS2VXXM"
      },
      "source": [
        "train"
      ],
      "execution_count": null,
      "outputs": []
    },
    {
      "cell_type": "markdown",
      "metadata": {
        "id": "ygmCi3RIGPLo"
      },
      "source": [
        "Acum coloana 'artists' arata bine. "
      ]
    },
    {
      "cell_type": "markdown",
      "metadata": {
        "id": "WQb06UqLQwQ9"
      },
      "source": [
        "## **Analiza datelor**"
      ]
    },
    {
      "cell_type": "markdown",
      "metadata": {
        "id": "ZD4JnkWRjj4_"
      },
      "source": [
        "Investigam ce tipuri de date avem in DataFrame."
      ]
    },
    {
      "cell_type": "code",
      "metadata": {
        "id": "sGujrqT7Q0fT",
        "colab": {
          "base_uri": "https://localhost:8080/",
          "height": 357
        },
        "outputId": "aa15e8ff-5370-4b5e-aa2f-8493ebb58841"
      },
      "source": [
        "train.dtypes"
      ],
      "execution_count": null,
      "outputs": [
        {
          "output_type": "execute_result",
          "data": {
            "text/plain": [
              "ID                    int64\n",
              "acousticness        float64\n",
              "artists              object\n",
              "danceability        float64\n",
              "duration_ms           int64\n",
              "energy              float64\n",
              "explicit              int64\n",
              "instrumentalness    float64\n",
              "key                   int64\n",
              "liveness            float64\n",
              "loudness            float64\n",
              "mode                  int64\n",
              "name                 object\n",
              "release_date         object\n",
              "speechiness         float64\n",
              "tempo               float64\n",
              "valence             float64\n",
              "year                  int64\n",
              "popularity            int64\n",
              "dtype: object"
            ]
          },
          "metadata": {
            "tags": []
          },
          "execution_count": 18
        }
      ]
    },
    {
      "cell_type": "code",
      "metadata": {
        "id": "Ls-y6nwBRoJ4",
        "colab": {
          "base_uri": "https://localhost:8080/",
          "height": 460
        },
        "outputId": "7a18be96-0aac-4678-a5a2-f44c12d5a0c3"
      },
      "source": [
        "train.info()"
      ],
      "execution_count": null,
      "outputs": [
        {
          "output_type": "stream",
          "text": [
            "<class 'pandas.core.frame.DataFrame'>\n",
            "Int64Index: 118411 entries, 0 to 118935\n",
            "Data columns (total 19 columns):\n",
            " #   Column            Non-Null Count   Dtype  \n",
            "---  ------            --------------   -----  \n",
            " 0   ID                118411 non-null  int64  \n",
            " 1   acousticness      118411 non-null  float64\n",
            " 2   artists           118411 non-null  object \n",
            " 3   danceability      118411 non-null  float64\n",
            " 4   duration_ms       118411 non-null  int64  \n",
            " 5   energy            118411 non-null  float64\n",
            " 6   explicit          118411 non-null  int64  \n",
            " 7   instrumentalness  118411 non-null  float64\n",
            " 8   key               118411 non-null  int64  \n",
            " 9   liveness          118411 non-null  float64\n",
            " 10  loudness          118411 non-null  float64\n",
            " 11  mode              118411 non-null  int64  \n",
            " 12  name              118411 non-null  object \n",
            " 13  release_date      118411 non-null  object \n",
            " 14  speechiness       118411 non-null  float64\n",
            " 15  tempo             118411 non-null  float64\n",
            " 16  valence           118411 non-null  float64\n",
            " 17  year              118411 non-null  int64  \n",
            " 18  popularity        118411 non-null  int64  \n",
            "dtypes: float64(9), int64(7), object(3)\n",
            "memory usage: 18.1+ MB\n"
          ],
          "name": "stdout"
        }
      ]
    },
    {
      "cell_type": "markdown",
      "metadata": {
        "id": "RT_hvufiGjvZ"
      },
      "source": [
        "In continuare cercetam datele statistice oferite de functia describe() care ne vor ajuta la investigarea aspectelor bazei noastre de date."
      ]
    },
    {
      "cell_type": "code",
      "metadata": {
        "id": "5FmeILpvS436",
        "colab": {
          "base_uri": "https://localhost:8080/",
          "height": 306
        },
        "outputId": "b2238544-a3b1-4225-a098-c5932ded3432"
      },
      "source": [
        "train.describe()"
      ],
      "execution_count": null,
      "outputs": [
        {
          "output_type": "execute_result",
          "data": {
            "text/html": [
              "<div>\n",
              "<style scoped>\n",
              "    .dataframe tbody tr th:only-of-type {\n",
              "        vertical-align: middle;\n",
              "    }\n",
              "\n",
              "    .dataframe tbody tr th {\n",
              "        vertical-align: top;\n",
              "    }\n",
              "\n",
              "    .dataframe thead th {\n",
              "        text-align: right;\n",
              "    }\n",
              "</style>\n",
              "<table border=\"1\" class=\"dataframe\">\n",
              "  <thead>\n",
              "    <tr style=\"text-align: right;\">\n",
              "      <th></th>\n",
              "      <th>ID</th>\n",
              "      <th>acousticness</th>\n",
              "      <th>danceability</th>\n",
              "      <th>duration_ms</th>\n",
              "      <th>energy</th>\n",
              "      <th>explicit</th>\n",
              "      <th>instrumentalness</th>\n",
              "      <th>key</th>\n",
              "      <th>liveness</th>\n",
              "      <th>loudness</th>\n",
              "      <th>mode</th>\n",
              "      <th>speechiness</th>\n",
              "      <th>tempo</th>\n",
              "      <th>valence</th>\n",
              "      <th>year</th>\n",
              "      <th>popularity</th>\n",
              "    </tr>\n",
              "  </thead>\n",
              "  <tbody>\n",
              "    <tr>\n",
              "      <th>count</th>\n",
              "      <td>118411.000000</td>\n",
              "      <td>118411.000000</td>\n",
              "      <td>118411.000000</td>\n",
              "      <td>1.184110e+05</td>\n",
              "      <td>118411.000000</td>\n",
              "      <td>118411.000000</td>\n",
              "      <td>118411.000000</td>\n",
              "      <td>118411.000000</td>\n",
              "      <td>118411.000000</td>\n",
              "      <td>118411.000000</td>\n",
              "      <td>118411.000000</td>\n",
              "      <td>118411.000000</td>\n",
              "      <td>118411.000000</td>\n",
              "      <td>118411.000000</td>\n",
              "      <td>118411.000000</td>\n",
              "      <td>118411.000000</td>\n",
              "    </tr>\n",
              "    <tr>\n",
              "      <th>mean</th>\n",
              "      <td>84865.484550</td>\n",
              "      <td>0.492636</td>\n",
              "      <td>0.538902</td>\n",
              "      <td>2.314912e+05</td>\n",
              "      <td>0.489099</td>\n",
              "      <td>0.085153</td>\n",
              "      <td>0.160679</td>\n",
              "      <td>5.199610</td>\n",
              "      <td>0.206502</td>\n",
              "      <td>-11.346134</td>\n",
              "      <td>0.708524</td>\n",
              "      <td>0.094166</td>\n",
              "      <td>117.004319</td>\n",
              "      <td>0.532976</td>\n",
              "      <td>1977.298925</td>\n",
              "      <td>3.149513</td>\n",
              "    </tr>\n",
              "    <tr>\n",
              "      <th>std</th>\n",
              "      <td>49053.103577</td>\n",
              "      <td>0.376464</td>\n",
              "      <td>0.174870</td>\n",
              "      <td>1.221084e+05</td>\n",
              "      <td>0.266876</td>\n",
              "      <td>0.279110</td>\n",
              "      <td>0.308260</td>\n",
              "      <td>3.514548</td>\n",
              "      <td>0.177067</td>\n",
              "      <td>5.626183</td>\n",
              "      <td>0.454444</td>\n",
              "      <td>0.150305</td>\n",
              "      <td>30.578375</td>\n",
              "      <td>0.261802</td>\n",
              "      <td>25.549030</td>\n",
              "      <td>2.180223</td>\n",
              "    </tr>\n",
              "    <tr>\n",
              "      <th>min</th>\n",
              "      <td>1.000000</td>\n",
              "      <td>0.000000</td>\n",
              "      <td>0.000000</td>\n",
              "      <td>1.530700e+04</td>\n",
              "      <td>0.000000</td>\n",
              "      <td>0.000000</td>\n",
              "      <td>0.000000</td>\n",
              "      <td>0.000000</td>\n",
              "      <td>0.000000</td>\n",
              "      <td>-55.000000</td>\n",
              "      <td>0.000000</td>\n",
              "      <td>0.000000</td>\n",
              "      <td>0.000000</td>\n",
              "      <td>0.000000</td>\n",
              "      <td>1921.000000</td>\n",
              "      <td>0.000000</td>\n",
              "    </tr>\n",
              "    <tr>\n",
              "      <th>25%</th>\n",
              "      <td>42422.500000</td>\n",
              "      <td>0.094500</td>\n",
              "      <td>0.418000</td>\n",
              "      <td>1.711730e+05</td>\n",
              "      <td>0.264000</td>\n",
              "      <td>0.000000</td>\n",
              "      <td>0.000000</td>\n",
              "      <td>2.000000</td>\n",
              "      <td>0.098200</td>\n",
              "      <td>-14.436000</td>\n",
              "      <td>0.000000</td>\n",
              "      <td>0.034900</td>\n",
              "      <td>93.538000</td>\n",
              "      <td>0.324000</td>\n",
              "      <td>1957.000000</td>\n",
              "      <td>1.000000</td>\n",
              "    </tr>\n",
              "    <tr>\n",
              "      <th>50%</th>\n",
              "      <td>84899.000000</td>\n",
              "      <td>0.492000</td>\n",
              "      <td>0.549000</td>\n",
              "      <td>2.086530e+05</td>\n",
              "      <td>0.481000</td>\n",
              "      <td>0.000000</td>\n",
              "      <td>0.000202</td>\n",
              "      <td>5.000000</td>\n",
              "      <td>0.135000</td>\n",
              "      <td>-10.456000</td>\n",
              "      <td>1.000000</td>\n",
              "      <td>0.045000</td>\n",
              "      <td>114.832000</td>\n",
              "      <td>0.545000</td>\n",
              "      <td>1978.000000</td>\n",
              "      <td>3.000000</td>\n",
              "    </tr>\n",
              "    <tr>\n",
              "      <th>75%</th>\n",
              "      <td>127265.500000</td>\n",
              "      <td>0.887000</td>\n",
              "      <td>0.668000</td>\n",
              "      <td>2.627870e+05</td>\n",
              "      <td>0.709000</td>\n",
              "      <td>0.000000</td>\n",
              "      <td>0.083800</td>\n",
              "      <td>8.000000</td>\n",
              "      <td>0.262000</td>\n",
              "      <td>-7.120000</td>\n",
              "      <td>1.000000</td>\n",
              "      <td>0.075300</td>\n",
              "      <td>135.695500</td>\n",
              "      <td>0.750000</td>\n",
              "      <td>1999.000000</td>\n",
              "      <td>5.000000</td>\n",
              "    </tr>\n",
              "    <tr>\n",
              "      <th>max</th>\n",
              "      <td>169908.000000</td>\n",
              "      <td>0.996000</td>\n",
              "      <td>0.988000</td>\n",
              "      <td>5.403500e+06</td>\n",
              "      <td>1.000000</td>\n",
              "      <td>1.000000</td>\n",
              "      <td>1.000000</td>\n",
              "      <td>11.000000</td>\n",
              "      <td>1.000000</td>\n",
              "      <td>3.744000</td>\n",
              "      <td>1.000000</td>\n",
              "      <td>0.968000</td>\n",
              "      <td>243.507000</td>\n",
              "      <td>1.000000</td>\n",
              "      <td>2020.000000</td>\n",
              "      <td>10.000000</td>\n",
              "    </tr>\n",
              "  </tbody>\n",
              "</table>\n",
              "</div>"
            ],
            "text/plain": [
              "                  ID   acousticness  ...           year     popularity\n",
              "count  118411.000000  118411.000000  ...  118411.000000  118411.000000\n",
              "mean    84865.484550       0.492636  ...    1977.298925       3.149513\n",
              "std     49053.103577       0.376464  ...      25.549030       2.180223\n",
              "min         1.000000       0.000000  ...    1921.000000       0.000000\n",
              "25%     42422.500000       0.094500  ...    1957.000000       1.000000\n",
              "50%     84899.000000       0.492000  ...    1978.000000       3.000000\n",
              "75%    127265.500000       0.887000  ...    1999.000000       5.000000\n",
              "max    169908.000000       0.996000  ...    2020.000000      10.000000\n",
              "\n",
              "[8 rows x 16 columns]"
            ]
          },
          "metadata": {
            "tags": []
          },
          "execution_count": 20
        }
      ]
    },
    {
      "cell_type": "markdown",
      "metadata": {
        "id": "Uy8lQcwCuPnr"
      },
      "source": [
        "# *****🚸Planul initial**"
      ]
    },
    {
      "cell_type": "markdown",
      "metadata": {
        "id": "-ugUTbXveQz-"
      },
      "source": [
        "Idei pentru descrierea datelor(Iuliana):\n",
        "1. statistica popularitatii pe ani (media popularitatii cantecelor aparute in fiecare an) //barh, histograma\n",
        "**Aspect:** popularitate, ani\n",
        "**Grafic:** bahr sau histograma\n",
        "\n",
        "2. selectarea tuturor cantecelor cu popularitate maxima (de la 8 la 10) si evidentierea artistilor acestor cantece. Ar putea fi un grup relativ mic de artisti care detin topul\n",
        "**Aspect:** artisti, popularitate\n",
        "**Grafic:** ??"
      ]
    },
    {
      "cell_type": "markdown",
      "metadata": {
        "id": "eAgsQlnl364m"
      },
      "source": [
        "Ideile Valeriei:\n",
        "\n",
        "1.   What is the range of tempo & duration that most popular songs commonly use?\n",
        "**Aspect:** tempo, duration, **Grafic:** scatter/kdeplot\n",
        "2. What is the relationship between month of the year & valence in the most popular songs? \n",
        "**aspect:** date **Grafic:** ridgeplot"
      ]
    },
    {
      "cell_type": "markdown",
      "metadata": {
        "id": "C477buYK4QrN"
      },
      "source": [
        "Ideile Paulei:\n",
        "\n",
        "1. De care factori depinde popularitatea piesei?   \n",
        "**Aspect:** popularity, daceability, energy, explicit content, loudness\n",
        "**Grafic:** //mai bine nu bar\n",
        "2.   ??\n",
        "\n"
      ]
    },
    {
      "cell_type": "markdown",
      "metadata": {
        "id": "aokESLJv82WM"
      },
      "source": [
        "# **🏁Începem lucrul:**"
      ]
    },
    {
      "cell_type": "markdown",
      "metadata": {
        "id": "zyay7unvBDCr"
      },
      "source": [
        "# **1.Care este influența danceability și energy și  asupra popularity?**"
      ]
    },
    {
      "cell_type": "markdown",
      "metadata": {
        "id": "xEYhsasxHTxm"
      },
      "source": [
        "**IPOTEZA :** Popularitatea este într-o oarecare măsură influențată de una dintre următoarele valori: danceability, energy, duration_ms, instrumentalness."
      ]
    },
    {
      "cell_type": "code",
      "metadata": {
        "id": "awGh8zqLrs60",
        "colab": {
          "base_uri": "https://localhost:8080/",
          "height": 710
        },
        "outputId": "75d39040-3069-4185-83ea-cc3bafa58b08"
      },
      "source": [
        "plt.figure(figsize=(14, 5))\n",
        "sns.set(style=\"white\")\n",
        "pop=sns.barplot(x=train['popularity'], y=train['danceability'])\n",
        "plt.title('Dependența popularity de danceability')\n",
        "\n",
        "plt.figure(figsize=(14, 5))\n",
        "sns.set(style=\"white\")\n",
        "pop=sns.barplot(x=train['popularity'], y=train['energy'])\n",
        "plt.title('Dependența popularity de energy')\n",
        "\n"
      ],
      "execution_count": null,
      "outputs": [
        {
          "output_type": "execute_result",
          "data": {
            "text/plain": [
              "Text(0.5, 1.0, 'Dependența popularity de energy')"
            ]
          },
          "metadata": {
            "tags": []
          },
          "execution_count": 21
        },
        {
          "output_type": "display_data",
          "data": {
            "image/png": "[encoded data removed]",
            "text/plain": [
              "<Figure size 1008x360 with 1 Axes>"
            ]
          },
          "metadata": {
            "tags": [],
            "needs_background": "light"
          }
        },
        {
          "output_type": "display_data",
          "data": {
            "image/png": "[encoded data removed]",
            "text/plain": [
              "<Figure size 1008x360 with 1 Axes>"
            ]
          },
          "metadata": {
            "tags": []
          }
        }
      ]
    },
    {
      "cell_type": "code",
      "metadata": {
        "id": "uvTSYl9ktZbS",
        "colab": {
          "base_uri": "https://localhost:8080/",
          "height": 188
        },
        "outputId": "24e98892-38a8-411b-a548-3fd54906384b"
      },
      "source": [
        "train.head(3)"
      ],
      "execution_count": null,
      "outputs": [
        {
          "output_type": "execute_result",
          "data": {
            "text/html": [
              "<div>\n",
              "<style scoped>\n",
              "    .dataframe tbody tr th:only-of-type {\n",
              "        vertical-align: middle;\n",
              "    }\n",
              "\n",
              "    .dataframe tbody tr th {\n",
              "        vertical-align: top;\n",
              "    }\n",
              "\n",
              "    .dataframe thead th {\n",
              "        text-align: right;\n",
              "    }\n",
              "</style>\n",
              "<table border=\"1\" class=\"dataframe\">\n",
              "  <thead>\n",
              "    <tr style=\"text-align: right;\">\n",
              "      <th></th>\n",
              "      <th>ID</th>\n",
              "      <th>acousticness</th>\n",
              "      <th>artists</th>\n",
              "      <th>danceability</th>\n",
              "      <th>duration_ms</th>\n",
              "      <th>energy</th>\n",
              "      <th>explicit</th>\n",
              "      <th>instrumentalness</th>\n",
              "      <th>key</th>\n",
              "      <th>liveness</th>\n",
              "      <th>loudness</th>\n",
              "      <th>mode</th>\n",
              "      <th>name</th>\n",
              "      <th>release_date</th>\n",
              "      <th>speechiness</th>\n",
              "      <th>tempo</th>\n",
              "      <th>valence</th>\n",
              "      <th>year</th>\n",
              "      <th>popularity</th>\n",
              "    </tr>\n",
              "  </thead>\n",
              "  <tbody>\n",
              "    <tr>\n",
              "      <th>0</th>\n",
              "      <td>53876</td>\n",
              "      <td>0.4470</td>\n",
              "      <td>Sister Nancy</td>\n",
              "      <td>0.759</td>\n",
              "      <td>199480</td>\n",
              "      <td>0.530</td>\n",
              "      <td>0</td>\n",
              "      <td>0.0113</td>\n",
              "      <td>8</td>\n",
              "      <td>0.0794</td>\n",
              "      <td>-8.023</td>\n",
              "      <td>1</td>\n",
              "      <td>Ain't No Stopping Nancy</td>\n",
              "      <td>2002-03-15</td>\n",
              "      <td>0.4180</td>\n",
              "      <td>78.354</td>\n",
              "      <td>0.596</td>\n",
              "      <td>2002</td>\n",
              "      <td>4</td>\n",
              "    </tr>\n",
              "    <tr>\n",
              "      <th>1</th>\n",
              "      <td>92111</td>\n",
              "      <td>0.8280</td>\n",
              "      <td>Jimmy Smith</td>\n",
              "      <td>0.714</td>\n",
              "      <td>483093</td>\n",
              "      <td>0.367</td>\n",
              "      <td>0</td>\n",
              "      <td>0.3990</td>\n",
              "      <td>5</td>\n",
              "      <td>0.1120</td>\n",
              "      <td>-12.855</td>\n",
              "      <td>1</td>\n",
              "      <td>Back At The Chicken Shack</td>\n",
              "      <td>1963-02-12</td>\n",
              "      <td>0.0328</td>\n",
              "      <td>107.328</td>\n",
              "      <td>0.633</td>\n",
              "      <td>1963</td>\n",
              "      <td>4</td>\n",
              "    </tr>\n",
              "    <tr>\n",
              "      <th>2</th>\n",
              "      <td>28869</td>\n",
              "      <td>0.0244</td>\n",
              "      <td>U2</td>\n",
              "      <td>0.380</td>\n",
              "      <td>347757</td>\n",
              "      <td>0.738</td>\n",
              "      <td>0</td>\n",
              "      <td>0.0229</td>\n",
              "      <td>8</td>\n",
              "      <td>0.4320</td>\n",
              "      <td>-10.737</td>\n",
              "      <td>1</td>\n",
              "      <td>Bullet The Blue Sky - Live</td>\n",
              "      <td>1987-03-03</td>\n",
              "      <td>0.0539</td>\n",
              "      <td>77.464</td>\n",
              "      <td>0.369</td>\n",
              "      <td>1987</td>\n",
              "      <td>4</td>\n",
              "    </tr>\n",
              "  </tbody>\n",
              "</table>\n",
              "</div>"
            ],
            "text/plain": [
              "      ID  acousticness       artists  ...  valence  year  popularity\n",
              "0  53876        0.4470  Sister Nancy  ...    0.596  2002           4\n",
              "1  92111        0.8280   Jimmy Smith  ...    0.633  1963           4\n",
              "2  28869        0.0244            U2  ...    0.369  1987           4\n",
              "\n",
              "[3 rows x 19 columns]"
            ]
          },
          "metadata": {
            "tags": []
          },
          "execution_count": 22
        }
      ]
    },
    {
      "cell_type": "code",
      "metadata": {
        "id": "9xtoMkH7oRoG",
        "colab": {
          "base_uri": "https://localhost:8080/",
          "height": 710
        },
        "outputId": "5a3b1374-4877-424d-92cf-eda45a10abe8"
      },
      "source": [
        "plt.figure(figsize=(14, 5))\n",
        "sns.set(style=\"white\")\n",
        "pop=sns.barplot(x=train['popularity'], y=train['instrumentalness'])\n",
        "plt.title('Dependența popularity de instrumentalness')\n",
        "\n",
        "plt.figure(figsize=(14, 5))\n",
        "sns.set(style=\"white\")\n",
        "pop=sns.barplot(x=train['popularity'], y=train['duration_ms'])\n",
        "plt.title('Dependența popularity de duration_ms')"
      ],
      "execution_count": null,
      "outputs": [
        {
          "output_type": "execute_result",
          "data": {
            "text/plain": [
              "Text(0.5, 1.0, 'Dependența popularity de duration_ms')"
            ]
          },
          "metadata": {
            "tags": []
          },
          "execution_count": 23
        },
        {
          "output_type": "display_data",
          "data": {
            "image/png": "[encoded data removed]",
            "text/plain": [
              "<Figure size 1008x360 with 1 Axes>"
            ]
          },
          "metadata": {
            "tags": []
          }
        },
        {
          "output_type": "display_data",
          "data": {
            "image/png": "[encoded data removed]",
            "text/plain": [
              "<Figure size 1008x360 with 1 Axes>"
            ]
          },
          "metadata": {
            "tags": []
          }
        }
      ]
    },
    {
      "cell_type": "markdown",
      "metadata": {
        "id": "Dk9i45JYHU1D"
      },
      "source": [
        ""
      ]
    },
    {
      "cell_type": "markdown",
      "metadata": {
        "id": "l6mv_uyeIfZI"
      },
      "source": [
        "**Concluzie :** În concluzie pot spune că cei mai importanți factori din cei analizați sunt : danceability și explicit, pe când cei lalți factori influențează întro mică măsură sau provoacă efectul invers."
      ]
    },
    {
      "cell_type": "markdown",
      "metadata": {
        "id": "hF8dIVzW-r-X"
      },
      "source": [
        "# 2.Care este diferența dintre explicit de 0 și explicit de 1  ?"
      ]
    },
    {
      "cell_type": "markdown",
      "metadata": {
        "id": "KYHL86b8AeGI"
      },
      "source": [
        "**Ipoteza:** Din cauza evoluției muzicii ascultătorii au nevoie de ceva mai deosebit în piesele ce le ascultă, astfel noile piese au tendința să folosească cuvinte necenzurate, ceea ce duce la creșterea popularității lor."
      ]
    },
    {
      "cell_type": "code",
      "metadata": {
        "id": "385s_aZI-7c8",
        "colab": {
          "base_uri": "https://localhost:8080/",
          "height": 372
        },
        "outputId": "ca9964e8-04bb-4238-967c-c45e168dabb8"
      },
      "source": [
        "plt.figure(figsize=(14, 5))\n",
        "sns.set(style=\"white\")\n",
        "pop=sns.barplot(x=train['popularity'], y=train['explicit']==1)\n",
        "plt.title('Dependența popularity de explicit de 1')"
      ],
      "execution_count": null,
      "outputs": [
        {
          "output_type": "execute_result",
          "data": {
            "text/plain": [
              "Text(0.5, 1.0, 'Dependența popularity de explicit de 1')"
            ]
          },
          "metadata": {
            "tags": []
          },
          "execution_count": 24
        },
        {
          "output_type": "display_data",
          "data": {
            "image/png": "[encoded data removed]",
            "text/plain": [
              "<Figure size 1008x360 with 1 Axes>"
            ]
          },
          "metadata": {
            "tags": []
          }
        }
      ]
    },
    {
      "cell_type": "code",
      "metadata": {
        "id": "-hM3KlJOAIcf",
        "colab": {
          "base_uri": "https://localhost:8080/",
          "height": 372
        },
        "outputId": "92055653-7ee6-4d01-e43d-5a21d1c19aa2"
      },
      "source": [
        "plt.figure(figsize=(14, 5))\n",
        "sns.set(style=\"white\")\n",
        "pop=sns.barplot(x=train['popularity'], y=train['explicit']==0)\n",
        "plt.title('Dependența popularity de explicit de 0')"
      ],
      "execution_count": null,
      "outputs": [
        {
          "output_type": "execute_result",
          "data": {
            "text/plain": [
              "Text(0.5, 1.0, 'Dependența popularity de explicit de 0')"
            ]
          },
          "metadata": {
            "tags": []
          },
          "execution_count": 25
        },
        {
          "output_type": "display_data",
          "data": {
            "image/png": "[encoded data removed]",
            "text/plain": [
              "<Figure size 1008x360 with 1 Axes>"
            ]
          },
          "metadata": {
            "tags": []
          }
        }
      ]
    },
    {
      "cell_type": "markdown",
      "metadata": {
        "id": "NRIKZIBfBlyh"
      },
      "source": [
        "**Concluzie:** Așa um evoluează domeniile, evoluează și muzica.astfel conținutul necenzurat devine din ce în ce mai cerut."
      ]
    },
    {
      "cell_type": "markdown",
      "metadata": {
        "id": "fGoBstNJBK-B"
      },
      "source": [
        "# **2.(Capitol aleatoriu, în parcurs de cercetare)'(capitolul Paulei)**"
      ]
    },
    {
      "cell_type": "markdown",
      "metadata": {
        "id": "fvoTwhi3yj26"
      },
      "source": [
        "**speechiness **float - \n",
        "  **var_de_1 = train['speechiness'] >= 0,90  var_de_1_a = train[var_de_1]** - Speechiness detectează prezența cuvintelor rostite într-o piesă. Cu cât înregistrarea este mai exclusivizată ca vorbirea (de exemplu, talk-show, audio book, poezie), cu atât este mai aproape de 1.0 valoarea atributului.\n",
        "\n",
        " **var_0_66 = train['speechiness'] >= 0,66  var_0_66_a = train[var_0_66]**  Valorile de peste 0,66 descriu piese care sunt făcute probabil din cuvinte rostite. \n",
        " \n",
        " **var_0_33_0_66 = train['speechiness'] > 0,33 and < 0,66  var_0_33_0_66_a = train[var_0_33_0_66]**  Valorile cuprinse între 0,33 și 0,66 descriu piese care pot conține atât muzică cât și vorbire, fie în secțiuni, fie în straturi, inclusiv cazuri precum muzica rap. \n",
        " \n",
        "** var_0_33_sub = train['speechiness'] <= 0,33  var_0_33_sub_a = train[var_0_33_sub] **  - Valorile sub 0,33 reprezintă cel mai probabil muzică și alte piese care nu vorbesc."
      ]
    },
    {
      "cell_type": "code",
      "metadata": {
        "id": "rmnQRCzL4kn0",
        "colab": {
          "base_uri": "https://localhost:8080/",
          "height": 405
        },
        "outputId": "886bca30-fba5-4340-b709-541e7095be2d"
      },
      "source": [
        "train[['speechiness','popularity' ]]"
      ],
      "execution_count": null,
      "outputs": [
        {
          "output_type": "execute_result",
          "data": {
            "text/html": [
              "<div>\n",
              "<style scoped>\n",
              "    .dataframe tbody tr th:only-of-type {\n",
              "        vertical-align: middle;\n",
              "    }\n",
              "\n",
              "    .dataframe tbody tr th {\n",
              "        vertical-align: top;\n",
              "    }\n",
              "\n",
              "    .dataframe thead th {\n",
              "        text-align: right;\n",
              "    }\n",
              "</style>\n",
              "<table border=\"1\" class=\"dataframe\">\n",
              "  <thead>\n",
              "    <tr style=\"text-align: right;\">\n",
              "      <th></th>\n",
              "      <th>speechiness</th>\n",
              "      <th>popularity</th>\n",
              "    </tr>\n",
              "  </thead>\n",
              "  <tbody>\n",
              "    <tr>\n",
              "      <th>0</th>\n",
              "      <td>0.4180</td>\n",
              "      <td>4</td>\n",
              "    </tr>\n",
              "    <tr>\n",
              "      <th>1</th>\n",
              "      <td>0.0328</td>\n",
              "      <td>4</td>\n",
              "    </tr>\n",
              "    <tr>\n",
              "      <th>2</th>\n",
              "      <td>0.0539</td>\n",
              "      <td>4</td>\n",
              "    </tr>\n",
              "    <tr>\n",
              "      <th>3</th>\n",
              "      <td>0.0397</td>\n",
              "      <td>0</td>\n",
              "    </tr>\n",
              "    <tr>\n",
              "      <th>4</th>\n",
              "      <td>0.0486</td>\n",
              "      <td>0</td>\n",
              "    </tr>\n",
              "    <tr>\n",
              "      <th>...</th>\n",
              "      <td>...</td>\n",
              "      <td>...</td>\n",
              "    </tr>\n",
              "    <tr>\n",
              "      <th>118931</th>\n",
              "      <td>0.0396</td>\n",
              "      <td>2</td>\n",
              "    </tr>\n",
              "    <tr>\n",
              "      <th>118932</th>\n",
              "      <td>0.0369</td>\n",
              "      <td>5</td>\n",
              "    </tr>\n",
              "    <tr>\n",
              "      <th>118933</th>\n",
              "      <td>0.0527</td>\n",
              "      <td>5</td>\n",
              "    </tr>\n",
              "    <tr>\n",
              "      <th>118934</th>\n",
              "      <td>0.0400</td>\n",
              "      <td>2</td>\n",
              "    </tr>\n",
              "    <tr>\n",
              "      <th>118935</th>\n",
              "      <td>0.0290</td>\n",
              "      <td>5</td>\n",
              "    </tr>\n",
              "  </tbody>\n",
              "</table>\n",
              "<p>118411 rows × 2 columns</p>\n",
              "</div>"
            ],
            "text/plain": [
              "        speechiness  popularity\n",
              "0            0.4180           4\n",
              "1            0.0328           4\n",
              "2            0.0539           4\n",
              "3            0.0397           0\n",
              "4            0.0486           0\n",
              "...             ...         ...\n",
              "118931       0.0396           2\n",
              "118932       0.0369           5\n",
              "118933       0.0527           5\n",
              "118934       0.0400           2\n",
              "118935       0.0290           5\n",
              "\n",
              "[118411 rows x 2 columns]"
            ]
          },
          "metadata": {
            "tags": []
          },
          "execution_count": 26
        }
      ]
    },
    {
      "cell_type": "code",
      "metadata": {
        "id": "wN7ldg3N3X1G",
        "colab": {
          "base_uri": "https://localhost:8080/",
          "height": 817
        },
        "outputId": "c7fb7c01-933b-4782-cb4f-b031821e4559"
      },
      "source": [
        "var_de_1 = train['speechiness'] >= 0.90 \n",
        "var_de_1_a = train[var_de_1]\n",
        "var_de_1_a"
      ],
      "execution_count": null,
      "outputs": [
        {
          "output_type": "execute_result",
          "data": {
            "text/html": [
              "<div>\n",
              "<style scoped>\n",
              "    .dataframe tbody tr th:only-of-type {\n",
              "        vertical-align: middle;\n",
              "    }\n",
              "\n",
              "    .dataframe tbody tr th {\n",
              "        vertical-align: top;\n",
              "    }\n",
              "\n",
              "    .dataframe thead th {\n",
              "        text-align: right;\n",
              "    }\n",
              "</style>\n",
              "<table border=\"1\" class=\"dataframe\">\n",
              "  <thead>\n",
              "    <tr style=\"text-align: right;\">\n",
              "      <th></th>\n",
              "      <th>ID</th>\n",
              "      <th>acousticness</th>\n",
              "      <th>artists</th>\n",
              "      <th>danceability</th>\n",
              "      <th>duration_ms</th>\n",
              "      <th>energy</th>\n",
              "      <th>explicit</th>\n",
              "      <th>instrumentalness</th>\n",
              "      <th>key</th>\n",
              "      <th>liveness</th>\n",
              "      <th>loudness</th>\n",
              "      <th>mode</th>\n",
              "      <th>name</th>\n",
              "      <th>release_date</th>\n",
              "      <th>speechiness</th>\n",
              "      <th>tempo</th>\n",
              "      <th>valence</th>\n",
              "      <th>year</th>\n",
              "      <th>popularity</th>\n",
              "    </tr>\n",
              "  </thead>\n",
              "  <tbody>\n",
              "    <tr>\n",
              "      <th>63</th>\n",
              "      <td>55921</td>\n",
              "      <td>0.3430</td>\n",
              "      <td>Эрих Мария Ремарк</td>\n",
              "      <td>0.701</td>\n",
              "      <td>128400</td>\n",
              "      <td>0.1990</td>\n",
              "      <td>1</td>\n",
              "      <td>0.000003</td>\n",
              "      <td>6</td>\n",
              "      <td>0.0825</td>\n",
              "      <td>-18.226</td>\n",
              "      <td>1</td>\n",
              "      <td>Часть 21.2 - Триумфальная арка</td>\n",
              "      <td>1945</td>\n",
              "      <td>0.919</td>\n",
              "      <td>135.835</td>\n",
              "      <td>0.591</td>\n",
              "      <td>1945</td>\n",
              "      <td>0</td>\n",
              "    </tr>\n",
              "    <tr>\n",
              "      <th>196</th>\n",
              "      <td>71435</td>\n",
              "      <td>0.9310</td>\n",
              "      <td>Margaret Walker</td>\n",
              "      <td>0.727</td>\n",
              "      <td>79280</td>\n",
              "      <td>0.1270</td>\n",
              "      <td>0</td>\n",
              "      <td>0.000000</td>\n",
              "      <td>6</td>\n",
              "      <td>0.1690</td>\n",
              "      <td>-15.990</td>\n",
              "      <td>0</td>\n",
              "      <td>Stackalee</td>\n",
              "      <td>1954-01-01</td>\n",
              "      <td>0.927</td>\n",
              "      <td>119.650</td>\n",
              "      <td>0.396</td>\n",
              "      <td>1954</td>\n",
              "      <td>0</td>\n",
              "    </tr>\n",
              "    <tr>\n",
              "      <th>203</th>\n",
              "      <td>611</td>\n",
              "      <td>0.0793</td>\n",
              "      <td>Эрих Мария Ремарк</td>\n",
              "      <td>0.629</td>\n",
              "      <td>100319</td>\n",
              "      <td>0.2240</td>\n",
              "      <td>1</td>\n",
              "      <td>0.000017</td>\n",
              "      <td>5</td>\n",
              "      <td>0.0852</td>\n",
              "      <td>-20.863</td>\n",
              "      <td>1</td>\n",
              "      <td>Часть 190.3 &amp; Часть 191.1 - Триумфальная арка</td>\n",
              "      <td>1945</td>\n",
              "      <td>0.947</td>\n",
              "      <td>164.932</td>\n",
              "      <td>0.579</td>\n",
              "      <td>1945</td>\n",
              "      <td>0</td>\n",
              "    </tr>\n",
              "    <tr>\n",
              "      <th>294</th>\n",
              "      <td>89151</td>\n",
              "      <td>0.9560</td>\n",
              "      <td>Βασίλης Μεσολογγίτης, Μαρία Ανδρονίκου</td>\n",
              "      <td>0.715</td>\n",
              "      <td>101747</td>\n",
              "      <td>0.3640</td>\n",
              "      <td>0</td>\n",
              "      <td>0.000000</td>\n",
              "      <td>9</td>\n",
              "      <td>0.1840</td>\n",
              "      <td>-14.947</td>\n",
              "      <td>1</td>\n",
              "      <td>Αχ Μπριγκίτα!</td>\n",
              "      <td>1934-01-01</td>\n",
              "      <td>0.902</td>\n",
              "      <td>77.640</td>\n",
              "      <td>0.720</td>\n",
              "      <td>1934</td>\n",
              "      <td>0</td>\n",
              "    </tr>\n",
              "    <tr>\n",
              "      <th>313</th>\n",
              "      <td>144602</td>\n",
              "      <td>0.0103</td>\n",
              "      <td>Эрих Мария Ремарк</td>\n",
              "      <td>0.626</td>\n",
              "      <td>171606</td>\n",
              "      <td>0.1770</td>\n",
              "      <td>1</td>\n",
              "      <td>0.000000</td>\n",
              "      <td>8</td>\n",
              "      <td>0.3490</td>\n",
              "      <td>-21.444</td>\n",
              "      <td>1</td>\n",
              "      <td>Часть 116.2 &amp; Часть 117 - На Западном фронте б...</td>\n",
              "      <td>1929</td>\n",
              "      <td>0.955</td>\n",
              "      <td>171.883</td>\n",
              "      <td>0.616</td>\n",
              "      <td>1929</td>\n",
              "      <td>0</td>\n",
              "    </tr>\n",
              "    <tr>\n",
              "      <th>...</th>\n",
              "      <td>...</td>\n",
              "      <td>...</td>\n",
              "      <td>...</td>\n",
              "      <td>...</td>\n",
              "      <td>...</td>\n",
              "      <td>...</td>\n",
              "      <td>...</td>\n",
              "      <td>...</td>\n",
              "      <td>...</td>\n",
              "      <td>...</td>\n",
              "      <td>...</td>\n",
              "      <td>...</td>\n",
              "      <td>...</td>\n",
              "      <td>...</td>\n",
              "      <td>...</td>\n",
              "      <td>...</td>\n",
              "      <td>...</td>\n",
              "      <td>...</td>\n",
              "      <td>...</td>\n",
              "    </tr>\n",
              "    <tr>\n",
              "      <th>118795</th>\n",
              "      <td>64044</td>\n",
              "      <td>0.9400</td>\n",
              "      <td>Solo on pan-pipes of thirteen tubes</td>\n",
              "      <td>0.674</td>\n",
              "      <td>68907</td>\n",
              "      <td>0.0439</td>\n",
              "      <td>0</td>\n",
              "      <td>0.000000</td>\n",
              "      <td>6</td>\n",
              "      <td>0.8050</td>\n",
              "      <td>-23.712</td>\n",
              "      <td>1</td>\n",
              "      <td>Fiesta Dance Music</td>\n",
              "      <td>1954-01-01</td>\n",
              "      <td>0.906</td>\n",
              "      <td>100.557</td>\n",
              "      <td>0.712</td>\n",
              "      <td>1954</td>\n",
              "      <td>0</td>\n",
              "    </tr>\n",
              "    <tr>\n",
              "      <th>118796</th>\n",
              "      <td>109225</td>\n",
              "      <td>0.1240</td>\n",
              "      <td>Эрих Мария Ремарк</td>\n",
              "      <td>0.715</td>\n",
              "      <td>108800</td>\n",
              "      <td>0.1470</td>\n",
              "      <td>1</td>\n",
              "      <td>0.000364</td>\n",
              "      <td>0</td>\n",
              "      <td>0.0931</td>\n",
              "      <td>-20.276</td>\n",
              "      <td>1</td>\n",
              "      <td>Часть 100.2 - Триумфальная арка</td>\n",
              "      <td>1945</td>\n",
              "      <td>0.929</td>\n",
              "      <td>126.562</td>\n",
              "      <td>0.639</td>\n",
              "      <td>1945</td>\n",
              "      <td>0</td>\n",
              "    </tr>\n",
              "    <tr>\n",
              "      <th>118798</th>\n",
              "      <td>153371</td>\n",
              "      <td>0.1440</td>\n",
              "      <td>Эрнест Хемингуэй</td>\n",
              "      <td>0.757</td>\n",
              "      <td>143300</td>\n",
              "      <td>0.1450</td>\n",
              "      <td>1</td>\n",
              "      <td>0.000000</td>\n",
              "      <td>11</td>\n",
              "      <td>0.1320</td>\n",
              "      <td>-16.295</td>\n",
              "      <td>0</td>\n",
              "      <td>Часть 84.3 - Зеленые холмы Африки</td>\n",
              "      <td>1935</td>\n",
              "      <td>0.916</td>\n",
              "      <td>120.046</td>\n",
              "      <td>0.772</td>\n",
              "      <td>1935</td>\n",
              "      <td>0</td>\n",
              "    </tr>\n",
              "    <tr>\n",
              "      <th>118819</th>\n",
              "      <td>98806</td>\n",
              "      <td>0.6480</td>\n",
              "      <td>Sinclair Lewis, Frank Arnold</td>\n",
              "      <td>0.743</td>\n",
              "      <td>321320</td>\n",
              "      <td>0.1840</td>\n",
              "      <td>0</td>\n",
              "      <td>0.000000</td>\n",
              "      <td>2</td>\n",
              "      <td>0.2130</td>\n",
              "      <td>-19.604</td>\n",
              "      <td>1</td>\n",
              "      <td>Das ist bei uns nicht möglich, Kapitel 124</td>\n",
              "      <td>1935</td>\n",
              "      <td>0.963</td>\n",
              "      <td>85.139</td>\n",
              "      <td>0.459</td>\n",
              "      <td>1935</td>\n",
              "      <td>0</td>\n",
              "    </tr>\n",
              "    <tr>\n",
              "      <th>118922</th>\n",
              "      <td>41090</td>\n",
              "      <td>0.8690</td>\n",
              "      <td>Jean Cocteau, André Parinaud</td>\n",
              "      <td>0.637</td>\n",
              "      <td>448187</td>\n",
              "      <td>0.2240</td>\n",
              "      <td>0</td>\n",
              "      <td>0.000000</td>\n",
              "      <td>11</td>\n",
              "      <td>0.1510</td>\n",
              "      <td>-20.551</td>\n",
              "      <td>1</td>\n",
              "      <td>La guerre / Son engagement / Croix de guerre /...</td>\n",
              "      <td>1951</td>\n",
              "      <td>0.953</td>\n",
              "      <td>162.745</td>\n",
              "      <td>0.454</td>\n",
              "      <td>1951</td>\n",
              "      <td>0</td>\n",
              "    </tr>\n",
              "  </tbody>\n",
              "</table>\n",
              "<p>2122 rows × 19 columns</p>\n",
              "</div>"
            ],
            "text/plain": [
              "            ID  acousticness  ...  year  popularity\n",
              "63       55921        0.3430  ...  1945           0\n",
              "196      71435        0.9310  ...  1954           0\n",
              "203        611        0.0793  ...  1945           0\n",
              "294      89151        0.9560  ...  1934           0\n",
              "313     144602        0.0103  ...  1929           0\n",
              "...        ...           ...  ...   ...         ...\n",
              "118795   64044        0.9400  ...  1954           0\n",
              "118796  109225        0.1240  ...  1945           0\n",
              "118798  153371        0.1440  ...  1935           0\n",
              "118819   98806        0.6480  ...  1935           0\n",
              "118922   41090        0.8690  ...  1951           0\n",
              "\n",
              "[2122 rows x 19 columns]"
            ]
          },
          "metadata": {
            "tags": []
          },
          "execution_count": 27
        }
      ]
    },
    {
      "cell_type": "code",
      "metadata": {
        "id": "H9mhOX9hr3pk",
        "colab": {
          "base_uri": "https://localhost:8080/",
          "height": 221
        },
        "outputId": "4a876b86-dd58-46e9-a7db-b6b563481bf8"
      },
      "source": [
        "an =train.loc[train['speechiness'] >= 0.9]\n",
        "an_x = an['speechiness']\n",
        "an_x"
      ],
      "execution_count": null,
      "outputs": [
        {
          "output_type": "execute_result",
          "data": {
            "text/plain": [
              "63        0.919\n",
              "196       0.927\n",
              "203       0.947\n",
              "294       0.902\n",
              "313       0.955\n",
              "          ...  \n",
              "118795    0.906\n",
              "118796    0.929\n",
              "118798    0.916\n",
              "118819    0.963\n",
              "118922    0.953\n",
              "Name: speechiness, Length: 2122, dtype: float64"
            ]
          },
          "metadata": {
            "tags": []
          },
          "execution_count": 28
        }
      ]
    },
    {
      "cell_type": "code",
      "metadata": {
        "id": "DFKxxWSHEv1z",
        "colab": {
          "base_uri": "https://localhost:8080/",
          "height": 372
        },
        "outputId": "fb3c9a3d-0dd9-4791-f5f0-e312d4266f04"
      },
      "source": [
        "\n",
        "plt.figure(figsize=(14, 5))\n",
        "sns.set(style=\"white\")\n",
        "pop=sns.barplot(x=train['popularity'], y= an_x)\n",
        "plt.title('Dependența popularity de duration_ms')\n"
      ],
      "execution_count": null,
      "outputs": [
        {
          "output_type": "execute_result",
          "data": {
            "text/plain": [
              "Text(0.5, 1.0, 'Dependența popularity de duration_ms')"
            ]
          },
          "metadata": {
            "tags": []
          },
          "execution_count": 29
        },
        {
          "output_type": "display_data",
          "data": {
            "image/png": "[encoded data removed]",
            "text/plain": [
              "<Figure size 1008x360 with 1 Axes>"
            ]
          },
          "metadata": {
            "tags": []
          }
        }
      ]
    },
    {
      "cell_type": "code",
      "metadata": {
        "id": "mgRBUlf-jh9y",
        "colab": {
          "base_uri": "https://localhost:8080/",
          "height": 221
        },
        "outputId": "10f60372-fbb4-4728-aca9-51e5e56813df"
      },
      "source": [
        "an_1 =train.loc[train['speechiness'] <0.33]\n",
        "an_x_1 = an['speechiness']\n",
        "an_x_1"
      ],
      "execution_count": null,
      "outputs": [
        {
          "output_type": "execute_result",
          "data": {
            "text/plain": [
              "63        0.919\n",
              "196       0.927\n",
              "203       0.947\n",
              "294       0.902\n",
              "313       0.955\n",
              "          ...  \n",
              "118795    0.906\n",
              "118796    0.929\n",
              "118798    0.916\n",
              "118819    0.963\n",
              "118922    0.953\n",
              "Name: speechiness, Length: 2122, dtype: float64"
            ]
          },
          "metadata": {
            "tags": []
          },
          "execution_count": 30
        }
      ]
    },
    {
      "cell_type": "code",
      "metadata": {
        "id": "M9wBhC_vLuJO",
        "colab": {
          "base_uri": "https://localhost:8080/",
          "height": 372
        },
        "outputId": "d3a179af-c179-4065-912f-3141af19265f"
      },
      "source": [
        "# var_0_33_sub = train['speechiness'] <= 0,33\n",
        "plt.figure(figsize=(14, 5))\n",
        "sns.set(style=\"white\")\n",
        "pop=sns.barplot(x=train['popularity'], y=an_x_1  )\n",
        "plt.title('Dependența popularity de speechiness mai mic de 0,33')"
      ],
      "execution_count": null,
      "outputs": [
        {
          "output_type": "execute_result",
          "data": {
            "text/plain": [
              "Text(0.5, 1.0, 'Dependența popularity de speechiness mai mic de 0,33')"
            ]
          },
          "metadata": {
            "tags": []
          },
          "execution_count": 31
        },
        {
          "output_type": "display_data",
          "data": {
            "image/png": "[encoded data removed]",
            "text/plain": [
              "<Figure size 1008x360 with 1 Axes>"
            ]
          },
          "metadata": {
            "tags": []
          }
        }
      ]
    },
    {
      "cell_type": "code",
      "metadata": {
        "id": "KEqn-3vULbF6"
      },
      "source": [
        ""
      ],
      "execution_count": null,
      "outputs": []
    },
    {
      "cell_type": "code",
      "metadata": {
        "id": "0QJrQxM8D0It",
        "colab": {
          "base_uri": "https://localhost:8080/",
          "height": 528
        },
        "outputId": "edf408d1-a719-4c95-80f4-133746bae677"
      },
      "source": [
        "\n",
        "an = train.loc[(train['speechiness']>= 0.66) & (train['speechiness']< 0.90)]\n",
        "\n",
        "plt.figure(figsize=(14, 5))\n",
        "sns.set(style=\"white\")\n",
        "pop=sns.barplot(x=train['popularity'], y=an )\n",
        "plt.title('Dependența popularity de duration_ms')"
      ],
      "execution_count": null,
      "outputs": [
        {
          "output_type": "error",
          "ename": "ValueError",
          "evalue": "ignored",
          "traceback": [
            "\u001b[0;31m---------------------------------------------------------------------------\u001b[0m",
            "\u001b[0;31mAttributeError\u001b[0m                            Traceback (most recent call last)",
            "\u001b[0;32m/usr/local/lib/python3.6/dist-packages/seaborn/utils.py\u001b[0m in \u001b[0;36mcategorical_order\u001b[0;34m(values, order)\u001b[0m\n\u001b[1;32m    543\u001b[0m             \u001b[0;32mtry\u001b[0m\u001b[0;34m:\u001b[0m\u001b[0;34m\u001b[0m\u001b[0;34m\u001b[0m\u001b[0m\n\u001b[0;32m--> 544\u001b[0;31m                 \u001b[0morder\u001b[0m \u001b[0;34m=\u001b[0m \u001b[0mvalues\u001b[0m\u001b[0;34m.\u001b[0m\u001b[0mcat\u001b[0m\u001b[0;34m.\u001b[0m\u001b[0mcategories\u001b[0m\u001b[0;34m\u001b[0m\u001b[0;34m\u001b[0m\u001b[0m\n\u001b[0m\u001b[1;32m    545\u001b[0m             \u001b[0;32mexcept\u001b[0m \u001b[0;34m(\u001b[0m\u001b[0mTypeError\u001b[0m\u001b[0;34m,\u001b[0m \u001b[0mAttributeError\u001b[0m\u001b[0;34m)\u001b[0m\u001b[0;34m:\u001b[0m\u001b[0;34m\u001b[0m\u001b[0;34m\u001b[0m\u001b[0m\n",
            "\u001b[0;32m/usr/local/lib/python3.6/dist-packages/pandas/core/generic.py\u001b[0m in \u001b[0;36m__getattr__\u001b[0;34m(self, name)\u001b[0m\n\u001b[1;32m   5273\u001b[0m                 \u001b[0;32mreturn\u001b[0m \u001b[0mself\u001b[0m\u001b[0;34m[\u001b[0m\u001b[0mname\u001b[0m\u001b[0;34m]\u001b[0m\u001b[0;34m\u001b[0m\u001b[0;34m\u001b[0m\u001b[0m\n\u001b[0;32m-> 5274\u001b[0;31m             \u001b[0;32mreturn\u001b[0m \u001b[0mobject\u001b[0m\u001b[0;34m.\u001b[0m\u001b[0m__getattribute__\u001b[0m\u001b[0;34m(\u001b[0m\u001b[0mself\u001b[0m\u001b[0;34m,\u001b[0m \u001b[0mname\u001b[0m\u001b[0;34m)\u001b[0m\u001b[0;34m\u001b[0m\u001b[0;34m\u001b[0m\u001b[0m\n\u001b[0m\u001b[1;32m   5275\u001b[0m \u001b[0;34m\u001b[0m\u001b[0m\n",
            "\u001b[0;31mAttributeError\u001b[0m: 'DataFrame' object has no attribute 'cat'",
            "\nDuring handling of the above exception, another exception occurred:\n",
            "\u001b[0;31mAttributeError\u001b[0m                            Traceback (most recent call last)",
            "\u001b[0;32m/usr/local/lib/python3.6/dist-packages/seaborn/utils.py\u001b[0m in \u001b[0;36mcategorical_order\u001b[0;34m(values, order)\u001b[0m\n\u001b[1;32m    546\u001b[0m                 \u001b[0;32mtry\u001b[0m\u001b[0;34m:\u001b[0m\u001b[0;34m\u001b[0m\u001b[0;34m\u001b[0m\u001b[0m\n\u001b[0;32m--> 547\u001b[0;31m                     \u001b[0morder\u001b[0m \u001b[0;34m=\u001b[0m \u001b[0mvalues\u001b[0m\u001b[0;34m.\u001b[0m\u001b[0munique\u001b[0m\u001b[0;34m(\u001b[0m\u001b[0;34m)\u001b[0m\u001b[0;34m\u001b[0m\u001b[0;34m\u001b[0m\u001b[0m\n\u001b[0m\u001b[1;32m    548\u001b[0m                 \u001b[0;32mexcept\u001b[0m \u001b[0mAttributeError\u001b[0m\u001b[0;34m:\u001b[0m\u001b[0;34m\u001b[0m\u001b[0;34m\u001b[0m\u001b[0m\n",
            "\u001b[0;32m/usr/local/lib/python3.6/dist-packages/pandas/core/generic.py\u001b[0m in \u001b[0;36m__getattr__\u001b[0;34m(self, name)\u001b[0m\n\u001b[1;32m   5273\u001b[0m                 \u001b[0;32mreturn\u001b[0m \u001b[0mself\u001b[0m\u001b[0;34m[\u001b[0m\u001b[0mname\u001b[0m\u001b[0;34m]\u001b[0m\u001b[0;34m\u001b[0m\u001b[0;34m\u001b[0m\u001b[0m\n\u001b[0;32m-> 5274\u001b[0;31m             \u001b[0;32mreturn\u001b[0m \u001b[0mobject\u001b[0m\u001b[0;34m.\u001b[0m\u001b[0m__getattribute__\u001b[0m\u001b[0;34m(\u001b[0m\u001b[0mself\u001b[0m\u001b[0;34m,\u001b[0m \u001b[0mname\u001b[0m\u001b[0;34m)\u001b[0m\u001b[0;34m\u001b[0m\u001b[0;34m\u001b[0m\u001b[0m\n\u001b[0m\u001b[1;32m   5275\u001b[0m \u001b[0;34m\u001b[0m\u001b[0m\n",
            "\u001b[0;31mAttributeError\u001b[0m: 'DataFrame' object has no attribute 'unique'",
            "\nDuring handling of the above exception, another exception occurred:\n",
            "\u001b[0;31mValueError\u001b[0m                                Traceback (most recent call last)",
            "\u001b[0;32m<ipython-input-33-faee1442d0e5>\u001b[0m in \u001b[0;36m<module>\u001b[0;34m()\u001b[0m\n\u001b[1;32m      4\u001b[0m \u001b[0mplt\u001b[0m\u001b[0;34m.\u001b[0m\u001b[0mfigure\u001b[0m\u001b[0;34m(\u001b[0m\u001b[0mfigsize\u001b[0m\u001b[0;34m=\u001b[0m\u001b[0;34m(\u001b[0m\u001b[0;36m14\u001b[0m\u001b[0;34m,\u001b[0m \u001b[0;36m5\u001b[0m\u001b[0;34m)\u001b[0m\u001b[0;34m)\u001b[0m\u001b[0;34m\u001b[0m\u001b[0;34m\u001b[0m\u001b[0m\n\u001b[1;32m      5\u001b[0m \u001b[0msns\u001b[0m\u001b[0;34m.\u001b[0m\u001b[0mset\u001b[0m\u001b[0;34m(\u001b[0m\u001b[0mstyle\u001b[0m\u001b[0;34m=\u001b[0m\u001b[0;34m\"white\"\u001b[0m\u001b[0;34m)\u001b[0m\u001b[0;34m\u001b[0m\u001b[0;34m\u001b[0m\u001b[0m\n\u001b[0;32m----> 6\u001b[0;31m \u001b[0mpop\u001b[0m\u001b[0;34m=\u001b[0m\u001b[0msns\u001b[0m\u001b[0;34m.\u001b[0m\u001b[0mbarplot\u001b[0m\u001b[0;34m(\u001b[0m\u001b[0mx\u001b[0m\u001b[0;34m=\u001b[0m\u001b[0mtrain\u001b[0m\u001b[0;34m[\u001b[0m\u001b[0;34m'popularity'\u001b[0m\u001b[0;34m]\u001b[0m\u001b[0;34m,\u001b[0m \u001b[0my\u001b[0m\u001b[0;34m=\u001b[0m\u001b[0man\u001b[0m \u001b[0;34m)\u001b[0m\u001b[0;34m\u001b[0m\u001b[0;34m\u001b[0m\u001b[0m\n\u001b[0m\u001b[1;32m      7\u001b[0m \u001b[0mplt\u001b[0m\u001b[0;34m.\u001b[0m\u001b[0mtitle\u001b[0m\u001b[0;34m(\u001b[0m\u001b[0;34m'Dependența popularity de duration_ms'\u001b[0m\u001b[0;34m)\u001b[0m\u001b[0;34m\u001b[0m\u001b[0;34m\u001b[0m\u001b[0m\n",
            "\u001b[0;32m/usr/local/lib/python3.6/dist-packages/seaborn/categorical.py\u001b[0m in \u001b[0;36mbarplot\u001b[0;34m(x, y, hue, data, order, hue_order, estimator, ci, n_boot, units, seed, orient, color, palette, saturation, errcolor, errwidth, capsize, dodge, ax, **kwargs)\u001b[0m\n\u001b[1;32m   3145\u001b[0m                           \u001b[0mestimator\u001b[0m\u001b[0;34m,\u001b[0m \u001b[0mci\u001b[0m\u001b[0;34m,\u001b[0m \u001b[0mn_boot\u001b[0m\u001b[0;34m,\u001b[0m \u001b[0munits\u001b[0m\u001b[0;34m,\u001b[0m \u001b[0mseed\u001b[0m\u001b[0;34m,\u001b[0m\u001b[0;34m\u001b[0m\u001b[0;34m\u001b[0m\u001b[0m\n\u001b[1;32m   3146\u001b[0m                           \u001b[0morient\u001b[0m\u001b[0;34m,\u001b[0m \u001b[0mcolor\u001b[0m\u001b[0;34m,\u001b[0m \u001b[0mpalette\u001b[0m\u001b[0;34m,\u001b[0m \u001b[0msaturation\u001b[0m\u001b[0;34m,\u001b[0m\u001b[0;34m\u001b[0m\u001b[0;34m\u001b[0m\u001b[0m\n\u001b[0;32m-> 3147\u001b[0;31m                           errcolor, errwidth, capsize, dodge)\n\u001b[0m\u001b[1;32m   3148\u001b[0m \u001b[0;34m\u001b[0m\u001b[0m\n\u001b[1;32m   3149\u001b[0m     \u001b[0;32mif\u001b[0m \u001b[0max\u001b[0m \u001b[0;32mis\u001b[0m \u001b[0;32mNone\u001b[0m\u001b[0;34m:\u001b[0m\u001b[0;34m\u001b[0m\u001b[0;34m\u001b[0m\u001b[0m\n",
            "\u001b[0;32m/usr/local/lib/python3.6/dist-packages/seaborn/categorical.py\u001b[0m in \u001b[0;36m__init__\u001b[0;34m(self, x, y, hue, data, order, hue_order, estimator, ci, n_boot, units, seed, orient, color, palette, saturation, errcolor, errwidth, capsize, dodge)\u001b[0m\n\u001b[1;32m   1601\u001b[0m         \u001b[0;34m\"\"\"Initialize the plotter.\"\"\"\u001b[0m\u001b[0;34m\u001b[0m\u001b[0;34m\u001b[0m\u001b[0m\n\u001b[1;32m   1602\u001b[0m         self.establish_variables(x, y, hue, data, orient,\n\u001b[0;32m-> 1603\u001b[0;31m                                  order, hue_order, units)\n\u001b[0m\u001b[1;32m   1604\u001b[0m         \u001b[0mself\u001b[0m\u001b[0;34m.\u001b[0m\u001b[0mestablish_colors\u001b[0m\u001b[0;34m(\u001b[0m\u001b[0mcolor\u001b[0m\u001b[0;34m,\u001b[0m \u001b[0mpalette\u001b[0m\u001b[0;34m,\u001b[0m \u001b[0msaturation\u001b[0m\u001b[0;34m)\u001b[0m\u001b[0;34m\u001b[0m\u001b[0;34m\u001b[0m\u001b[0m\n\u001b[1;32m   1605\u001b[0m         \u001b[0mself\u001b[0m\u001b[0;34m.\u001b[0m\u001b[0mestimate_statistic\u001b[0m\u001b[0;34m(\u001b[0m\u001b[0mestimator\u001b[0m\u001b[0;34m,\u001b[0m \u001b[0mci\u001b[0m\u001b[0;34m,\u001b[0m \u001b[0mn_boot\u001b[0m\u001b[0;34m,\u001b[0m \u001b[0mseed\u001b[0m\u001b[0;34m)\u001b[0m\u001b[0;34m\u001b[0m\u001b[0;34m\u001b[0m\u001b[0m\n",
            "\u001b[0;32m/usr/local/lib/python3.6/dist-packages/seaborn/categorical.py\u001b[0m in \u001b[0;36mestablish_variables\u001b[0;34m(self, x, y, hue, data, orient, order, hue_order, units)\u001b[0m\n\u001b[1;32m    198\u001b[0m \u001b[0;34m\u001b[0m\u001b[0m\n\u001b[1;32m    199\u001b[0m                 \u001b[0;31m# Get the order on the categorical axis\u001b[0m\u001b[0;34m\u001b[0m\u001b[0;34m\u001b[0m\u001b[0;34m\u001b[0m\u001b[0m\n\u001b[0;32m--> 200\u001b[0;31m                 \u001b[0mgroup_names\u001b[0m \u001b[0;34m=\u001b[0m \u001b[0mcategorical_order\u001b[0m\u001b[0;34m(\u001b[0m\u001b[0mgroups\u001b[0m\u001b[0;34m,\u001b[0m \u001b[0morder\u001b[0m\u001b[0;34m)\u001b[0m\u001b[0;34m\u001b[0m\u001b[0;34m\u001b[0m\u001b[0m\n\u001b[0m\u001b[1;32m    201\u001b[0m \u001b[0;34m\u001b[0m\u001b[0m\n\u001b[1;32m    202\u001b[0m                 \u001b[0;31m# Group the numeric data\u001b[0m\u001b[0;34m\u001b[0m\u001b[0;34m\u001b[0m\u001b[0;34m\u001b[0m\u001b[0m\n",
            "\u001b[0;32m/usr/local/lib/python3.6/dist-packages/seaborn/utils.py\u001b[0m in \u001b[0;36mcategorical_order\u001b[0;34m(values, order)\u001b[0m\n\u001b[1;32m    547\u001b[0m                     \u001b[0morder\u001b[0m \u001b[0;34m=\u001b[0m \u001b[0mvalues\u001b[0m\u001b[0;34m.\u001b[0m\u001b[0munique\u001b[0m\u001b[0;34m(\u001b[0m\u001b[0;34m)\u001b[0m\u001b[0;34m\u001b[0m\u001b[0;34m\u001b[0m\u001b[0m\n\u001b[1;32m    548\u001b[0m                 \u001b[0;32mexcept\u001b[0m \u001b[0mAttributeError\u001b[0m\u001b[0;34m:\u001b[0m\u001b[0;34m\u001b[0m\u001b[0;34m\u001b[0m\u001b[0m\n\u001b[0;32m--> 549\u001b[0;31m                     \u001b[0morder\u001b[0m \u001b[0;34m=\u001b[0m \u001b[0mpd\u001b[0m\u001b[0;34m.\u001b[0m\u001b[0munique\u001b[0m\u001b[0;34m(\u001b[0m\u001b[0mvalues\u001b[0m\u001b[0;34m)\u001b[0m\u001b[0;34m\u001b[0m\u001b[0;34m\u001b[0m\u001b[0m\n\u001b[0m\u001b[1;32m    550\u001b[0m                 \u001b[0;32mtry\u001b[0m\u001b[0;34m:\u001b[0m\u001b[0;34m\u001b[0m\u001b[0;34m\u001b[0m\u001b[0m\n\u001b[1;32m    551\u001b[0m                     \u001b[0mnp\u001b[0m\u001b[0;34m.\u001b[0m\u001b[0masarray\u001b[0m\u001b[0;34m(\u001b[0m\u001b[0mvalues\u001b[0m\u001b[0;34m)\u001b[0m\u001b[0;34m.\u001b[0m\u001b[0mastype\u001b[0m\u001b[0;34m(\u001b[0m\u001b[0mnp\u001b[0m\u001b[0;34m.\u001b[0m\u001b[0mfloat\u001b[0m\u001b[0;34m)\u001b[0m\u001b[0;34m\u001b[0m\u001b[0;34m\u001b[0m\u001b[0m\n",
            "\u001b[0;32m/usr/local/lib/python3.6/dist-packages/pandas/core/algorithms.py\u001b[0m in \u001b[0;36munique\u001b[0;34m(values)\u001b[0m\n\u001b[1;32m    370\u001b[0m     \"\"\"\n\u001b[1;32m    371\u001b[0m \u001b[0;34m\u001b[0m\u001b[0m\n\u001b[0;32m--> 372\u001b[0;31m     \u001b[0mvalues\u001b[0m \u001b[0;34m=\u001b[0m \u001b[0m_ensure_arraylike\u001b[0m\u001b[0;34m(\u001b[0m\u001b[0mvalues\u001b[0m\u001b[0;34m)\u001b[0m\u001b[0;34m\u001b[0m\u001b[0;34m\u001b[0m\u001b[0m\n\u001b[0m\u001b[1;32m    373\u001b[0m \u001b[0;34m\u001b[0m\u001b[0m\n\u001b[1;32m    374\u001b[0m     \u001b[0;32mif\u001b[0m \u001b[0mis_extension_array_dtype\u001b[0m\u001b[0;34m(\u001b[0m\u001b[0mvalues\u001b[0m\u001b[0;34m)\u001b[0m\u001b[0;34m:\u001b[0m\u001b[0;34m\u001b[0m\u001b[0;34m\u001b[0m\u001b[0m\n",
            "\u001b[0;32m/usr/local/lib/python3.6/dist-packages/pandas/core/algorithms.py\u001b[0m in \u001b[0;36m_ensure_arraylike\u001b[0;34m(values)\u001b[0m\n\u001b[1;32m    212\u001b[0m             \u001b[0;32mif\u001b[0m \u001b[0misinstance\u001b[0m\u001b[0;34m(\u001b[0m\u001b[0mvalues\u001b[0m\u001b[0;34m,\u001b[0m \u001b[0mtuple\u001b[0m\u001b[0;34m)\u001b[0m\u001b[0;34m:\u001b[0m\u001b[0;34m\u001b[0m\u001b[0;34m\u001b[0m\u001b[0m\n\u001b[1;32m    213\u001b[0m                 \u001b[0mvalues\u001b[0m \u001b[0;34m=\u001b[0m \u001b[0mlist\u001b[0m\u001b[0;34m(\u001b[0m\u001b[0mvalues\u001b[0m\u001b[0;34m)\u001b[0m\u001b[0;34m\u001b[0m\u001b[0;34m\u001b[0m\u001b[0m\n\u001b[0;32m--> 214\u001b[0;31m             \u001b[0mvalues\u001b[0m \u001b[0;34m=\u001b[0m \u001b[0mconstruct_1d_object_array_from_listlike\u001b[0m\u001b[0;34m(\u001b[0m\u001b[0mvalues\u001b[0m\u001b[0;34m)\u001b[0m\u001b[0;34m\u001b[0m\u001b[0;34m\u001b[0m\u001b[0m\n\u001b[0m\u001b[1;32m    215\u001b[0m         \u001b[0;32melse\u001b[0m\u001b[0;34m:\u001b[0m\u001b[0;34m\u001b[0m\u001b[0;34m\u001b[0m\u001b[0m\n\u001b[1;32m    216\u001b[0m             \u001b[0mvalues\u001b[0m \u001b[0;34m=\u001b[0m \u001b[0mnp\u001b[0m\u001b[0;34m.\u001b[0m\u001b[0masarray\u001b[0m\u001b[0;34m(\u001b[0m\u001b[0mvalues\u001b[0m\u001b[0;34m)\u001b[0m\u001b[0;34m\u001b[0m\u001b[0;34m\u001b[0m\u001b[0m\n",
            "\u001b[0;32m/usr/local/lib/python3.6/dist-packages/pandas/core/dtypes/cast.py\u001b[0m in \u001b[0;36mconstruct_1d_object_array_from_listlike\u001b[0;34m(values)\u001b[0m\n\u001b[1;32m   1477\u001b[0m     \u001b[0;31m# making a 1D array that contains list-likes is a bit tricky:\u001b[0m\u001b[0;34m\u001b[0m\u001b[0;34m\u001b[0m\u001b[0;34m\u001b[0m\u001b[0m\n\u001b[1;32m   1478\u001b[0m     \u001b[0mresult\u001b[0m \u001b[0;34m=\u001b[0m \u001b[0mnp\u001b[0m\u001b[0;34m.\u001b[0m\u001b[0mempty\u001b[0m\u001b[0;34m(\u001b[0m\u001b[0mlen\u001b[0m\u001b[0;34m(\u001b[0m\u001b[0mvalues\u001b[0m\u001b[0;34m)\u001b[0m\u001b[0;34m,\u001b[0m \u001b[0mdtype\u001b[0m\u001b[0;34m=\u001b[0m\u001b[0;34m\"object\"\u001b[0m\u001b[0;34m)\u001b[0m\u001b[0;34m\u001b[0m\u001b[0;34m\u001b[0m\u001b[0m\n\u001b[0;32m-> 1479\u001b[0;31m     \u001b[0mresult\u001b[0m\u001b[0;34m[\u001b[0m\u001b[0;34m:\u001b[0m\u001b[0;34m]\u001b[0m \u001b[0;34m=\u001b[0m \u001b[0mvalues\u001b[0m\u001b[0;34m\u001b[0m\u001b[0;34m\u001b[0m\u001b[0m\n\u001b[0m\u001b[1;32m   1480\u001b[0m     \u001b[0;32mreturn\u001b[0m \u001b[0mresult\u001b[0m\u001b[0;34m\u001b[0m\u001b[0;34m\u001b[0m\u001b[0m\n\u001b[1;32m   1481\u001b[0m \u001b[0;34m\u001b[0m\u001b[0m\n",
            "\u001b[0;31mValueError\u001b[0m: could not broadcast input array from shape (681,19) into shape (681)"
          ]
        },
        {
          "output_type": "display_data",
          "data": {
            "text/plain": [
              "<Figure size 1008x360 with 0 Axes>"
            ]
          },
          "metadata": {
            "tags": []
          }
        }
      ]
    },
    {
      "cell_type": "markdown",
      "metadata": {
        "id": "Yg-FpdHYH1xH"
      },
      "source": [
        "#**3.TEMPO** & **DURATION**"
      ]
    },
    {
      "cell_type": "markdown",
      "metadata": {
        "id": "5EhrTt1ZnLj-"
      },
      "source": [
        "Selectam cantecele cu popularitate 8 sau mai mare."
      ]
    },
    {
      "cell_type": "code",
      "metadata": {
        "id": "Pgdke1OcHwic",
        "colab": {
          "base_uri": "https://localhost:8080/",
          "height": 627
        },
        "outputId": "b292ab1e-8711-402f-ac9b-cc44a3fbba21"
      },
      "source": [
        "train_top = train['popularity'] >=8\n",
        "train_top_z=train[train_top]\n",
        "train_top_z"
      ],
      "execution_count": null,
      "outputs": [
        {
          "output_type": "execute_result",
          "data": {
            "text/html": [
              "<div>\n",
              "<style scoped>\n",
              "    .dataframe tbody tr th:only-of-type {\n",
              "        vertical-align: middle;\n",
              "    }\n",
              "\n",
              "    .dataframe tbody tr th {\n",
              "        vertical-align: top;\n",
              "    }\n",
              "\n",
              "    .dataframe thead th {\n",
              "        text-align: right;\n",
              "    }\n",
              "</style>\n",
              "<table border=\"1\" class=\"dataframe\">\n",
              "  <thead>\n",
              "    <tr style=\"text-align: right;\">\n",
              "      <th></th>\n",
              "      <th>ID</th>\n",
              "      <th>acousticness</th>\n",
              "      <th>artists</th>\n",
              "      <th>danceability</th>\n",
              "      <th>duration_ms</th>\n",
              "      <th>energy</th>\n",
              "      <th>explicit</th>\n",
              "      <th>instrumentalness</th>\n",
              "      <th>key</th>\n",
              "      <th>liveness</th>\n",
              "      <th>loudness</th>\n",
              "      <th>mode</th>\n",
              "      <th>name</th>\n",
              "      <th>release_date</th>\n",
              "      <th>speechiness</th>\n",
              "      <th>tempo</th>\n",
              "      <th>valence</th>\n",
              "      <th>year</th>\n",
              "      <th>popularity</th>\n",
              "    </tr>\n",
              "  </thead>\n",
              "  <tbody>\n",
              "    <tr>\n",
              "      <th>154</th>\n",
              "      <td>87912</td>\n",
              "      <td>0.00929</td>\n",
              "      <td>Taylor Swift</td>\n",
              "      <td>0.771</td>\n",
              "      <td>171360</td>\n",
              "      <td>0.671</td>\n",
              "      <td>0</td>\n",
              "      <td>0.000000</td>\n",
              "      <td>2</td>\n",
              "      <td>0.0637</td>\n",
              "      <td>-5.617</td>\n",
              "      <td>1</td>\n",
              "      <td>You Need To Calm Down</td>\n",
              "      <td>2019-08-23</td>\n",
              "      <td>0.0553</td>\n",
              "      <td>85.026</td>\n",
              "      <td>0.714</td>\n",
              "      <td>2019</td>\n",
              "      <td>8</td>\n",
              "    </tr>\n",
              "    <tr>\n",
              "      <th>213</th>\n",
              "      <td>135443</td>\n",
              "      <td>0.03110</td>\n",
              "      <td>Dua Lipa</td>\n",
              "      <td>0.906</td>\n",
              "      <td>194607</td>\n",
              "      <td>0.474</td>\n",
              "      <td>0</td>\n",
              "      <td>0.000005</td>\n",
              "      <td>1</td>\n",
              "      <td>0.2860</td>\n",
              "      <td>-6.124</td>\n",
              "      <td>1</td>\n",
              "      <td>Pretty Please</td>\n",
              "      <td>2020-03-27</td>\n",
              "      <td>0.1940</td>\n",
              "      <td>106.977</td>\n",
              "      <td>0.654</td>\n",
              "      <td>2020</td>\n",
              "      <td>8</td>\n",
              "    </tr>\n",
              "    <tr>\n",
              "      <th>522</th>\n",
              "      <td>87591</td>\n",
              "      <td>0.16200</td>\n",
              "      <td>EDEN</td>\n",
              "      <td>0.413</td>\n",
              "      <td>218808</td>\n",
              "      <td>0.521</td>\n",
              "      <td>0</td>\n",
              "      <td>0.000000</td>\n",
              "      <td>9</td>\n",
              "      <td>0.3230</td>\n",
              "      <td>-4.469</td>\n",
              "      <td>1</td>\n",
              "      <td>sex (catching feelings)</td>\n",
              "      <td>2016-08-19</td>\n",
              "      <td>0.0466</td>\n",
              "      <td>103.391</td>\n",
              "      <td>0.532</td>\n",
              "      <td>2016</td>\n",
              "      <td>8</td>\n",
              "    </tr>\n",
              "    <tr>\n",
              "      <th>635</th>\n",
              "      <td>97695</td>\n",
              "      <td>0.21000</td>\n",
              "      <td>Harry Styles</td>\n",
              "      <td>0.448</td>\n",
              "      <td>208907</td>\n",
              "      <td>0.838</td>\n",
              "      <td>0</td>\n",
              "      <td>0.000131</td>\n",
              "      <td>4</td>\n",
              "      <td>0.1310</td>\n",
              "      <td>-5.257</td>\n",
              "      <td>0</td>\n",
              "      <td>Golden</td>\n",
              "      <td>2019-12-13</td>\n",
              "      <td>0.0557</td>\n",
              "      <td>139.863</td>\n",
              "      <td>0.254</td>\n",
              "      <td>2019</td>\n",
              "      <td>8</td>\n",
              "    </tr>\n",
              "    <tr>\n",
              "      <th>650</th>\n",
              "      <td>97688</td>\n",
              "      <td>0.10900</td>\n",
              "      <td>Trippie Redd, Juice WRLD, YNW Melly</td>\n",
              "      <td>0.687</td>\n",
              "      <td>199437</td>\n",
              "      <td>0.449</td>\n",
              "      <td>1</td>\n",
              "      <td>0.000000</td>\n",
              "      <td>2</td>\n",
              "      <td>0.2820</td>\n",
              "      <td>-10.061</td>\n",
              "      <td>1</td>\n",
              "      <td>6 Kiss</td>\n",
              "      <td>2019-11-22</td>\n",
              "      <td>0.1540</td>\n",
              "      <td>142.048</td>\n",
              "      <td>0.229</td>\n",
              "      <td>2019</td>\n",
              "      <td>8</td>\n",
              "    </tr>\n",
              "    <tr>\n",
              "      <th>...</th>\n",
              "      <td>...</td>\n",
              "      <td>...</td>\n",
              "      <td>...</td>\n",
              "      <td>...</td>\n",
              "      <td>...</td>\n",
              "      <td>...</td>\n",
              "      <td>...</td>\n",
              "      <td>...</td>\n",
              "      <td>...</td>\n",
              "      <td>...</td>\n",
              "      <td>...</td>\n",
              "      <td>...</td>\n",
              "      <td>...</td>\n",
              "      <td>...</td>\n",
              "      <td>...</td>\n",
              "      <td>...</td>\n",
              "      <td>...</td>\n",
              "      <td>...</td>\n",
              "      <td>...</td>\n",
              "    </tr>\n",
              "    <tr>\n",
              "      <th>118569</th>\n",
              "      <td>55609</td>\n",
              "      <td>0.17900</td>\n",
              "      <td>Imanbek, Martin Jensen</td>\n",
              "      <td>0.736</td>\n",
              "      <td>164885</td>\n",
              "      <td>0.657</td>\n",
              "      <td>1</td>\n",
              "      <td>0.000004</td>\n",
              "      <td>0</td>\n",
              "      <td>0.1180</td>\n",
              "      <td>-7.512</td>\n",
              "      <td>1</td>\n",
              "      <td>I'm Just Feelin' (Du Du Du)</td>\n",
              "      <td>2020-05-01</td>\n",
              "      <td>0.0668</td>\n",
              "      <td>115.989</td>\n",
              "      <td>0.548</td>\n",
              "      <td>2020</td>\n",
              "      <td>8</td>\n",
              "    </tr>\n",
              "    <tr>\n",
              "      <th>118580</th>\n",
              "      <td>87922</td>\n",
              "      <td>0.01310</td>\n",
              "      <td>iann dior</td>\n",
              "      <td>0.630</td>\n",
              "      <td>131213</td>\n",
              "      <td>0.630</td>\n",
              "      <td>0</td>\n",
              "      <td>0.000000</td>\n",
              "      <td>9</td>\n",
              "      <td>0.1420</td>\n",
              "      <td>-6.211</td>\n",
              "      <td>1</td>\n",
              "      <td>emotions</td>\n",
              "      <td>2019-05-22</td>\n",
              "      <td>0.0395</td>\n",
              "      <td>80.512</td>\n",
              "      <td>0.163</td>\n",
              "      <td>2019</td>\n",
              "      <td>8</td>\n",
              "    </tr>\n",
              "    <tr>\n",
              "      <th>118673</th>\n",
              "      <td>126063</td>\n",
              "      <td>0.12700</td>\n",
              "      <td>Jack &amp; Jack</td>\n",
              "      <td>0.700</td>\n",
              "      <td>182920</td>\n",
              "      <td>0.748</td>\n",
              "      <td>0</td>\n",
              "      <td>0.000000</td>\n",
              "      <td>1</td>\n",
              "      <td>0.0941</td>\n",
              "      <td>-6.044</td>\n",
              "      <td>1</td>\n",
              "      <td>No One Compares To You</td>\n",
              "      <td>2019-01-25</td>\n",
              "      <td>0.0434</td>\n",
              "      <td>111.939</td>\n",
              "      <td>0.631</td>\n",
              "      <td>2019</td>\n",
              "      <td>8</td>\n",
              "    </tr>\n",
              "    <tr>\n",
              "      <th>118806</th>\n",
              "      <td>87939</td>\n",
              "      <td>0.15200</td>\n",
              "      <td>J Balvin, Bad Bunny</td>\n",
              "      <td>0.754</td>\n",
              "      <td>242573</td>\n",
              "      <td>0.646</td>\n",
              "      <td>0</td>\n",
              "      <td>0.000018</td>\n",
              "      <td>7</td>\n",
              "      <td>0.1080</td>\n",
              "      <td>-5.795</td>\n",
              "      <td>1</td>\n",
              "      <td>LA CANCIÓN</td>\n",
              "      <td>2019-06-28</td>\n",
              "      <td>0.3170</td>\n",
              "      <td>176.089</td>\n",
              "      <td>0.429</td>\n",
              "      <td>2019</td>\n",
              "      <td>8</td>\n",
              "    </tr>\n",
              "    <tr>\n",
              "      <th>118902</th>\n",
              "      <td>84654</td>\n",
              "      <td>0.02980</td>\n",
              "      <td>Starship</td>\n",
              "      <td>0.643</td>\n",
              "      <td>270333</td>\n",
              "      <td>0.801</td>\n",
              "      <td>0</td>\n",
              "      <td>0.000000</td>\n",
              "      <td>6</td>\n",
              "      <td>0.0719</td>\n",
              "      <td>-4.921</td>\n",
              "      <td>1</td>\n",
              "      <td>Nothing's Gonna Stop Us Now</td>\n",
              "      <td>1987-07-27</td>\n",
              "      <td>0.0228</td>\n",
              "      <td>95.988</td>\n",
              "      <td>0.534</td>\n",
              "      <td>1987</td>\n",
              "      <td>8</td>\n",
              "    </tr>\n",
              "  </tbody>\n",
              "</table>\n",
              "<p>1270 rows × 19 columns</p>\n",
              "</div>"
            ],
            "text/plain": [
              "            ID  acousticness  ...  year  popularity\n",
              "154      87912       0.00929  ...  2019           8\n",
              "213     135443       0.03110  ...  2020           8\n",
              "522      87591       0.16200  ...  2016           8\n",
              "635      97695       0.21000  ...  2019           8\n",
              "650      97688       0.10900  ...  2019           8\n",
              "...        ...           ...  ...   ...         ...\n",
              "118569   55609       0.17900  ...  2020           8\n",
              "118580   87922       0.01310  ...  2019           8\n",
              "118673  126063       0.12700  ...  2019           8\n",
              "118806   87939       0.15200  ...  2019           8\n",
              "118902   84654       0.02980  ...  1987           8\n",
              "\n",
              "[1270 rows x 19 columns]"
            ]
          },
          "metadata": {
            "tags": []
          },
          "execution_count": 34
        }
      ]
    },
    {
      "cell_type": "code",
      "metadata": {
        "id": "FWtpNvrcHxaC",
        "colab": {
          "base_uri": "https://localhost:8080/",
          "height": 405
        },
        "outputId": "2117443c-c6e5-44d3-b1e4-b3aef92ed3fc"
      },
      "source": [
        "z=train_top_z['tempo'].value_counts().rename_axis('tempoul').reset_index(name='counts')\n",
        "z"
      ],
      "execution_count": null,
      "outputs": [
        {
          "output_type": "execute_result",
          "data": {
            "text/html": [
              "<div>\n",
              "<style scoped>\n",
              "    .dataframe tbody tr th:only-of-type {\n",
              "        vertical-align: middle;\n",
              "    }\n",
              "\n",
              "    .dataframe tbody tr th {\n",
              "        vertical-align: top;\n",
              "    }\n",
              "\n",
              "    .dataframe thead th {\n",
              "        text-align: right;\n",
              "    }\n",
              "</style>\n",
              "<table border=\"1\" class=\"dataframe\">\n",
              "  <thead>\n",
              "    <tr style=\"text-align: right;\">\n",
              "      <th></th>\n",
              "      <th>tempoul</th>\n",
              "      <th>counts</th>\n",
              "    </tr>\n",
              "  </thead>\n",
              "  <tbody>\n",
              "    <tr>\n",
              "      <th>0</th>\n",
              "      <td>0.000</td>\n",
              "      <td>4</td>\n",
              "    </tr>\n",
              "    <tr>\n",
              "      <th>1</th>\n",
              "      <td>120.006</td>\n",
              "      <td>3</td>\n",
              "    </tr>\n",
              "    <tr>\n",
              "      <th>2</th>\n",
              "      <td>100.026</td>\n",
              "      <td>3</td>\n",
              "    </tr>\n",
              "    <tr>\n",
              "      <th>3</th>\n",
              "      <td>102.040</td>\n",
              "      <td>2</td>\n",
              "    </tr>\n",
              "    <tr>\n",
              "      <th>4</th>\n",
              "      <td>104.980</td>\n",
              "      <td>2</td>\n",
              "    </tr>\n",
              "    <tr>\n",
              "      <th>...</th>\n",
              "      <td>...</td>\n",
              "      <td>...</td>\n",
              "    </tr>\n",
              "    <tr>\n",
              "      <th>1220</th>\n",
              "      <td>123.911</td>\n",
              "      <td>1</td>\n",
              "    </tr>\n",
              "    <tr>\n",
              "      <th>1221</th>\n",
              "      <td>116.971</td>\n",
              "      <td>1</td>\n",
              "    </tr>\n",
              "    <tr>\n",
              "      <th>1222</th>\n",
              "      <td>184.819</td>\n",
              "      <td>1</td>\n",
              "    </tr>\n",
              "    <tr>\n",
              "      <th>1223</th>\n",
              "      <td>143.772</td>\n",
              "      <td>1</td>\n",
              "    </tr>\n",
              "    <tr>\n",
              "      <th>1224</th>\n",
              "      <td>102.000</td>\n",
              "      <td>1</td>\n",
              "    </tr>\n",
              "  </tbody>\n",
              "</table>\n",
              "<p>1225 rows × 2 columns</p>\n",
              "</div>"
            ],
            "text/plain": [
              "      tempoul  counts\n",
              "0       0.000       4\n",
              "1     120.006       3\n",
              "2     100.026       3\n",
              "3     102.040       2\n",
              "4     104.980       2\n",
              "...       ...     ...\n",
              "1220  123.911       1\n",
              "1221  116.971       1\n",
              "1222  184.819       1\n",
              "1223  143.772       1\n",
              "1224  102.000       1\n",
              "\n",
              "[1225 rows x 2 columns]"
            ]
          },
          "metadata": {
            "tags": []
          },
          "execution_count": 35
        }
      ]
    },
    {
      "cell_type": "code",
      "metadata": {
        "id": "UOOByzdnCoKS",
        "colab": {
          "base_uri": "https://localhost:8080/",
          "height": 267
        },
        "outputId": "e5ff31fb-dad3-4cb1-dd4a-a5b71a6e1822"
      },
      "source": [
        "ax=sns.kdeplot(train_top_z['tempo'], clip=(0, 250))"
      ],
      "execution_count": null,
      "outputs": [
        {
          "output_type": "display_data",
          "data": {
            "image/png": "[encoded data removed]",
            "text/plain": [
              "<Figure size 432x288 with 1 Axes>"
            ]
          },
          "metadata": {
            "tags": []
          }
        }
      ]
    },
    {
      "cell_type": "markdown",
      "metadata": {
        "id": "wxUFTZrsD0Ut"
      },
      "source": [
        "**Concluzie :** O caracteristica comuna a pieselor cu popularitate inalta este *Tempoul intre 83 si 133 bpm*"
      ]
    },
    {
      "cell_type": "markdown",
      "metadata": {
        "id": "r8AFKlVCBb7F"
      },
      "source": [
        "# **4.VALENCE & MONTH OF THE YEAR**"
      ]
    },
    {
      "cell_type": "markdown",
      "metadata": {
        "id": "eXhNz-DOC0nh"
      },
      "source": [
        "# **5.Cum depinde popularitatea de anul aparitiei piesei?**"
      ]
    },
    {
      "cell_type": "markdown",
      "metadata": {
        "id": "9Kpx3pBuXNWX"
      },
      "source": [
        "Ipoteza: Cu cat piesa este mai noua, cu atat sansa ei a fi populara este mai mare. Piesele vechi aun un nivel scazut de popularitate."
      ]
    },
    {
      "cell_type": "markdown",
      "metadata": {
        "id": "I8dTbeB5YCb3"
      },
      "source": [
        "Cautam cate piese au iesit in total in fiecare an: "
      ]
    },
    {
      "cell_type": "code",
      "metadata": {
        "id": "SirmEq-dJwYe",
        "colab": {
          "base_uri": "https://localhost:8080/",
          "height": 405
        },
        "outputId": "273cbbe6-d7e9-4e30-a1bc-de2028c1501e"
      },
      "source": [
        "total=train['year'].value_counts().rename_axis('year').reset_index(name='count')\n",
        "total.sort_values(by=['year'], inplace=True)\n",
        "total"
      ],
      "execution_count": null,
      "outputs": [
        {
          "output_type": "execute_result",
          "data": {
            "text/html": [
              "<div>\n",
              "<style scoped>\n",
              "    .dataframe tbody tr th:only-of-type {\n",
              "        vertical-align: middle;\n",
              "    }\n",
              "\n",
              "    .dataframe tbody tr th {\n",
              "        vertical-align: top;\n",
              "    }\n",
              "\n",
              "    .dataframe thead th {\n",
              "        text-align: right;\n",
              "    }\n",
              "</style>\n",
              "<table border=\"1\" class=\"dataframe\">\n",
              "  <thead>\n",
              "    <tr style=\"text-align: right;\">\n",
              "      <th></th>\n",
              "      <th>year</th>\n",
              "      <th>count</th>\n",
              "    </tr>\n",
              "  </thead>\n",
              "  <tbody>\n",
              "    <tr>\n",
              "      <th>98</th>\n",
              "      <td>1921</td>\n",
              "      <td>77</td>\n",
              "    </tr>\n",
              "    <tr>\n",
              "      <th>99</th>\n",
              "      <td>1922</td>\n",
              "      <td>48</td>\n",
              "    </tr>\n",
              "    <tr>\n",
              "      <th>97</th>\n",
              "      <td>1923</td>\n",
              "      <td>118</td>\n",
              "    </tr>\n",
              "    <tr>\n",
              "      <th>96</th>\n",
              "      <td>1924</td>\n",
              "      <td>159</td>\n",
              "    </tr>\n",
              "    <tr>\n",
              "      <th>95</th>\n",
              "      <td>1925</td>\n",
              "      <td>194</td>\n",
              "    </tr>\n",
              "    <tr>\n",
              "      <th>...</th>\n",
              "      <td>...</td>\n",
              "      <td>...</td>\n",
              "    </tr>\n",
              "    <tr>\n",
              "      <th>49</th>\n",
              "      <td>2016</td>\n",
              "      <td>1389</td>\n",
              "    </tr>\n",
              "    <tr>\n",
              "      <th>31</th>\n",
              "      <td>2017</td>\n",
              "      <td>1397</td>\n",
              "    </tr>\n",
              "    <tr>\n",
              "      <th>33</th>\n",
              "      <td>2018</td>\n",
              "      <td>1396</td>\n",
              "    </tr>\n",
              "    <tr>\n",
              "      <th>53</th>\n",
              "      <td>2019</td>\n",
              "      <td>1384</td>\n",
              "    </tr>\n",
              "    <tr>\n",
              "      <th>75</th>\n",
              "      <td>2020</td>\n",
              "      <td>1198</td>\n",
              "    </tr>\n",
              "  </tbody>\n",
              "</table>\n",
              "<p>100 rows × 2 columns</p>\n",
              "</div>"
            ],
            "text/plain": [
              "    year  count\n",
              "98  1921     77\n",
              "99  1922     48\n",
              "97  1923    118\n",
              "96  1924    159\n",
              "95  1925    194\n",
              "..   ...    ...\n",
              "49  2016   1389\n",
              "31  2017   1397\n",
              "33  2018   1396\n",
              "53  2019   1384\n",
              "75  2020   1198\n",
              "\n",
              "[100 rows x 2 columns]"
            ]
          },
          "metadata": {
            "tags": []
          },
          "execution_count": 37
        }
      ]
    },
    {
      "cell_type": "markdown",
      "metadata": {
        "id": "5CImuIbXYVBX"
      },
      "source": [
        "Pentru a crea un grafic frumos, selectam din dataframe doar anii si popularitatea, dupa care impartim in 3 categorii:\n",
        "1.  popularitate joasa - mai mica sau egala cu 3\n",
        "2.  popularitate medie - intre 4 si 6 inclusiv\n",
        "3.  popularitate inalta - 7 sau mai mare"
      ]
    },
    {
      "cell_type": "code",
      "metadata": {
        "id": "7Yl63npwL0kg",
        "colab": {
          "base_uri": "https://localhost:8080/",
          "height": 405
        },
        "outputId": "a3e2b51f-db72-43ba-8fc1-75ccdfb855e9"
      },
      "source": [
        "pop_x=train[['year', 'popularity']]\n",
        "pop_x"
      ],
      "execution_count": null,
      "outputs": [
        {
          "output_type": "execute_result",
          "data": {
            "text/html": [
              "<div>\n",
              "<style scoped>\n",
              "    .dataframe tbody tr th:only-of-type {\n",
              "        vertical-align: middle;\n",
              "    }\n",
              "\n",
              "    .dataframe tbody tr th {\n",
              "        vertical-align: top;\n",
              "    }\n",
              "\n",
              "    .dataframe thead th {\n",
              "        text-align: right;\n",
              "    }\n",
              "</style>\n",
              "<table border=\"1\" class=\"dataframe\">\n",
              "  <thead>\n",
              "    <tr style=\"text-align: right;\">\n",
              "      <th></th>\n",
              "      <th>year</th>\n",
              "      <th>popularity</th>\n",
              "    </tr>\n",
              "  </thead>\n",
              "  <tbody>\n",
              "    <tr>\n",
              "      <th>0</th>\n",
              "      <td>2002</td>\n",
              "      <td>4</td>\n",
              "    </tr>\n",
              "    <tr>\n",
              "      <th>1</th>\n",
              "      <td>1963</td>\n",
              "      <td>4</td>\n",
              "    </tr>\n",
              "    <tr>\n",
              "      <th>2</th>\n",
              "      <td>1987</td>\n",
              "      <td>4</td>\n",
              "    </tr>\n",
              "    <tr>\n",
              "      <th>3</th>\n",
              "      <td>1946</td>\n",
              "      <td>0</td>\n",
              "    </tr>\n",
              "    <tr>\n",
              "      <th>4</th>\n",
              "      <td>1955</td>\n",
              "      <td>0</td>\n",
              "    </tr>\n",
              "    <tr>\n",
              "      <th>...</th>\n",
              "      <td>...</td>\n",
              "      <td>...</td>\n",
              "    </tr>\n",
              "    <tr>\n",
              "      <th>118931</th>\n",
              "      <td>1957</td>\n",
              "      <td>2</td>\n",
              "    </tr>\n",
              "    <tr>\n",
              "      <th>118932</th>\n",
              "      <td>1984</td>\n",
              "      <td>5</td>\n",
              "    </tr>\n",
              "    <tr>\n",
              "      <th>118933</th>\n",
              "      <td>1984</td>\n",
              "      <td>5</td>\n",
              "    </tr>\n",
              "    <tr>\n",
              "      <th>118934</th>\n",
              "      <td>1959</td>\n",
              "      <td>2</td>\n",
              "    </tr>\n",
              "    <tr>\n",
              "      <th>118935</th>\n",
              "      <td>1978</td>\n",
              "      <td>5</td>\n",
              "    </tr>\n",
              "  </tbody>\n",
              "</table>\n",
              "<p>118411 rows × 2 columns</p>\n",
              "</div>"
            ],
            "text/plain": [
              "        year  popularity\n",
              "0       2002           4\n",
              "1       1963           4\n",
              "2       1987           4\n",
              "3       1946           0\n",
              "4       1955           0\n",
              "...      ...         ...\n",
              "118931  1957           2\n",
              "118932  1984           5\n",
              "118933  1984           5\n",
              "118934  1959           2\n",
              "118935  1978           5\n",
              "\n",
              "[118411 rows x 2 columns]"
            ]
          },
          "metadata": {
            "tags": []
          },
          "execution_count": 38
        }
      ]
    },
    {
      "cell_type": "markdown",
      "metadata": {
        "id": "PotfPqTxY8uB"
      },
      "source": [
        "Impartirea pe coloane aparte ne va ajuta la crearea unui format de date potrivit pentru grafic."
      ]
    },
    {
      "cell_type": "code",
      "metadata": {
        "id": "q_p8pg26a2YY",
        "colab": {
          "base_uri": "https://localhost:8080/",
          "height": 610
        },
        "outputId": "e698ff9a-0245-4276-a0da-326b5aed9062"
      },
      "source": [
        "pop_x.loc[pop_x['popularity']<=3, 'pop_cow']=\"low\" \n",
        "pop_x.loc[pop_x['popularity']>3, 'pop_cow']=np.NaN \n",
        "pop_x.loc[(pop_x['popularity']>3)&(pop_x['popularity']<=6), 'pop_cam']=\"medium\" \n",
        "pop_x.loc[(pop_x['popularity']<3)&(pop_x['popularity']>=6), 'pop_cam']=np.NaN \n",
        "pop_x.loc[(pop_x['popularity']>=7), 'pop_cgh']=\"high\" \n",
        "pop_x.loc[pop_x['popularity']<7, 'pop_cgh']=np.NaN \n",
        "pop_x"
      ],
      "execution_count": null,
      "outputs": [
        {
          "output_type": "stream",
          "text": [
            "/usr/local/lib/python3.6/dist-packages/pandas/core/indexing.py:845: SettingWithCopyWarning: \n",
            "A value is trying to be set on a copy of a slice from a DataFrame.\n",
            "Try using .loc[row_indexer,col_indexer] = value instead\n",
            "\n",
            "See the caveats in the documentation: https://pandas.pydata.org/pandas-docs/stable/user_guide/indexing.html#returning-a-view-versus-a-copy\n",
            "  self.obj[key] = _infer_fill_value(value)\n",
            "/usr/local/lib/python3.6/dist-packages/pandas/core/indexing.py:966: SettingWithCopyWarning: \n",
            "A value is trying to be set on a copy of a slice from a DataFrame.\n",
            "Try using .loc[row_indexer,col_indexer] = value instead\n",
            "\n",
            "See the caveats in the documentation: https://pandas.pydata.org/pandas-docs/stable/user_guide/indexing.html#returning-a-view-versus-a-copy\n",
            "  self.obj[item] = s\n"
          ],
          "name": "stderr"
        },
        {
          "output_type": "execute_result",
          "data": {
            "text/html": [
              "<div>\n",
              "<style scoped>\n",
              "    .dataframe tbody tr th:only-of-type {\n",
              "        vertical-align: middle;\n",
              "    }\n",
              "\n",
              "    .dataframe tbody tr th {\n",
              "        vertical-align: top;\n",
              "    }\n",
              "\n",
              "    .dataframe thead th {\n",
              "        text-align: right;\n",
              "    }\n",
              "</style>\n",
              "<table border=\"1\" class=\"dataframe\">\n",
              "  <thead>\n",
              "    <tr style=\"text-align: right;\">\n",
              "      <th></th>\n",
              "      <th>year</th>\n",
              "      <th>popularity</th>\n",
              "      <th>pop_cow</th>\n",
              "      <th>pop_cam</th>\n",
              "      <th>pop_cgh</th>\n",
              "    </tr>\n",
              "  </thead>\n",
              "  <tbody>\n",
              "    <tr>\n",
              "      <th>0</th>\n",
              "      <td>2002</td>\n",
              "      <td>4</td>\n",
              "      <td>NaN</td>\n",
              "      <td>medium</td>\n",
              "      <td>NaN</td>\n",
              "    </tr>\n",
              "    <tr>\n",
              "      <th>1</th>\n",
              "      <td>1963</td>\n",
              "      <td>4</td>\n",
              "      <td>NaN</td>\n",
              "      <td>medium</td>\n",
              "      <td>NaN</td>\n",
              "    </tr>\n",
              "    <tr>\n",
              "      <th>2</th>\n",
              "      <td>1987</td>\n",
              "      <td>4</td>\n",
              "      <td>NaN</td>\n",
              "      <td>medium</td>\n",
              "      <td>NaN</td>\n",
              "    </tr>\n",
              "    <tr>\n",
              "      <th>3</th>\n",
              "      <td>1946</td>\n",
              "      <td>0</td>\n",
              "      <td>low</td>\n",
              "      <td>NaN</td>\n",
              "      <td>NaN</td>\n",
              "    </tr>\n",
              "    <tr>\n",
              "      <th>4</th>\n",
              "      <td>1955</td>\n",
              "      <td>0</td>\n",
              "      <td>low</td>\n",
              "      <td>NaN</td>\n",
              "      <td>NaN</td>\n",
              "    </tr>\n",
              "    <tr>\n",
              "      <th>...</th>\n",
              "      <td>...</td>\n",
              "      <td>...</td>\n",
              "      <td>...</td>\n",
              "      <td>...</td>\n",
              "      <td>...</td>\n",
              "    </tr>\n",
              "    <tr>\n",
              "      <th>118931</th>\n",
              "      <td>1957</td>\n",
              "      <td>2</td>\n",
              "      <td>low</td>\n",
              "      <td>NaN</td>\n",
              "      <td>NaN</td>\n",
              "    </tr>\n",
              "    <tr>\n",
              "      <th>118932</th>\n",
              "      <td>1984</td>\n",
              "      <td>5</td>\n",
              "      <td>NaN</td>\n",
              "      <td>medium</td>\n",
              "      <td>NaN</td>\n",
              "    </tr>\n",
              "    <tr>\n",
              "      <th>118933</th>\n",
              "      <td>1984</td>\n",
              "      <td>5</td>\n",
              "      <td>NaN</td>\n",
              "      <td>medium</td>\n",
              "      <td>NaN</td>\n",
              "    </tr>\n",
              "    <tr>\n",
              "      <th>118934</th>\n",
              "      <td>1959</td>\n",
              "      <td>2</td>\n",
              "      <td>low</td>\n",
              "      <td>NaN</td>\n",
              "      <td>NaN</td>\n",
              "    </tr>\n",
              "    <tr>\n",
              "      <th>118935</th>\n",
              "      <td>1978</td>\n",
              "      <td>5</td>\n",
              "      <td>NaN</td>\n",
              "      <td>medium</td>\n",
              "      <td>NaN</td>\n",
              "    </tr>\n",
              "  </tbody>\n",
              "</table>\n",
              "<p>118411 rows × 5 columns</p>\n",
              "</div>"
            ],
            "text/plain": [
              "        year  popularity pop_cow pop_cam pop_cgh\n",
              "0       2002           4     NaN  medium     NaN\n",
              "1       1963           4     NaN  medium     NaN\n",
              "2       1987           4     NaN  medium     NaN\n",
              "3       1946           0     low     NaN     NaN\n",
              "4       1955           0     low     NaN     NaN\n",
              "...      ...         ...     ...     ...     ...\n",
              "118931  1957           2     low     NaN     NaN\n",
              "118932  1984           5     NaN  medium     NaN\n",
              "118933  1984           5     NaN  medium     NaN\n",
              "118934  1959           2     low     NaN     NaN\n",
              "118935  1978           5     NaN  medium     NaN\n",
              "\n",
              "[118411 rows x 5 columns]"
            ]
          },
          "metadata": {
            "tags": []
          },
          "execution_count": 39
        }
      ]
    },
    {
      "cell_type": "code",
      "metadata": {
        "id": "mfJkc7SrrV3j",
        "colab": {
          "base_uri": "https://localhost:8080/",
          "height": 373
        },
        "outputId": "45f02919-f845-4e43-889b-b1982f2f2255"
      },
      "source": [
        "data_for_pie=pop_x.count().rename_axis('year').reset_index(name='count')\n",
        "low_pie=data_for_pie.iloc[2]['count']\n",
        "medium_pie=data_for_pie.iloc[3]['count']\n",
        "high_pie=data_for_pie.iloc[4]['count']\n",
        "fig=plt.figure(figsize=(6,6))\n",
        "labels='Low popularity', 'Medium popularity', 'High popularity'\n",
        "sizes=[low_pie, medium_pie, high_pie]\n",
        "plt.pie(sizes, labels=labels, autopct='%1.1f%%', shadow=True, startangle=30)\n",
        "plt.axis('equal')\n",
        "plt.title('Popularitatea tuturor cantecelor de pe Spotify')\n",
        "plt.show()"
      ],
      "execution_count": null,
      "outputs": [
        {
          "output_type": "display_data",
          "data": {
            "image/png": "[encoded data removed]",
            "text/plain": [
              "<Figure size 432x432 with 1 Axes>"
            ]
          },
          "metadata": {
            "tags": []
          }
        }
      ]
    },
    {
      "cell_type": "code",
      "metadata": {
        "id": "5msJ8ngDbUNG"
      },
      "source": [
        "low=pop_x[[\"year\", \"pop_cow\"]]\n",
        "medium=pop_x[[\"year\", \"pop_cam\"]]\n",
        "high=pop_x[[\"year\", \"pop_cgh\"]]"
      ],
      "execution_count": null,
      "outputs": []
    },
    {
      "cell_type": "code",
      "metadata": {
        "id": "gjEp-EEIb7YB",
        "colab": {
          "base_uri": "https://localhost:8080/",
          "height": 405
        },
        "outputId": "29849769-a4f2-4849-faa7-0b725609e9d5"
      },
      "source": [
        "low.isnull()"
      ],
      "execution_count": null,
      "outputs": [
        {
          "output_type": "execute_result",
          "data": {
            "text/html": [
              "<div>\n",
              "<style scoped>\n",
              "    .dataframe tbody tr th:only-of-type {\n",
              "        vertical-align: middle;\n",
              "    }\n",
              "\n",
              "    .dataframe tbody tr th {\n",
              "        vertical-align: top;\n",
              "    }\n",
              "\n",
              "    .dataframe thead th {\n",
              "        text-align: right;\n",
              "    }\n",
              "</style>\n",
              "<table border=\"1\" class=\"dataframe\">\n",
              "  <thead>\n",
              "    <tr style=\"text-align: right;\">\n",
              "      <th></th>\n",
              "      <th>year</th>\n",
              "      <th>pop_cow</th>\n",
              "    </tr>\n",
              "  </thead>\n",
              "  <tbody>\n",
              "    <tr>\n",
              "      <th>0</th>\n",
              "      <td>False</td>\n",
              "      <td>True</td>\n",
              "    </tr>\n",
              "    <tr>\n",
              "      <th>1</th>\n",
              "      <td>False</td>\n",
              "      <td>True</td>\n",
              "    </tr>\n",
              "    <tr>\n",
              "      <th>2</th>\n",
              "      <td>False</td>\n",
              "      <td>True</td>\n",
              "    </tr>\n",
              "    <tr>\n",
              "      <th>3</th>\n",
              "      <td>False</td>\n",
              "      <td>False</td>\n",
              "    </tr>\n",
              "    <tr>\n",
              "      <th>4</th>\n",
              "      <td>False</td>\n",
              "      <td>False</td>\n",
              "    </tr>\n",
              "    <tr>\n",
              "      <th>...</th>\n",
              "      <td>...</td>\n",
              "      <td>...</td>\n",
              "    </tr>\n",
              "    <tr>\n",
              "      <th>118931</th>\n",
              "      <td>False</td>\n",
              "      <td>False</td>\n",
              "    </tr>\n",
              "    <tr>\n",
              "      <th>118932</th>\n",
              "      <td>False</td>\n",
              "      <td>True</td>\n",
              "    </tr>\n",
              "    <tr>\n",
              "      <th>118933</th>\n",
              "      <td>False</td>\n",
              "      <td>True</td>\n",
              "    </tr>\n",
              "    <tr>\n",
              "      <th>118934</th>\n",
              "      <td>False</td>\n",
              "      <td>False</td>\n",
              "    </tr>\n",
              "    <tr>\n",
              "      <th>118935</th>\n",
              "      <td>False</td>\n",
              "      <td>True</td>\n",
              "    </tr>\n",
              "  </tbody>\n",
              "</table>\n",
              "<p>118411 rows × 2 columns</p>\n",
              "</div>"
            ],
            "text/plain": [
              "         year  pop_cow\n",
              "0       False     True\n",
              "1       False     True\n",
              "2       False     True\n",
              "3       False    False\n",
              "4       False    False\n",
              "...       ...      ...\n",
              "118931  False    False\n",
              "118932  False     True\n",
              "118933  False     True\n",
              "118934  False    False\n",
              "118935  False     True\n",
              "\n",
              "[118411 rows x 2 columns]"
            ]
          },
          "metadata": {
            "tags": []
          },
          "execution_count": 42
        }
      ]
    },
    {
      "cell_type": "markdown",
      "metadata": {
        "id": "5GHzZHwsPlpz"
      },
      "source": [
        "Cream 3 dataframe-uri, cate unul pentru cantece cu popularitate mica, medie si joasa. "
      ]
    },
    {
      "cell_type": "code",
      "metadata": {
        "id": "HQkGGk22cAHs"
      },
      "source": [
        "low_notnull=low.dropna()\n",
        "medium_notnull=medium.dropna()\n",
        "high_notnull=high.dropna()"
      ],
      "execution_count": null,
      "outputs": []
    },
    {
      "cell_type": "markdown",
      "metadata": {
        "id": "cljbpf_oZhTu"
      },
      "source": [
        "Pentru fiecare dintre cele 3 categorii vom face urmatoarea procedura:\n",
        "*  numaram cate cantece sunt in fiecare an\n",
        "*  le sortam dupa an\n",
        "*  anii in care nu a iesit nici un cantec de o anumita popularitate s-au exclus din dataframe-uri, deci ii adaugam inapoi si punem 0 la nr de cantece"
      ]
    },
    {
      "cell_type": "code",
      "metadata": {
        "id": "t39kcH1ccwei",
        "colab": {
          "base_uri": "https://localhost:8080/",
          "height": 405
        },
        "outputId": "f8c0fb2e-c96a-4d84-be0d-6c1800c62dde"
      },
      "source": [
        "low_fr=low_notnull['year'].value_counts().rename_axis('year').reset_index(name='counts')\n",
        "low_fr.sort_values(by=['year'], inplace=True)\n",
        "low_fr"
      ],
      "execution_count": null,
      "outputs": [
        {
          "output_type": "execute_result",
          "data": {
            "text/html": [
              "<div>\n",
              "<style scoped>\n",
              "    .dataframe tbody tr th:only-of-type {\n",
              "        vertical-align: middle;\n",
              "    }\n",
              "\n",
              "    .dataframe tbody tr th {\n",
              "        vertical-align: top;\n",
              "    }\n",
              "\n",
              "    .dataframe thead th {\n",
              "        text-align: right;\n",
              "    }\n",
              "</style>\n",
              "<table border=\"1\" class=\"dataframe\">\n",
              "  <thead>\n",
              "    <tr style=\"text-align: right;\">\n",
              "      <th></th>\n",
              "      <th>year</th>\n",
              "      <th>counts</th>\n",
              "    </tr>\n",
              "  </thead>\n",
              "  <tbody>\n",
              "    <tr>\n",
              "      <th>77</th>\n",
              "      <td>1921</td>\n",
              "      <td>77</td>\n",
              "    </tr>\n",
              "    <tr>\n",
              "      <th>79</th>\n",
              "      <td>1922</td>\n",
              "      <td>48</td>\n",
              "    </tr>\n",
              "    <tr>\n",
              "      <th>75</th>\n",
              "      <td>1923</td>\n",
              "      <td>117</td>\n",
              "    </tr>\n",
              "    <tr>\n",
              "      <th>71</th>\n",
              "      <td>1924</td>\n",
              "      <td>159</td>\n",
              "    </tr>\n",
              "    <tr>\n",
              "      <th>68</th>\n",
              "      <td>1925</td>\n",
              "      <td>193</td>\n",
              "    </tr>\n",
              "    <tr>\n",
              "      <th>...</th>\n",
              "      <td>...</td>\n",
              "      <td>...</td>\n",
              "    </tr>\n",
              "    <tr>\n",
              "      <th>73</th>\n",
              "      <td>1998</td>\n",
              "      <td>119</td>\n",
              "    </tr>\n",
              "    <tr>\n",
              "      <th>80</th>\n",
              "      <td>1999</td>\n",
              "      <td>41</td>\n",
              "    </tr>\n",
              "    <tr>\n",
              "      <th>78</th>\n",
              "      <td>2000</td>\n",
              "      <td>49</td>\n",
              "    </tr>\n",
              "    <tr>\n",
              "      <th>81</th>\n",
              "      <td>2002</td>\n",
              "      <td>3</td>\n",
              "    </tr>\n",
              "    <tr>\n",
              "      <th>74</th>\n",
              "      <td>2020</td>\n",
              "      <td>117</td>\n",
              "    </tr>\n",
              "  </tbody>\n",
              "</table>\n",
              "<p>82 rows × 2 columns</p>\n",
              "</div>"
            ],
            "text/plain": [
              "    year  counts\n",
              "77  1921      77\n",
              "79  1922      48\n",
              "75  1923     117\n",
              "71  1924     159\n",
              "68  1925     193\n",
              "..   ...     ...\n",
              "73  1998     119\n",
              "80  1999      41\n",
              "78  2000      49\n",
              "81  2002       3\n",
              "74  2020     117\n",
              "\n",
              "[82 rows x 2 columns]"
            ]
          },
          "metadata": {
            "tags": []
          },
          "execution_count": 44
        }
      ]
    },
    {
      "cell_type": "markdown",
      "metadata": {
        "id": "6VlR2AMmP5PP"
      },
      "source": [
        "Adaugam anii care lipsesc."
      ]
    },
    {
      "cell_type": "code",
      "metadata": {
        "id": "qG7iCUF9G0XS",
        "colab": {
          "base_uri": "https://localhost:8080/",
          "height": 435
        },
        "outputId": "4d82be1d-b459-457d-cf1c-dbb4f519856f"
      },
      "source": [
        "low_fr.index=low_fr['year']\n",
        "new_low=low_fr.reindex(np.arange(low_fr.year.min(), low_fr.year.max()+1))\n",
        "new_low['year']=new_low.index\n",
        "new_low.fillna(0)"
      ],
      "execution_count": null,
      "outputs": [
        {
          "output_type": "execute_result",
          "data": {
            "text/html": [
              "<div>\n",
              "<style scoped>\n",
              "    .dataframe tbody tr th:only-of-type {\n",
              "        vertical-align: middle;\n",
              "    }\n",
              "\n",
              "    .dataframe tbody tr th {\n",
              "        vertical-align: top;\n",
              "    }\n",
              "\n",
              "    .dataframe thead th {\n",
              "        text-align: right;\n",
              "    }\n",
              "</style>\n",
              "<table border=\"1\" class=\"dataframe\">\n",
              "  <thead>\n",
              "    <tr style=\"text-align: right;\">\n",
              "      <th></th>\n",
              "      <th>year</th>\n",
              "      <th>counts</th>\n",
              "    </tr>\n",
              "    <tr>\n",
              "      <th>year</th>\n",
              "      <th></th>\n",
              "      <th></th>\n",
              "    </tr>\n",
              "  </thead>\n",
              "  <tbody>\n",
              "    <tr>\n",
              "      <th>1921</th>\n",
              "      <td>1921</td>\n",
              "      <td>77.0</td>\n",
              "    </tr>\n",
              "    <tr>\n",
              "      <th>1922</th>\n",
              "      <td>1922</td>\n",
              "      <td>48.0</td>\n",
              "    </tr>\n",
              "    <tr>\n",
              "      <th>1923</th>\n",
              "      <td>1923</td>\n",
              "      <td>117.0</td>\n",
              "    </tr>\n",
              "    <tr>\n",
              "      <th>1924</th>\n",
              "      <td>1924</td>\n",
              "      <td>159.0</td>\n",
              "    </tr>\n",
              "    <tr>\n",
              "      <th>1925</th>\n",
              "      <td>1925</td>\n",
              "      <td>193.0</td>\n",
              "    </tr>\n",
              "    <tr>\n",
              "      <th>...</th>\n",
              "      <td>...</td>\n",
              "      <td>...</td>\n",
              "    </tr>\n",
              "    <tr>\n",
              "      <th>2016</th>\n",
              "      <td>2016</td>\n",
              "      <td>0.0</td>\n",
              "    </tr>\n",
              "    <tr>\n",
              "      <th>2017</th>\n",
              "      <td>2017</td>\n",
              "      <td>0.0</td>\n",
              "    </tr>\n",
              "    <tr>\n",
              "      <th>2018</th>\n",
              "      <td>2018</td>\n",
              "      <td>0.0</td>\n",
              "    </tr>\n",
              "    <tr>\n",
              "      <th>2019</th>\n",
              "      <td>2019</td>\n",
              "      <td>0.0</td>\n",
              "    </tr>\n",
              "    <tr>\n",
              "      <th>2020</th>\n",
              "      <td>2020</td>\n",
              "      <td>117.0</td>\n",
              "    </tr>\n",
              "  </tbody>\n",
              "</table>\n",
              "<p>100 rows × 2 columns</p>\n",
              "</div>"
            ],
            "text/plain": [
              "      year  counts\n",
              "year              \n",
              "1921  1921    77.0\n",
              "1922  1922    48.0\n",
              "1923  1923   117.0\n",
              "1924  1924   159.0\n",
              "1925  1925   193.0\n",
              "...    ...     ...\n",
              "2016  2016     0.0\n",
              "2017  2017     0.0\n",
              "2018  2018     0.0\n",
              "2019  2019     0.0\n",
              "2020  2020   117.0\n",
              "\n",
              "[100 rows x 2 columns]"
            ]
          },
          "metadata": {
            "tags": []
          },
          "execution_count": 45
        }
      ]
    },
    {
      "cell_type": "code",
      "metadata": {
        "id": "8mp142WegnGH",
        "colab": {
          "base_uri": "https://localhost:8080/",
          "height": 391
        },
        "outputId": "6f059462-04eb-431e-d1cf-d5856b305ab0"
      },
      "source": [
        "medium_fr=medium_notnull['year'].value_counts().rename_axis('year').reset_index(name='counts')\n",
        "medium_fr.sort_values(by=['year'], inplace=True)\n",
        "medium_fr"
      ],
      "execution_count": null,
      "outputs": [
        {
          "output_type": "execute_result",
          "data": {
            "text/html": [
              "<div>\n",
              "<style scoped>\n",
              "    .dataframe tbody tr th:only-of-type {\n",
              "        vertical-align: middle;\n",
              "    }\n",
              "\n",
              "    .dataframe tbody tr th {\n",
              "        vertical-align: top;\n",
              "    }\n",
              "\n",
              "    .dataframe thead th {\n",
              "        text-align: right;\n",
              "    }\n",
              "</style>\n",
              "<table border=\"1\" class=\"dataframe\">\n",
              "  <thead>\n",
              "    <tr style=\"text-align: right;\">\n",
              "      <th></th>\n",
              "      <th>year</th>\n",
              "      <th>counts</th>\n",
              "    </tr>\n",
              "  </thead>\n",
              "  <tbody>\n",
              "    <tr>\n",
              "      <th>86</th>\n",
              "      <td>1923</td>\n",
              "      <td>1</td>\n",
              "    </tr>\n",
              "    <tr>\n",
              "      <th>92</th>\n",
              "      <td>1925</td>\n",
              "      <td>1</td>\n",
              "    </tr>\n",
              "    <tr>\n",
              "      <th>80</th>\n",
              "      <td>1926</td>\n",
              "      <td>3</td>\n",
              "    </tr>\n",
              "    <tr>\n",
              "      <th>91</th>\n",
              "      <td>1927</td>\n",
              "      <td>1</td>\n",
              "    </tr>\n",
              "    <tr>\n",
              "      <th>78</th>\n",
              "      <td>1928</td>\n",
              "      <td>4</td>\n",
              "    </tr>\n",
              "    <tr>\n",
              "      <th>...</th>\n",
              "      <td>...</td>\n",
              "      <td>...</td>\n",
              "    </tr>\n",
              "    <tr>\n",
              "      <th>23</th>\n",
              "      <td>2016</td>\n",
              "      <td>1060</td>\n",
              "    </tr>\n",
              "    <tr>\n",
              "      <th>29</th>\n",
              "      <td>2017</td>\n",
              "      <td>824</td>\n",
              "    </tr>\n",
              "    <tr>\n",
              "      <th>37</th>\n",
              "      <td>2018</td>\n",
              "      <td>618</td>\n",
              "    </tr>\n",
              "    <tr>\n",
              "      <th>50</th>\n",
              "      <td>2019</td>\n",
              "      <td>417</td>\n",
              "    </tr>\n",
              "    <tr>\n",
              "      <th>53</th>\n",
              "      <td>2020</td>\n",
              "      <td>324</td>\n",
              "    </tr>\n",
              "  </tbody>\n",
              "</table>\n",
              "<p>93 rows × 2 columns</p>\n",
              "</div>"
            ],
            "text/plain": [
              "    year  counts\n",
              "86  1923       1\n",
              "92  1925       1\n",
              "80  1926       3\n",
              "91  1927       1\n",
              "78  1928       4\n",
              "..   ...     ...\n",
              "23  2016    1060\n",
              "29  2017     824\n",
              "37  2018     618\n",
              "50  2019     417\n",
              "53  2020     324\n",
              "\n",
              "[93 rows x 2 columns]"
            ]
          },
          "metadata": {
            "tags": []
          },
          "execution_count": 29
        }
      ]
    },
    {
      "cell_type": "code",
      "metadata": {
        "id": "tawl3xNCRDQK",
        "colab": {
          "base_uri": "https://localhost:8080/",
          "height": 420
        },
        "outputId": "8fbc1de8-f623-4f75-a249-cc9a9e6034a2"
      },
      "source": [
        "medium_fr.index=medium_fr['year']\n",
        "new_medium=medium_fr.reindex(np.arange(1921, medium_fr.year.max()+1))\n",
        "new_medium['year']=new_medium.index\n",
        "new_medium.fillna(0)"
      ],
      "execution_count": null,
      "outputs": [
        {
          "output_type": "execute_result",
          "data": {
            "text/html": [
              "<div>\n",
              "<style scoped>\n",
              "    .dataframe tbody tr th:only-of-type {\n",
              "        vertical-align: middle;\n",
              "    }\n",
              "\n",
              "    .dataframe tbody tr th {\n",
              "        vertical-align: top;\n",
              "    }\n",
              "\n",
              "    .dataframe thead th {\n",
              "        text-align: right;\n",
              "    }\n",
              "</style>\n",
              "<table border=\"1\" class=\"dataframe\">\n",
              "  <thead>\n",
              "    <tr style=\"text-align: right;\">\n",
              "      <th></th>\n",
              "      <th>year</th>\n",
              "      <th>counts</th>\n",
              "    </tr>\n",
              "    <tr>\n",
              "      <th>year</th>\n",
              "      <th></th>\n",
              "      <th></th>\n",
              "    </tr>\n",
              "  </thead>\n",
              "  <tbody>\n",
              "    <tr>\n",
              "      <th>1921</th>\n",
              "      <td>1921</td>\n",
              "      <td>0.0</td>\n",
              "    </tr>\n",
              "    <tr>\n",
              "      <th>1922</th>\n",
              "      <td>1922</td>\n",
              "      <td>0.0</td>\n",
              "    </tr>\n",
              "    <tr>\n",
              "      <th>1923</th>\n",
              "      <td>1923</td>\n",
              "      <td>1.0</td>\n",
              "    </tr>\n",
              "    <tr>\n",
              "      <th>1924</th>\n",
              "      <td>1924</td>\n",
              "      <td>0.0</td>\n",
              "    </tr>\n",
              "    <tr>\n",
              "      <th>1925</th>\n",
              "      <td>1925</td>\n",
              "      <td>1.0</td>\n",
              "    </tr>\n",
              "    <tr>\n",
              "      <th>...</th>\n",
              "      <td>...</td>\n",
              "      <td>...</td>\n",
              "    </tr>\n",
              "    <tr>\n",
              "      <th>2016</th>\n",
              "      <td>2016</td>\n",
              "      <td>1060.0</td>\n",
              "    </tr>\n",
              "    <tr>\n",
              "      <th>2017</th>\n",
              "      <td>2017</td>\n",
              "      <td>824.0</td>\n",
              "    </tr>\n",
              "    <tr>\n",
              "      <th>2018</th>\n",
              "      <td>2018</td>\n",
              "      <td>618.0</td>\n",
              "    </tr>\n",
              "    <tr>\n",
              "      <th>2019</th>\n",
              "      <td>2019</td>\n",
              "      <td>417.0</td>\n",
              "    </tr>\n",
              "    <tr>\n",
              "      <th>2020</th>\n",
              "      <td>2020</td>\n",
              "      <td>324.0</td>\n",
              "    </tr>\n",
              "  </tbody>\n",
              "</table>\n",
              "<p>100 rows × 2 columns</p>\n",
              "</div>"
            ],
            "text/plain": [
              "      year  counts\n",
              "year              \n",
              "1921  1921     0.0\n",
              "1922  1922     0.0\n",
              "1923  1923     1.0\n",
              "1924  1924     0.0\n",
              "1925  1925     1.0\n",
              "...    ...     ...\n",
              "2016  2016  1060.0\n",
              "2017  2017   824.0\n",
              "2018  2018   618.0\n",
              "2019  2019   417.0\n",
              "2020  2020   324.0\n",
              "\n",
              "[100 rows x 2 columns]"
            ]
          },
          "metadata": {
            "tags": []
          },
          "execution_count": 30
        }
      ]
    },
    {
      "cell_type": "code",
      "metadata": {
        "id": "yx1EJf6Dgxf9",
        "colab": {
          "base_uri": "https://localhost:8080/",
          "height": 388
        },
        "outputId": "13e61dfc-f066-4c17-89a0-c82a62e50d57"
      },
      "source": [
        "high_fr=high_notnull['year'].value_counts().rename_axis('year').reset_index(name='counts')\n",
        "high_fr.sort_values(by=['year'], inplace=True)\n",
        "high_fr"
      ],
      "execution_count": null,
      "outputs": [
        {
          "output_type": "execute_result",
          "data": {
            "text/html": [
              "<div>\n",
              "<style scoped>\n",
              "    .dataframe tbody tr th:only-of-type {\n",
              "        vertical-align: middle;\n",
              "    }\n",
              "\n",
              "    .dataframe tbody tr th {\n",
              "        vertical-align: top;\n",
              "    }\n",
              "\n",
              "    .dataframe thead th {\n",
              "        text-align: right;\n",
              "    }\n",
              "</style>\n",
              "<table border=\"1\" class=\"dataframe\">\n",
              "  <thead>\n",
              "    <tr style=\"text-align: right;\">\n",
              "      <th></th>\n",
              "      <th>year</th>\n",
              "      <th>counts</th>\n",
              "    </tr>\n",
              "  </thead>\n",
              "  <tbody>\n",
              "    <tr>\n",
              "      <th>64</th>\n",
              "      <td>1956</td>\n",
              "      <td>1</td>\n",
              "    </tr>\n",
              "    <tr>\n",
              "      <th>60</th>\n",
              "      <td>1957</td>\n",
              "      <td>2</td>\n",
              "    </tr>\n",
              "    <tr>\n",
              "      <th>59</th>\n",
              "      <td>1958</td>\n",
              "      <td>2</td>\n",
              "    </tr>\n",
              "    <tr>\n",
              "      <th>61</th>\n",
              "      <td>1959</td>\n",
              "      <td>1</td>\n",
              "    </tr>\n",
              "    <tr>\n",
              "      <th>63</th>\n",
              "      <td>1960</td>\n",
              "      <td>1</td>\n",
              "    </tr>\n",
              "    <tr>\n",
              "      <th>...</th>\n",
              "      <td>...</td>\n",
              "      <td>...</td>\n",
              "    </tr>\n",
              "    <tr>\n",
              "      <th>4</th>\n",
              "      <td>2016</td>\n",
              "      <td>329</td>\n",
              "    </tr>\n",
              "    <tr>\n",
              "      <th>3</th>\n",
              "      <td>2017</td>\n",
              "      <td>573</td>\n",
              "    </tr>\n",
              "    <tr>\n",
              "      <th>1</th>\n",
              "      <td>2018</td>\n",
              "      <td>778</td>\n",
              "    </tr>\n",
              "    <tr>\n",
              "      <th>0</th>\n",
              "      <td>2019</td>\n",
              "      <td>967</td>\n",
              "    </tr>\n",
              "    <tr>\n",
              "      <th>2</th>\n",
              "      <td>2020</td>\n",
              "      <td>757</td>\n",
              "    </tr>\n",
              "  </tbody>\n",
              "</table>\n",
              "<p>65 rows × 2 columns</p>\n",
              "</div>"
            ],
            "text/plain": [
              "    year  counts\n",
              "64  1956       1\n",
              "60  1957       2\n",
              "59  1958       2\n",
              "61  1959       1\n",
              "63  1960       1\n",
              "..   ...     ...\n",
              "4   2016     329\n",
              "3   2017     573\n",
              "1   2018     778\n",
              "0   2019     967\n",
              "2   2020     757\n",
              "\n",
              "[65 rows x 2 columns]"
            ]
          },
          "metadata": {
            "tags": []
          },
          "execution_count": 31
        }
      ]
    },
    {
      "cell_type": "code",
      "metadata": {
        "id": "KLBjwprRRne_",
        "colab": {
          "base_uri": "https://localhost:8080/",
          "height": 412
        },
        "outputId": "6ada2558-bb33-426c-b396-bcefcfe87798"
      },
      "source": [
        "high_fr.index=high_fr['year']\n",
        "new_high=high_fr.reindex(np.arange(1921, high_fr.year.max()+1))\n",
        "new_high['year']=new_high.index\n",
        "new_high.fillna(0)"
      ],
      "execution_count": null,
      "outputs": [
        {
          "output_type": "execute_result",
          "data": {
            "text/html": [
              "<div>\n",
              "<style scoped>\n",
              "    .dataframe tbody tr th:only-of-type {\n",
              "        vertical-align: middle;\n",
              "    }\n",
              "\n",
              "    .dataframe tbody tr th {\n",
              "        vertical-align: top;\n",
              "    }\n",
              "\n",
              "    .dataframe thead th {\n",
              "        text-align: right;\n",
              "    }\n",
              "</style>\n",
              "<table border=\"1\" class=\"dataframe\">\n",
              "  <thead>\n",
              "    <tr style=\"text-align: right;\">\n",
              "      <th></th>\n",
              "      <th>year</th>\n",
              "      <th>counts</th>\n",
              "    </tr>\n",
              "    <tr>\n",
              "      <th>year</th>\n",
              "      <th></th>\n",
              "      <th></th>\n",
              "    </tr>\n",
              "  </thead>\n",
              "  <tbody>\n",
              "    <tr>\n",
              "      <th>1921</th>\n",
              "      <td>1921</td>\n",
              "      <td>0.0</td>\n",
              "    </tr>\n",
              "    <tr>\n",
              "      <th>1922</th>\n",
              "      <td>1922</td>\n",
              "      <td>0.0</td>\n",
              "    </tr>\n",
              "    <tr>\n",
              "      <th>1923</th>\n",
              "      <td>1923</td>\n",
              "      <td>0.0</td>\n",
              "    </tr>\n",
              "    <tr>\n",
              "      <th>1924</th>\n",
              "      <td>1924</td>\n",
              "      <td>0.0</td>\n",
              "    </tr>\n",
              "    <tr>\n",
              "      <th>1925</th>\n",
              "      <td>1925</td>\n",
              "      <td>0.0</td>\n",
              "    </tr>\n",
              "    <tr>\n",
              "      <th>...</th>\n",
              "      <td>...</td>\n",
              "      <td>...</td>\n",
              "    </tr>\n",
              "    <tr>\n",
              "      <th>2016</th>\n",
              "      <td>2016</td>\n",
              "      <td>329.0</td>\n",
              "    </tr>\n",
              "    <tr>\n",
              "      <th>2017</th>\n",
              "      <td>2017</td>\n",
              "      <td>573.0</td>\n",
              "    </tr>\n",
              "    <tr>\n",
              "      <th>2018</th>\n",
              "      <td>2018</td>\n",
              "      <td>778.0</td>\n",
              "    </tr>\n",
              "    <tr>\n",
              "      <th>2019</th>\n",
              "      <td>2019</td>\n",
              "      <td>967.0</td>\n",
              "    </tr>\n",
              "    <tr>\n",
              "      <th>2020</th>\n",
              "      <td>2020</td>\n",
              "      <td>757.0</td>\n",
              "    </tr>\n",
              "  </tbody>\n",
              "</table>\n",
              "<p>100 rows × 2 columns</p>\n",
              "</div>"
            ],
            "text/plain": [
              "      year  counts\n",
              "year              \n",
              "1921  1921     0.0\n",
              "1922  1922     0.0\n",
              "1923  1923     0.0\n",
              "1924  1924     0.0\n",
              "1925  1925     0.0\n",
              "...    ...     ...\n",
              "2016  2016   329.0\n",
              "2017  2017   573.0\n",
              "2018  2018   778.0\n",
              "2019  2019   967.0\n",
              "2020  2020   757.0\n",
              "\n",
              "[100 rows x 2 columns]"
            ]
          },
          "metadata": {
            "tags": []
          },
          "execution_count": 32
        }
      ]
    },
    {
      "cell_type": "markdown",
      "metadata": {
        "id": "vasndV7DhPdx"
      },
      "source": [
        "**Graficul**"
      ]
    },
    {
      "cell_type": "code",
      "metadata": {
        "id": "TdFQ8XDahOss",
        "colab": {
          "base_uri": "https://localhost:8080/",
          "height": 1000
        },
        "outputId": "82b198ad-c699-4106-80da-13ffc4c406ad"
      },
      "source": [
        "sns.set(style=\"whitegrid\")\n",
        "\n",
        "f, ax = plt.subplots(figsize=(8, 18))\n",
        "\n",
        "sns.set_color_codes(\"pastel\")\n",
        "sns.barplot(x=total['count'], y=total['year'], label=\"Total\", color=\"b\", orient='h')\n",
        "sns.set_color_codes(\"muted\")\n",
        "sns.barplot(x=new_low['counts'], y=new_low['year'], label=\"low\", color=\"b\", orient='h')\n",
        "sns.set_color_codes(\"dark\")\n",
        "sns.barplot(x=new_medium['counts'], y=new_medium['year'], label=\"medium\", color=\"b\", orient='h')\n",
        "sns.set_color_codes(\"pastel\")\n",
        "sns.barplot(x=new_high['counts'], y=new_high['year'], label=\"medium\", color=\"r\", orient='h')\n",
        "sns.despine(left=True, bottom=True)"
      ],
      "execution_count": null,
      "outputs": [
        {
          "output_type": "display_data",
          "data": {
            "image/png": "[encoded data removed]",
            "text/plain": [
              "<Figure size 576x1296 with 1 Axes>"
            ]
          },
          "metadata": {
            "tags": []
          }
        }
      ]
    },
    {
      "cell_type": "markdown",
      "metadata": {
        "id": "Dccvf0ERQVMl"
      },
      "source": [
        "Concluzie: Cu cate mai recent a fost lansata piesa, cu atat popularitatea ei este mai mare. Incepand cu 1986 numarul pieselor cu popularitate mica a scazut considerabil, iar din 2017 majoritatea absoluta a pieselor au popularitate ridicata."
      ]
    },
    {
      "cell_type": "markdown",
      "metadata": {
        "id": "whkildWBj49T"
      },
      "source": [
        "# **6. Care sunt artiștii care lansează cântece foarte populare în mod stabil?**"
      ]
    },
    {
      "cell_type": "markdown",
      "metadata": {
        "id": "7CP9Jyt_j94k"
      },
      "source": [
        "Ipoteza: o mare parte din cantecele cu popularitate mare apartin unui grup restrans de artisti."
      ]
    },
    {
      "cell_type": "markdown",
      "metadata": {
        "id": "aDLPJlX3kHXZ"
      },
      "source": [
        "Selectam din DataFrame cantecele cu popularitate de 7 si mai sus:"
      ]
    },
    {
      "cell_type": "code",
      "metadata": {
        "id": "quYty8b-keP0",
        "colab": {
          "base_uri": "https://localhost:8080/",
          "height": 864
        },
        "outputId": "815b1622-5efd-4891-e261-83b63b4877ca"
      },
      "source": [
        "train_top = train['popularity'] >=7\n",
        "train_top_x=train[train_top]\n",
        "train_top_x"
      ],
      "execution_count": null,
      "outputs": [
        {
          "output_type": "execute_result",
          "data": {
            "text/html": [
              "<div>\n",
              "<style scoped>\n",
              "    .dataframe tbody tr th:only-of-type {\n",
              "        vertical-align: middle;\n",
              "    }\n",
              "\n",
              "    .dataframe tbody tr th {\n",
              "        vertical-align: top;\n",
              "    }\n",
              "\n",
              "    .dataframe thead th {\n",
              "        text-align: right;\n",
              "    }\n",
              "</style>\n",
              "<table border=\"1\" class=\"dataframe\">\n",
              "  <thead>\n",
              "    <tr style=\"text-align: right;\">\n",
              "      <th></th>\n",
              "      <th>ID</th>\n",
              "      <th>acousticness</th>\n",
              "      <th>artists</th>\n",
              "      <th>danceability</th>\n",
              "      <th>duration_ms</th>\n",
              "      <th>energy</th>\n",
              "      <th>explicit</th>\n",
              "      <th>instrumentalness</th>\n",
              "      <th>key</th>\n",
              "      <th>liveness</th>\n",
              "      <th>loudness</th>\n",
              "      <th>mode</th>\n",
              "      <th>name</th>\n",
              "      <th>release_date</th>\n",
              "      <th>speechiness</th>\n",
              "      <th>tempo</th>\n",
              "      <th>valence</th>\n",
              "      <th>year</th>\n",
              "      <th>popularity</th>\n",
              "    </tr>\n",
              "  </thead>\n",
              "  <tbody>\n",
              "    <tr>\n",
              "      <th>14</th>\n",
              "      <td>55517</td>\n",
              "      <td>0.10900</td>\n",
              "      <td>Matoma, MNEK, Kiana Ledé</td>\n",
              "      <td>0.764</td>\n",
              "      <td>160909</td>\n",
              "      <td>0.573</td>\n",
              "      <td>0</td>\n",
              "      <td>0.000000</td>\n",
              "      <td>6</td>\n",
              "      <td>0.3240</td>\n",
              "      <td>-4.385</td>\n",
              "      <td>1</td>\n",
              "      <td>Bruised Not Broken (feat. MNEK &amp; Kiana Ledé)</td>\n",
              "      <td>2019-06-14</td>\n",
              "      <td>0.0484</td>\n",
              "      <td>110.006</td>\n",
              "      <td>0.685</td>\n",
              "      <td>2019</td>\n",
              "      <td>7</td>\n",
              "    </tr>\n",
              "    <tr>\n",
              "      <th>53</th>\n",
              "      <td>40050</td>\n",
              "      <td>0.17800</td>\n",
              "      <td>Koffee, Gunna</td>\n",
              "      <td>0.856</td>\n",
              "      <td>230151</td>\n",
              "      <td>0.721</td>\n",
              "      <td>0</td>\n",
              "      <td>0.000021</td>\n",
              "      <td>6</td>\n",
              "      <td>0.0913</td>\n",
              "      <td>-6.813</td>\n",
              "      <td>0</td>\n",
              "      <td>W (feat. Gunna)</td>\n",
              "      <td>2019-11-26</td>\n",
              "      <td>0.0779</td>\n",
              "      <td>100.980</td>\n",
              "      <td>0.902</td>\n",
              "      <td>2019</td>\n",
              "      <td>7</td>\n",
              "    </tr>\n",
              "    <tr>\n",
              "      <th>64</th>\n",
              "      <td>135217</td>\n",
              "      <td>0.01570</td>\n",
              "      <td>Ruth B.</td>\n",
              "      <td>0.609</td>\n",
              "      <td>233720</td>\n",
              "      <td>0.692</td>\n",
              "      <td>0</td>\n",
              "      <td>0.000000</td>\n",
              "      <td>1</td>\n",
              "      <td>0.0864</td>\n",
              "      <td>-2.958</td>\n",
              "      <td>1</td>\n",
              "      <td>Dandelions</td>\n",
              "      <td>2017-05-05</td>\n",
              "      <td>0.0259</td>\n",
              "      <td>116.959</td>\n",
              "      <td>0.454</td>\n",
              "      <td>2017</td>\n",
              "      <td>7</td>\n",
              "    </tr>\n",
              "    <tr>\n",
              "      <th>81</th>\n",
              "      <td>116337</td>\n",
              "      <td>0.02310</td>\n",
              "      <td>Train</td>\n",
              "      <td>0.392</td>\n",
              "      <td>243253</td>\n",
              "      <td>0.825</td>\n",
              "      <td>0</td>\n",
              "      <td>0.000002</td>\n",
              "      <td>0</td>\n",
              "      <td>0.0972</td>\n",
              "      <td>-2.068</td>\n",
              "      <td>0</td>\n",
              "      <td>Play That Song</td>\n",
              "      <td>2017-01-27</td>\n",
              "      <td>0.0535</td>\n",
              "      <td>98.959</td>\n",
              "      <td>0.482</td>\n",
              "      <td>2017</td>\n",
              "      <td>7</td>\n",
              "    </tr>\n",
              "    <tr>\n",
              "      <th>154</th>\n",
              "      <td>87912</td>\n",
              "      <td>0.00929</td>\n",
              "      <td>Taylor Swift</td>\n",
              "      <td>0.771</td>\n",
              "      <td>171360</td>\n",
              "      <td>0.671</td>\n",
              "      <td>0</td>\n",
              "      <td>0.000000</td>\n",
              "      <td>2</td>\n",
              "      <td>0.0637</td>\n",
              "      <td>-5.617</td>\n",
              "      <td>1</td>\n",
              "      <td>You Need To Calm Down</td>\n",
              "      <td>2019-08-23</td>\n",
              "      <td>0.0553</td>\n",
              "      <td>85.026</td>\n",
              "      <td>0.714</td>\n",
              "      <td>2019</td>\n",
              "      <td>8</td>\n",
              "    </tr>\n",
              "    <tr>\n",
              "      <th>...</th>\n",
              "      <td>...</td>\n",
              "      <td>...</td>\n",
              "      <td>...</td>\n",
              "      <td>...</td>\n",
              "      <td>...</td>\n",
              "      <td>...</td>\n",
              "      <td>...</td>\n",
              "      <td>...</td>\n",
              "      <td>...</td>\n",
              "      <td>...</td>\n",
              "      <td>...</td>\n",
              "      <td>...</td>\n",
              "      <td>...</td>\n",
              "      <td>...</td>\n",
              "      <td>...</td>\n",
              "      <td>...</td>\n",
              "      <td>...</td>\n",
              "      <td>...</td>\n",
              "      <td>...</td>\n",
              "    </tr>\n",
              "    <tr>\n",
              "      <th>118864</th>\n",
              "      <td>55591</td>\n",
              "      <td>0.08460</td>\n",
              "      <td>Anuel AA, Daddy Yankee, KAROL G, Ozuna, J Balvin</td>\n",
              "      <td>0.786</td>\n",
              "      <td>301714</td>\n",
              "      <td>0.808</td>\n",
              "      <td>0</td>\n",
              "      <td>0.000289</td>\n",
              "      <td>7</td>\n",
              "      <td>0.0822</td>\n",
              "      <td>-3.702</td>\n",
              "      <td>1</td>\n",
              "      <td>China</td>\n",
              "      <td>2020-05-29</td>\n",
              "      <td>0.0881</td>\n",
              "      <td>105.029</td>\n",
              "      <td>0.608</td>\n",
              "      <td>2020</td>\n",
              "      <td>7</td>\n",
              "    </tr>\n",
              "    <tr>\n",
              "      <th>118890</th>\n",
              "      <td>87313</td>\n",
              "      <td>0.03480</td>\n",
              "      <td>Jason Derulo, 2 Chainz</td>\n",
              "      <td>0.760</td>\n",
              "      <td>177685</td>\n",
              "      <td>0.652</td>\n",
              "      <td>1</td>\n",
              "      <td>0.000000</td>\n",
              "      <td>6</td>\n",
              "      <td>0.3070</td>\n",
              "      <td>-7.321</td>\n",
              "      <td>1</td>\n",
              "      <td>Talk Dirty (feat. 2 Chainz)</td>\n",
              "      <td>2013-09-10</td>\n",
              "      <td>0.2320</td>\n",
              "      <td>100.315</td>\n",
              "      <td>0.759</td>\n",
              "      <td>2013</td>\n",
              "      <td>7</td>\n",
              "    </tr>\n",
              "    <tr>\n",
              "      <th>118902</th>\n",
              "      <td>84654</td>\n",
              "      <td>0.02980</td>\n",
              "      <td>Starship</td>\n",
              "      <td>0.643</td>\n",
              "      <td>270333</td>\n",
              "      <td>0.801</td>\n",
              "      <td>0</td>\n",
              "      <td>0.000000</td>\n",
              "      <td>6</td>\n",
              "      <td>0.0719</td>\n",
              "      <td>-4.921</td>\n",
              "      <td>1</td>\n",
              "      <td>Nothing's Gonna Stop Us Now</td>\n",
              "      <td>1987-07-27</td>\n",
              "      <td>0.0228</td>\n",
              "      <td>95.988</td>\n",
              "      <td>0.534</td>\n",
              "      <td>1987</td>\n",
              "      <td>8</td>\n",
              "    </tr>\n",
              "    <tr>\n",
              "      <th>118910</th>\n",
              "      <td>84478</td>\n",
              "      <td>0.18900</td>\n",
              "      <td>U.S.A. For Africa</td>\n",
              "      <td>0.528</td>\n",
              "      <td>427333</td>\n",
              "      <td>0.447</td>\n",
              "      <td>0</td>\n",
              "      <td>0.000000</td>\n",
              "      <td>4</td>\n",
              "      <td>0.0745</td>\n",
              "      <td>-15.255</td>\n",
              "      <td>1</td>\n",
              "      <td>We Are The World</td>\n",
              "      <td>1985-01-01</td>\n",
              "      <td>0.0435</td>\n",
              "      <td>72.580</td>\n",
              "      <td>0.292</td>\n",
              "      <td>1985</td>\n",
              "      <td>7</td>\n",
              "    </tr>\n",
              "    <tr>\n",
              "      <th>118926</th>\n",
              "      <td>87498</td>\n",
              "      <td>0.67900</td>\n",
              "      <td>Trey Songz</td>\n",
              "      <td>0.733</td>\n",
              "      <td>197854</td>\n",
              "      <td>0.408</td>\n",
              "      <td>0</td>\n",
              "      <td>0.000039</td>\n",
              "      <td>7</td>\n",
              "      <td>0.1100</td>\n",
              "      <td>-7.834</td>\n",
              "      <td>0</td>\n",
              "      <td>Slow Motion</td>\n",
              "      <td>2015-06-23</td>\n",
              "      <td>0.0388</td>\n",
              "      <td>94.947</td>\n",
              "      <td>0.291</td>\n",
              "      <td>2015</td>\n",
              "      <td>7</td>\n",
              "    </tr>\n",
              "  </tbody>\n",
              "</table>\n",
              "<p>5926 rows × 19 columns</p>\n",
              "</div>"
            ],
            "text/plain": [
              "            ID  acousticness  ...  year  popularity\n",
              "14       55517       0.10900  ...  2019           7\n",
              "53       40050       0.17800  ...  2019           7\n",
              "64      135217       0.01570  ...  2017           7\n",
              "81      116337       0.02310  ...  2017           7\n",
              "154      87912       0.00929  ...  2019           8\n",
              "...        ...           ...  ...   ...         ...\n",
              "118864   55591       0.08460  ...  2020           7\n",
              "118890   87313       0.03480  ...  2013           7\n",
              "118902   84654       0.02980  ...  1987           8\n",
              "118910   84478       0.18900  ...  1985           7\n",
              "118926   87498       0.67900  ...  2015           7\n",
              "\n",
              "[5926 rows x 19 columns]"
            ]
          },
          "metadata": {
            "tags": []
          },
          "execution_count": 47
        }
      ]
    },
    {
      "cell_type": "code",
      "metadata": {
        "id": "evOkxAhVraQO",
        "colab": {
          "base_uri": "https://localhost:8080/",
          "height": 34
        },
        "outputId": "055cf2d1-a6ab-4433-9066-2b5e848b075b"
      },
      "source": [
        "train_top_x.shape[0]\n"
      ],
      "execution_count": null,
      "outputs": [
        {
          "output_type": "execute_result",
          "data": {
            "text/plain": [
              "5926"
            ]
          },
          "metadata": {
            "tags": []
          },
          "execution_count": 141
        }
      ]
    },
    {
      "cell_type": "markdown",
      "metadata": {
        "id": "trslcBSdlwNB"
      },
      "source": [
        "Aflam cate cantece avem cu grad specific de popularitate:"
      ]
    },
    {
      "cell_type": "code",
      "metadata": {
        "id": "cxlIqYGnlptt",
        "colab": {
          "base_uri": "https://localhost:8080/",
          "height": 102
        },
        "outputId": "e9f14c24-e9b2-475d-8f70-e5b2dbd5fe6e"
      },
      "source": [
        "train_top_x['popularity'].value_counts()"
      ],
      "execution_count": null,
      "outputs": [
        {
          "output_type": "execute_result",
          "data": {
            "text/plain": [
              "7     4656\n",
              "8     1176\n",
              "9       86\n",
              "10       8\n",
              "Name: popularity, dtype: int64"
            ]
          },
          "metadata": {
            "tags": []
          },
          "execution_count": 48
        }
      ]
    },
    {
      "cell_type": "code",
      "metadata": {
        "id": "PgHL9R1-0i_L",
        "colab": {
          "base_uri": "https://localhost:8080/",
          "height": 317
        },
        "outputId": "16d574f6-3f68-464b-ac67-033c623c09cd"
      },
      "source": [
        "train_top_x.describe()"
      ],
      "execution_count": null,
      "outputs": [
        {
          "output_type": "execute_result",
          "data": {
            "text/html": [
              "<div>\n",
              "<style scoped>\n",
              "    .dataframe tbody tr th:only-of-type {\n",
              "        vertical-align: middle;\n",
              "    }\n",
              "\n",
              "    .dataframe tbody tr th {\n",
              "        vertical-align: top;\n",
              "    }\n",
              "\n",
              "    .dataframe thead th {\n",
              "        text-align: right;\n",
              "    }\n",
              "</style>\n",
              "<table border=\"1\" class=\"dataframe\">\n",
              "  <thead>\n",
              "    <tr style=\"text-align: right;\">\n",
              "      <th></th>\n",
              "      <th>ID</th>\n",
              "      <th>acousticness</th>\n",
              "      <th>danceability</th>\n",
              "      <th>duration_ms</th>\n",
              "      <th>energy</th>\n",
              "      <th>explicit</th>\n",
              "      <th>instrumentalness</th>\n",
              "      <th>key</th>\n",
              "      <th>liveness</th>\n",
              "      <th>loudness</th>\n",
              "      <th>mode</th>\n",
              "      <th>speechiness</th>\n",
              "      <th>tempo</th>\n",
              "      <th>valence</th>\n",
              "      <th>year</th>\n",
              "      <th>popularity</th>\n",
              "    </tr>\n",
              "  </thead>\n",
              "  <tbody>\n",
              "    <tr>\n",
              "      <th>count</th>\n",
              "      <td>5926.000000</td>\n",
              "      <td>5926.000000</td>\n",
              "      <td>5926.000000</td>\n",
              "      <td>5926.000000</td>\n",
              "      <td>5926.000000</td>\n",
              "      <td>5926.000000</td>\n",
              "      <td>5926.000000</td>\n",
              "      <td>5926.000000</td>\n",
              "      <td>5926.000000</td>\n",
              "      <td>5926.000000</td>\n",
              "      <td>5926.000000</td>\n",
              "      <td>5926.000000</td>\n",
              "      <td>5926.000000</td>\n",
              "      <td>5926.000000</td>\n",
              "      <td>5926.000000</td>\n",
              "      <td>5926.000000</td>\n",
              "    </tr>\n",
              "    <tr>\n",
              "      <th>mean</th>\n",
              "      <td>97619.449376</td>\n",
              "      <td>0.253409</td>\n",
              "      <td>0.630488</td>\n",
              "      <td>218768.498481</td>\n",
              "      <td>0.624151</td>\n",
              "      <td>0.306784</td>\n",
              "      <td>0.043306</td>\n",
              "      <td>5.196591</td>\n",
              "      <td>0.179262</td>\n",
              "      <td>-7.355866</td>\n",
              "      <td>0.637192</td>\n",
              "      <td>0.101389</td>\n",
              "      <td>120.987695</td>\n",
              "      <td>0.497762</td>\n",
              "      <td>2010.464394</td>\n",
              "      <td>7.231522</td>\n",
              "    </tr>\n",
              "    <tr>\n",
              "      <th>std</th>\n",
              "      <td>36109.486281</td>\n",
              "      <td>0.271448</td>\n",
              "      <td>0.166944</td>\n",
              "      <td>57034.776079</td>\n",
              "      <td>0.204233</td>\n",
              "      <td>0.461198</td>\n",
              "      <td>0.174075</td>\n",
              "      <td>3.578133</td>\n",
              "      <td>0.143375</td>\n",
              "      <td>4.362562</td>\n",
              "      <td>0.480851</td>\n",
              "      <td>0.102170</td>\n",
              "      <td>30.009179</td>\n",
              "      <td>0.238924</td>\n",
              "      <td>13.296603</td>\n",
              "      <td>0.463768</td>\n",
              "    </tr>\n",
              "    <tr>\n",
              "      <th>min</th>\n",
              "      <td>5085.000000</td>\n",
              "      <td>0.000002</td>\n",
              "      <td>0.000000</td>\n",
              "      <td>37640.000000</td>\n",
              "      <td>0.000020</td>\n",
              "      <td>0.000000</td>\n",
              "      <td>0.000000</td>\n",
              "      <td>0.000000</td>\n",
              "      <td>0.019000</td>\n",
              "      <td>-47.452000</td>\n",
              "      <td>0.000000</td>\n",
              "      <td>0.000000</td>\n",
              "      <td>0.000000</td>\n",
              "      <td>0.000000</td>\n",
              "      <td>1956.000000</td>\n",
              "      <td>7.000000</td>\n",
              "    </tr>\n",
              "    <tr>\n",
              "      <th>25%</th>\n",
              "      <td>85075.500000</td>\n",
              "      <td>0.033050</td>\n",
              "      <td>0.532000</td>\n",
              "      <td>184870.250000</td>\n",
              "      <td>0.499000</td>\n",
              "      <td>0.000000</td>\n",
              "      <td>0.000000</td>\n",
              "      <td>2.000000</td>\n",
              "      <td>0.094800</td>\n",
              "      <td>-8.442000</td>\n",
              "      <td>0.000000</td>\n",
              "      <td>0.037200</td>\n",
              "      <td>97.909250</td>\n",
              "      <td>0.318000</td>\n",
              "      <td>2008.000000</td>\n",
              "      <td>7.000000</td>\n",
              "    </tr>\n",
              "    <tr>\n",
              "      <th>50%</th>\n",
              "      <td>87999.500000</td>\n",
              "      <td>0.148000</td>\n",
              "      <td>0.649000</td>\n",
              "      <td>212900.000000</td>\n",
              "      <td>0.645000</td>\n",
              "      <td>0.000000</td>\n",
              "      <td>0.000000</td>\n",
              "      <td>5.000000</td>\n",
              "      <td>0.122000</td>\n",
              "      <td>-6.371500</td>\n",
              "      <td>1.000000</td>\n",
              "      <td>0.056350</td>\n",
              "      <td>119.993500</td>\n",
              "      <td>0.493000</td>\n",
              "      <td>2017.000000</td>\n",
              "      <td>7.000000</td>\n",
              "    </tr>\n",
              "    <tr>\n",
              "      <th>75%</th>\n",
              "      <td>116685.750000</td>\n",
              "      <td>0.394750</td>\n",
              "      <td>0.749000</td>\n",
              "      <td>243263.500000</td>\n",
              "      <td>0.775000</td>\n",
              "      <td>1.000000</td>\n",
              "      <td>0.000188</td>\n",
              "      <td>8.000000</td>\n",
              "      <td>0.214000</td>\n",
              "      <td>-4.870250</td>\n",
              "      <td>1.000000</td>\n",
              "      <td>0.120000</td>\n",
              "      <td>140.070250</td>\n",
              "      <td>0.683000</td>\n",
              "      <td>2019.000000</td>\n",
              "      <td>7.000000</td>\n",
              "    </tr>\n",
              "    <tr>\n",
              "      <th>max</th>\n",
              "      <td>169907.000000</td>\n",
              "      <td>0.996000</td>\n",
              "      <td>0.979000</td>\n",
              "      <td>811077.000000</td>\n",
              "      <td>1.000000</td>\n",
              "      <td>1.000000</td>\n",
              "      <td>1.000000</td>\n",
              "      <td>11.000000</td>\n",
              "      <td>0.984000</td>\n",
              "      <td>0.175000</td>\n",
              "      <td>1.000000</td>\n",
              "      <td>0.903000</td>\n",
              "      <td>220.099000</td>\n",
              "      <td>0.980000</td>\n",
              "      <td>2020.000000</td>\n",
              "      <td>10.000000</td>\n",
              "    </tr>\n",
              "  </tbody>\n",
              "</table>\n",
              "</div>"
            ],
            "text/plain": [
              "                  ID  acousticness  ...         year   popularity\n",
              "count    5926.000000   5926.000000  ...  5926.000000  5926.000000\n",
              "mean    97619.449376      0.253409  ...  2010.464394     7.231522\n",
              "std     36109.486281      0.271448  ...    13.296603     0.463768\n",
              "min      5085.000000      0.000002  ...  1956.000000     7.000000\n",
              "25%     85075.500000      0.033050  ...  2008.000000     7.000000\n",
              "50%     87999.500000      0.148000  ...  2017.000000     7.000000\n",
              "75%    116685.750000      0.394750  ...  2019.000000     7.000000\n",
              "max    169907.000000      0.996000  ...  2020.000000    10.000000\n",
              "\n",
              "[8 rows x 16 columns]"
            ]
          },
          "metadata": {
            "tags": []
          },
          "execution_count": 49
        }
      ]
    },
    {
      "cell_type": "markdown",
      "metadata": {
        "id": "sDnmk4eD0o6m"
      },
      "source": [
        "💡Observatii: majoritate cantecelor din lista celor mai populare au urmatoarele caracteristici:\n",
        "\n",
        "\n",
        "*   acusticitate mica\n",
        "*   dansabilitate mare\n",
        "*   durata mica\n",
        "*   nu sunt instrumentale\n",
        "*   nu sunt inscrise live\n",
        "*   au volum ridicat\n",
        "*   au putine cuvinte\n",
        "*   sunt din 2017 sau mai recent\n",
        "\n",
        "Aceste observatii ar putea fi utile in studiul ulterior.\n",
        "\n",
        "\n",
        "\n"
      ]
    },
    {
      "cell_type": "markdown",
      "metadata": {
        "id": "gPFIhwUyIQ1v"
      },
      "source": [
        "Din curiozitate, sa vedem care sunt cantecele cu popularitate maxima:"
      ]
    },
    {
      "cell_type": "code",
      "metadata": {
        "id": "p4N2usgOl9gM",
        "colab": {
          "base_uri": "https://localhost:8080/",
          "height": 555
        },
        "outputId": "f76cc125-997c-41e6-cc82-32ca64be67f6"
      },
      "source": [
        "train_top = train['popularity'] ==10\n",
        "golden=train[train_top]\n",
        "golden"
      ],
      "execution_count": null,
      "outputs": [
        {
          "output_type": "execute_result",
          "data": {
            "text/html": [
              "<div>\n",
              "<style scoped>\n",
              "    .dataframe tbody tr th:only-of-type {\n",
              "        vertical-align: middle;\n",
              "    }\n",
              "\n",
              "    .dataframe tbody tr th {\n",
              "        vertical-align: top;\n",
              "    }\n",
              "\n",
              "    .dataframe thead th {\n",
              "        text-align: right;\n",
              "    }\n",
              "</style>\n",
              "<table border=\"1\" class=\"dataframe\">\n",
              "  <thead>\n",
              "    <tr style=\"text-align: right;\">\n",
              "      <th></th>\n",
              "      <th>ID</th>\n",
              "      <th>acousticness</th>\n",
              "      <th>artists</th>\n",
              "      <th>danceability</th>\n",
              "      <th>duration_ms</th>\n",
              "      <th>energy</th>\n",
              "      <th>explicit</th>\n",
              "      <th>instrumentalness</th>\n",
              "      <th>key</th>\n",
              "      <th>liveness</th>\n",
              "      <th>loudness</th>\n",
              "      <th>mode</th>\n",
              "      <th>name</th>\n",
              "      <th>release_date</th>\n",
              "      <th>speechiness</th>\n",
              "      <th>tempo</th>\n",
              "      <th>valence</th>\n",
              "      <th>year</th>\n",
              "      <th>popularity</th>\n",
              "    </tr>\n",
              "  </thead>\n",
              "  <tbody>\n",
              "    <tr>\n",
              "      <th>48831</th>\n",
              "      <td>87840</td>\n",
              "      <td>0.10400</td>\n",
              "      <td>Roddy Ricch</td>\n",
              "      <td>0.896</td>\n",
              "      <td>196653</td>\n",
              "      <td>0.586</td>\n",
              "      <td>1</td>\n",
              "      <td>0.000000</td>\n",
              "      <td>10</td>\n",
              "      <td>0.7900</td>\n",
              "      <td>-6.687</td>\n",
              "      <td>0</td>\n",
              "      <td>The Box</td>\n",
              "      <td>2019-12-06</td>\n",
              "      <td>0.0559</td>\n",
              "      <td>116.971</td>\n",
              "      <td>0.642</td>\n",
              "      <td>2019</td>\n",
              "      <td>10</td>\n",
              "    </tr>\n",
              "    <tr>\n",
              "      <th>53417</th>\n",
              "      <td>87852</td>\n",
              "      <td>0.06860</td>\n",
              "      <td>Surf Mesa, Emilee</td>\n",
              "      <td>0.674</td>\n",
              "      <td>176547</td>\n",
              "      <td>0.774</td>\n",
              "      <td>0</td>\n",
              "      <td>0.001880</td>\n",
              "      <td>11</td>\n",
              "      <td>0.3930</td>\n",
              "      <td>-7.567</td>\n",
              "      <td>0</td>\n",
              "      <td>ily (i love you baby) (feat. Emilee)</td>\n",
              "      <td>2019-11-26</td>\n",
              "      <td>0.0892</td>\n",
              "      <td>112.050</td>\n",
              "      <td>0.330</td>\n",
              "      <td>2019</td>\n",
              "      <td>10</td>\n",
              "    </tr>\n",
              "    <tr>\n",
              "      <th>55036</th>\n",
              "      <td>87949</td>\n",
              "      <td>0.73100</td>\n",
              "      <td>Powfu, beabadoobee</td>\n",
              "      <td>0.726</td>\n",
              "      <td>173333</td>\n",
              "      <td>0.431</td>\n",
              "      <td>0</td>\n",
              "      <td>0.000000</td>\n",
              "      <td>8</td>\n",
              "      <td>0.6960</td>\n",
              "      <td>-8.765</td>\n",
              "      <td>0</td>\n",
              "      <td>death bed (coffee for your head) (feat. beabad...</td>\n",
              "      <td>2020-02-08</td>\n",
              "      <td>0.1350</td>\n",
              "      <td>144.026</td>\n",
              "      <td>0.348</td>\n",
              "      <td>2020</td>\n",
              "      <td>10</td>\n",
              "    </tr>\n",
              "    <tr>\n",
              "      <th>66427</th>\n",
              "      <td>87946</td>\n",
              "      <td>0.32100</td>\n",
              "      <td>Drake</td>\n",
              "      <td>0.834</td>\n",
              "      <td>247059</td>\n",
              "      <td>0.454</td>\n",
              "      <td>1</td>\n",
              "      <td>0.000006</td>\n",
              "      <td>1</td>\n",
              "      <td>0.1140</td>\n",
              "      <td>-9.750</td>\n",
              "      <td>0</td>\n",
              "      <td>Toosie Slide</td>\n",
              "      <td>2020-04-03</td>\n",
              "      <td>0.2010</td>\n",
              "      <td>81.618</td>\n",
              "      <td>0.837</td>\n",
              "      <td>2020</td>\n",
              "      <td>10</td>\n",
              "    </tr>\n",
              "    <tr>\n",
              "      <th>74507</th>\n",
              "      <td>87940</td>\n",
              "      <td>0.24700</td>\n",
              "      <td>DaBaby, Roddy Ricch</td>\n",
              "      <td>0.746</td>\n",
              "      <td>181733</td>\n",
              "      <td>0.690</td>\n",
              "      <td>1</td>\n",
              "      <td>0.000000</td>\n",
              "      <td>11</td>\n",
              "      <td>0.1010</td>\n",
              "      <td>-7.956</td>\n",
              "      <td>1</td>\n",
              "      <td>ROCKSTAR (feat. Roddy Ricch)</td>\n",
              "      <td>2020-04-17</td>\n",
              "      <td>0.1640</td>\n",
              "      <td>89.977</td>\n",
              "      <td>0.497</td>\n",
              "      <td>2020</td>\n",
              "      <td>10</td>\n",
              "    </tr>\n",
              "    <tr>\n",
              "      <th>96092</th>\n",
              "      <td>87941</td>\n",
              "      <td>0.23300</td>\n",
              "      <td>THE SCOTTS, Travis Scott, Kid Cudi</td>\n",
              "      <td>0.716</td>\n",
              "      <td>165978</td>\n",
              "      <td>0.537</td>\n",
              "      <td>1</td>\n",
              "      <td>0.000000</td>\n",
              "      <td>0</td>\n",
              "      <td>0.1570</td>\n",
              "      <td>-7.648</td>\n",
              "      <td>0</td>\n",
              "      <td>THE SCOTTS</td>\n",
              "      <td>2020-04-24</td>\n",
              "      <td>0.0514</td>\n",
              "      <td>129.979</td>\n",
              "      <td>0.280</td>\n",
              "      <td>2020</td>\n",
              "      <td>10</td>\n",
              "    </tr>\n",
              "    <tr>\n",
              "      <th>97256</th>\n",
              "      <td>87942</td>\n",
              "      <td>0.00146</td>\n",
              "      <td>The Weeknd</td>\n",
              "      <td>0.514</td>\n",
              "      <td>200040</td>\n",
              "      <td>0.730</td>\n",
              "      <td>0</td>\n",
              "      <td>0.000095</td>\n",
              "      <td>1</td>\n",
              "      <td>0.0897</td>\n",
              "      <td>-5.934</td>\n",
              "      <td>1</td>\n",
              "      <td>Blinding Lights</td>\n",
              "      <td>2020-03-20</td>\n",
              "      <td>0.0598</td>\n",
              "      <td>171.005</td>\n",
              "      <td>0.334</td>\n",
              "      <td>2020</td>\n",
              "      <td>10</td>\n",
              "    </tr>\n",
              "    <tr>\n",
              "      <th>104298</th>\n",
              "      <td>87844</td>\n",
              "      <td>0.30500</td>\n",
              "      <td>BENEE, Gus Dapperton</td>\n",
              "      <td>0.863</td>\n",
              "      <td>223480</td>\n",
              "      <td>0.631</td>\n",
              "      <td>1</td>\n",
              "      <td>0.000030</td>\n",
              "      <td>7</td>\n",
              "      <td>0.1230</td>\n",
              "      <td>-4.689</td>\n",
              "      <td>1</td>\n",
              "      <td>Supalonely</td>\n",
              "      <td>2019-11-15</td>\n",
              "      <td>0.0534</td>\n",
              "      <td>128.977</td>\n",
              "      <td>0.817</td>\n",
              "      <td>2019</td>\n",
              "      <td>10</td>\n",
              "    </tr>\n",
              "  </tbody>\n",
              "</table>\n",
              "</div>"
            ],
            "text/plain": [
              "           ID  acousticness  ...  year  popularity\n",
              "48831   87840       0.10400  ...  2019          10\n",
              "53417   87852       0.06860  ...  2019          10\n",
              "55036   87949       0.73100  ...  2020          10\n",
              "66427   87946       0.32100  ...  2020          10\n",
              "74507   87940       0.24700  ...  2020          10\n",
              "96092   87941       0.23300  ...  2020          10\n",
              "97256   87942       0.00146  ...  2020          10\n",
              "104298  87844       0.30500  ...  2019          10\n",
              "\n",
              "[8 rows x 19 columns]"
            ]
          },
          "metadata": {
            "tags": []
          },
          "execution_count": 50
        }
      ]
    },
    {
      "cell_type": "markdown",
      "metadata": {
        "id": "eVYMrDiPIf73"
      },
      "source": [
        "In continuare, calculam cate cantece are fiecare artist in DataFrame-ul cantecelor populare."
      ]
    },
    {
      "cell_type": "code",
      "metadata": {
        "id": "eAlEdryYmp4M",
        "colab": {
          "base_uri": "https://localhost:8080/",
          "height": 419
        },
        "outputId": "fbd1951d-53e2-48a9-d980-f0da7c49fdb1"
      },
      "source": [
        "y=train_top_x['artists'].value_counts().rename_axis('singers').reset_index(name='counts')\n",
        "y"
      ],
      "execution_count": null,
      "outputs": [
        {
          "output_type": "execute_result",
          "data": {
            "text/html": [
              "<div>\n",
              "<style scoped>\n",
              "    .dataframe tbody tr th:only-of-type {\n",
              "        vertical-align: middle;\n",
              "    }\n",
              "\n",
              "    .dataframe tbody tr th {\n",
              "        vertical-align: top;\n",
              "    }\n",
              "\n",
              "    .dataframe thead th {\n",
              "        text-align: right;\n",
              "    }\n",
              "</style>\n",
              "<table border=\"1\" class=\"dataframe\">\n",
              "  <thead>\n",
              "    <tr style=\"text-align: right;\">\n",
              "      <th></th>\n",
              "      <th>singers</th>\n",
              "      <th>counts</th>\n",
              "    </tr>\n",
              "  </thead>\n",
              "  <tbody>\n",
              "    <tr>\n",
              "      <th>0</th>\n",
              "      <td>BTS</td>\n",
              "      <td>56</td>\n",
              "    </tr>\n",
              "    <tr>\n",
              "      <th>1</th>\n",
              "      <td>One Direction</td>\n",
              "      <td>31</td>\n",
              "    </tr>\n",
              "    <tr>\n",
              "      <th>2</th>\n",
              "      <td>The Beatles</td>\n",
              "      <td>29</td>\n",
              "    </tr>\n",
              "    <tr>\n",
              "      <th>3</th>\n",
              "      <td>Lil Uzi Vert</td>\n",
              "      <td>29</td>\n",
              "    </tr>\n",
              "    <tr>\n",
              "      <th>4</th>\n",
              "      <td>Drake</td>\n",
              "      <td>28</td>\n",
              "    </tr>\n",
              "    <tr>\n",
              "      <th>...</th>\n",
              "      <td>...</td>\n",
              "      <td>...</td>\n",
              "    </tr>\n",
              "    <tr>\n",
              "      <th>3230</th>\n",
              "      <td>ABBA</td>\n",
              "      <td>1</td>\n",
              "    </tr>\n",
              "    <tr>\n",
              "      <th>3231</th>\n",
              "      <td>Offset, Metro Boomin</td>\n",
              "      <td>1</td>\n",
              "    </tr>\n",
              "    <tr>\n",
              "      <th>3232</th>\n",
              "      <td>Big Sean, E-40</td>\n",
              "      <td>1</td>\n",
              "    </tr>\n",
              "    <tr>\n",
              "      <th>3233</th>\n",
              "      <td>Eminem, Royce Da 5\\9\", Black Thought, Q-Tip, D...</td>\n",
              "      <td>1</td>\n",
              "    </tr>\n",
              "    <tr>\n",
              "      <th>3234</th>\n",
              "      <td>Thomasine Robinson</td>\n",
              "      <td>1</td>\n",
              "    </tr>\n",
              "  </tbody>\n",
              "</table>\n",
              "<p>3235 rows × 2 columns</p>\n",
              "</div>"
            ],
            "text/plain": [
              "                                                singers  counts\n",
              "0                                                   BTS      56\n",
              "1                                         One Direction      31\n",
              "2                                           The Beatles      29\n",
              "3                                          Lil Uzi Vert      29\n",
              "4                                                 Drake      28\n",
              "...                                                 ...     ...\n",
              "3230                                               ABBA       1\n",
              "3231                               Offset, Metro Boomin       1\n",
              "3232                                     Big Sean, E-40       1\n",
              "3233  Eminem, Royce Da 5\\9\", Black Thought, Q-Tip, D...       1\n",
              "3234                                 Thomasine Robinson       1\n",
              "\n",
              "[3235 rows x 2 columns]"
            ]
          },
          "metadata": {
            "tags": []
          },
          "execution_count": 51
        }
      ]
    },
    {
      "cell_type": "markdown",
      "metadata": {
        "id": "LDyGe8oqsGbh"
      },
      "source": [
        "Selectam doar artistii care au 15 sau mai multe piese populare, care ar garanta stabilitatea popularitatii:"
      ]
    },
    {
      "cell_type": "code",
      "metadata": {
        "id": "bY2KnxcOqgsP",
        "colab": {
          "base_uri": "https://localhost:8080/",
          "height": 855
        },
        "outputId": "22623b5e-e561-427e-b790-7b0035642bab"
      },
      "source": [
        "top_artist = y['counts'] >=15\n",
        "best_singers=y[top_artist]\n",
        "best_singers"
      ],
      "execution_count": null,
      "outputs": [
        {
          "output_type": "execute_result",
          "data": {
            "text/html": [
              "<div>\n",
              "<style scoped>\n",
              "    .dataframe tbody tr th:only-of-type {\n",
              "        vertical-align: middle;\n",
              "    }\n",
              "\n",
              "    .dataframe tbody tr th {\n",
              "        vertical-align: top;\n",
              "    }\n",
              "\n",
              "    .dataframe thead th {\n",
              "        text-align: right;\n",
              "    }\n",
              "</style>\n",
              "<table border=\"1\" class=\"dataframe\">\n",
              "  <thead>\n",
              "    <tr style=\"text-align: right;\">\n",
              "      <th></th>\n",
              "      <th>singers</th>\n",
              "      <th>counts</th>\n",
              "    </tr>\n",
              "  </thead>\n",
              "  <tbody>\n",
              "    <tr>\n",
              "      <th>0</th>\n",
              "      <td>BTS</td>\n",
              "      <td>56</td>\n",
              "    </tr>\n",
              "    <tr>\n",
              "      <th>1</th>\n",
              "      <td>One Direction</td>\n",
              "      <td>31</td>\n",
              "    </tr>\n",
              "    <tr>\n",
              "      <th>2</th>\n",
              "      <td>The Beatles</td>\n",
              "      <td>29</td>\n",
              "    </tr>\n",
              "    <tr>\n",
              "      <th>3</th>\n",
              "      <td>Lil Uzi Vert</td>\n",
              "      <td>29</td>\n",
              "    </tr>\n",
              "    <tr>\n",
              "      <th>4</th>\n",
              "      <td>Drake</td>\n",
              "      <td>28</td>\n",
              "    </tr>\n",
              "    <tr>\n",
              "      <th>5</th>\n",
              "      <td>Eminem</td>\n",
              "      <td>28</td>\n",
              "    </tr>\n",
              "    <tr>\n",
              "      <th>6</th>\n",
              "      <td>Taylor Swift</td>\n",
              "      <td>26</td>\n",
              "    </tr>\n",
              "    <tr>\n",
              "      <th>7</th>\n",
              "      <td>The Weeknd</td>\n",
              "      <td>25</td>\n",
              "    </tr>\n",
              "    <tr>\n",
              "      <th>8</th>\n",
              "      <td>XXXTENTACION</td>\n",
              "      <td>25</td>\n",
              "    </tr>\n",
              "    <tr>\n",
              "      <th>9</th>\n",
              "      <td>Billie Eilish</td>\n",
              "      <td>24</td>\n",
              "    </tr>\n",
              "    <tr>\n",
              "      <th>10</th>\n",
              "      <td>Juice WRLD</td>\n",
              "      <td>24</td>\n",
              "    </tr>\n",
              "    <tr>\n",
              "      <th>11</th>\n",
              "      <td>Twenty One Pilots</td>\n",
              "      <td>24</td>\n",
              "    </tr>\n",
              "    <tr>\n",
              "      <th>12</th>\n",
              "      <td>Travis Scott</td>\n",
              "      <td>22</td>\n",
              "    </tr>\n",
              "    <tr>\n",
              "      <th>13</th>\n",
              "      <td>NF</td>\n",
              "      <td>22</td>\n",
              "    </tr>\n",
              "    <tr>\n",
              "      <th>14</th>\n",
              "      <td>Ariana Grande</td>\n",
              "      <td>22</td>\n",
              "    </tr>\n",
              "    <tr>\n",
              "      <th>15</th>\n",
              "      <td>Harry Styles</td>\n",
              "      <td>20</td>\n",
              "    </tr>\n",
              "    <tr>\n",
              "      <th>16</th>\n",
              "      <td>Ed Sheeran</td>\n",
              "      <td>19</td>\n",
              "    </tr>\n",
              "    <tr>\n",
              "      <th>17</th>\n",
              "      <td>Lil Peep</td>\n",
              "      <td>19</td>\n",
              "    </tr>\n",
              "    <tr>\n",
              "      <th>18</th>\n",
              "      <td>Melanie Martinez</td>\n",
              "      <td>18</td>\n",
              "    </tr>\n",
              "    <tr>\n",
              "      <th>19</th>\n",
              "      <td>Kanye West</td>\n",
              "      <td>18</td>\n",
              "    </tr>\n",
              "    <tr>\n",
              "      <th>20</th>\n",
              "      <td>Coldplay</td>\n",
              "      <td>17</td>\n",
              "    </tr>\n",
              "    <tr>\n",
              "      <th>21</th>\n",
              "      <td>Justin Bieber</td>\n",
              "      <td>16</td>\n",
              "    </tr>\n",
              "    <tr>\n",
              "      <th>22</th>\n",
              "      <td>Dua Lipa</td>\n",
              "      <td>15</td>\n",
              "    </tr>\n",
              "    <tr>\n",
              "      <th>23</th>\n",
              "      <td>Bad Bunny</td>\n",
              "      <td>15</td>\n",
              "    </tr>\n",
              "    <tr>\n",
              "      <th>24</th>\n",
              "      <td>Katy Perry</td>\n",
              "      <td>15</td>\n",
              "    </tr>\n",
              "    <tr>\n",
              "      <th>25</th>\n",
              "      <td>Mac Miller</td>\n",
              "      <td>15</td>\n",
              "    </tr>\n",
              "  </tbody>\n",
              "</table>\n",
              "</div>"
            ],
            "text/plain": [
              "              singers  counts\n",
              "0                 BTS      56\n",
              "1       One Direction      31\n",
              "2         The Beatles      29\n",
              "3        Lil Uzi Vert      29\n",
              "4               Drake      28\n",
              "5              Eminem      28\n",
              "6        Taylor Swift      26\n",
              "7          The Weeknd      25\n",
              "8        XXXTENTACION      25\n",
              "9       Billie Eilish      24\n",
              "10         Juice WRLD      24\n",
              "11  Twenty One Pilots      24\n",
              "12       Travis Scott      22\n",
              "13                 NF      22\n",
              "14      Ariana Grande      22\n",
              "15       Harry Styles      20\n",
              "16         Ed Sheeran      19\n",
              "17           Lil Peep      19\n",
              "18   Melanie Martinez      18\n",
              "19         Kanye West      18\n",
              "20           Coldplay      17\n",
              "21      Justin Bieber      16\n",
              "22           Dua Lipa      15\n",
              "23          Bad Bunny      15\n",
              "24         Katy Perry      15\n",
              "25         Mac Miller      15"
            ]
          },
          "metadata": {
            "tags": []
          },
          "execution_count": 52
        }
      ]
    },
    {
      "cell_type": "markdown",
      "metadata": {
        "id": "v4sdjo4uuXxj"
      },
      "source": [
        "Cream o vizualizare:"
      ]
    },
    {
      "cell_type": "code",
      "metadata": {
        "id": "uU9BkYA1Lotf",
        "colab": {
          "base_uri": "https://localhost:8080/",
          "height": 502
        },
        "outputId": "25652572-782c-4b22-e72f-6616ec6f57b4"
      },
      "source": [
        "plt.figure(figsize=(12, 8))\n",
        "sns.set(style=\"whitegrid\")\n",
        "ax=sns.barplot(x=best_singers['counts'], y=best_singers['singers'])"
      ],
      "execution_count": null,
      "outputs": [
        {
          "output_type": "display_data",
          "data": {
            "image/png": "[encoded data removed]",
            "text/plain": [
              "<Figure size 864x576 with 1 Axes>"
            ]
          },
          "metadata": {
            "tags": []
          }
        }
      ]
    },
    {
      "cell_type": "markdown",
      "metadata": {
        "id": "zOkRjo90qtvE"
      },
      "source": [
        "Concluzie: Avem 26 de artisti care au 15 sau mai multe cantece cu o popularitate mare. Ipoteza s-a adeverit."
      ]
    }
  ]
}